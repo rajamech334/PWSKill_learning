{
 "cells": [
  {
   "cell_type": "markdown",
   "id": "0fe278a6-092e-47de-8d2d-7bb909b72079",
   "metadata": {},
   "source": [
    "Q)Write a python program using reduce function to compute the product of a list containing numbers from 1 to 25"
   ]
  },
  {
   "cell_type": "code",
   "execution_count": 2,
   "id": "90983408-1464-4557-a095-4305229f2bd4",
   "metadata": {},
   "outputs": [
    {
     "name": "stdout",
     "output_type": "stream",
     "text": [
      "325\n"
     ]
    }
   ],
   "source": [
    "from functools import reduce\n",
    "\n",
    "my_list = list(range(1, 26))\n",
    "product = reduce(lambda x, y: x + y, my_list)\n",
    "\n",
    "print(product)\n"
   ]
  }
 ],
 "metadata": {
  "kernelspec": {
   "display_name": "Python 3 (ipykernel)",
   "language": "python",
   "name": "python3"
  },
  "language_info": {
   "codemirror_mode": {
    "name": "ipython",
    "version": 3
   },
   "file_extension": ".py",
   "mimetype": "text/x-python",
   "name": "python",
   "nbconvert_exporter": "python",
   "pygments_lexer": "ipython3",
   "version": "3.10.8"
  }
 },
 "nbformat": 4,
 "nbformat_minor": 5
}
