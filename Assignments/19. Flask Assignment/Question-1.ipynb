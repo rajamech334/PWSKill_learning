{
 "cells": [
  {
   "cell_type": "markdown",
   "id": "d372fd98-4e4a-4888-8096-fb34729d841f",
   "metadata": {},
   "source": [
    "Q1. Explain GET and POST methods.\n"
   ]
  },
  {
   "cell_type": "markdown",
   "id": "8276c092-d238-473d-a955-d39f4b496b6b",
   "metadata": {},
   "source": [
    "Ans)\n",
    "\n",
    "In Flask, the GET and POST methods are used to handle HTTP requests from clients to the server. These methods are used to send data between the client and server, and are the two most commonly used HTTP methods.\n",
    "\n",
    "GET: The GET method is used to retrieve data from the server. When a client sends a GET request to the server, it is requesting data from the server, which is then returned as a response. In Flask, GET requests are typically used to retrieve data from a database or to display static content on a web page.\n",
    "\n",
    "POST: The POST method is used to send data to the server for processing. When a client sends a POST request to the server, it is sending data in the request body, which is then processed by the server. In Flask, POST requests are typically used to submit form data or to update data in a database."
   ]
  }
 ],
 "metadata": {
  "kernelspec": {
   "display_name": "Python 3 (ipykernel)",
   "language": "python",
   "name": "python3"
  },
  "language_info": {
   "codemirror_mode": {
    "name": "ipython",
    "version": 3
   },
   "file_extension": ".py",
   "mimetype": "text/x-python",
   "name": "python",
   "nbconvert_exporter": "python",
   "pygments_lexer": "ipython3",
   "version": "3.10.8"
  }
 },
 "nbformat": 4,
 "nbformat_minor": 5
}
