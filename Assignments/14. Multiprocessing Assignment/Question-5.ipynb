{
 "cells": [
  {
   "cell_type": "markdown",
   "id": "cea89013-89c9-4fe4-b074-9e737aa29b41",
   "metadata": {},
   "source": [
    "Q5. How can we create a pool of worker processes in python using the multiprocessing module?\n"
   ]
  },
  {
   "cell_type": "code",
   "execution_count": 1,
   "id": "5d6bc273-b4c0-46c6-8376-5591025ae340",
   "metadata": {},
   "outputs": [
    {
     "name": "stdout",
     "output_type": "stream",
     "text": [
      "[0, 1, 4, 9, 16, 25, 36, 49, 64, 81]\n"
     ]
    }
   ],
   "source": [
    "import multiprocessing\n",
    "\n",
    "def worker(x):\n",
    "    \"\"\"A simple function to demonstrate multiprocessing\"\"\"\n",
    "    return x * x\n",
    "\n",
    "if __name__ == '__main__':\n",
    "    # Create a pool of worker processes\n",
    "    with multiprocessing.Pool(processes=4) as pool:\n",
    "        # Apply the worker function to the numbers 0 to 9 in parallel\n",
    "        results = pool.map(worker, range(10))\n",
    "        # Print the results\n",
    "        print(results)\n",
    "\n",
    "\n"
   ]
  },
  {
   "cell_type": "markdown",
   "id": "4907e653-bc6c-4969-aad4-cb3f333e9a8f",
   "metadata": {},
   "source": [
    "In above example, we create a pool of four worker processes using the Pool constructor. We then use the map() method to apply the worker() function to the numbers 0 to 9, and return a list of the results. The pool automatically distributes the work among the worker processes, allowing us to perform the calculations in parallel."
   ]
  },
  {
   "cell_type": "code",
   "execution_count": null,
   "id": "21e43a71-885b-4ef0-b171-4279045cfd81",
   "metadata": {},
   "outputs": [],
   "source": []
  }
 ],
 "metadata": {
  "kernelspec": {
   "display_name": "Python 3 (ipykernel)",
   "language": "python",
   "name": "python3"
  },
  "language_info": {
   "codemirror_mode": {
    "name": "ipython",
    "version": 3
   },
   "file_extension": ".py",
   "mimetype": "text/x-python",
   "name": "python",
   "nbconvert_exporter": "python",
   "pygments_lexer": "ipython3",
   "version": "3.10.8"
  }
 },
 "nbformat": 4,
 "nbformat_minor": 5
}
