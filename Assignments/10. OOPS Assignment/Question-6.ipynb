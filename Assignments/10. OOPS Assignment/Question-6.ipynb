{
 "cells": [
  {
   "cell_type": "markdown",
   "id": "2f75f3ac-11f1-45d3-8ecd-95e03320530a",
   "metadata": {},
   "source": [
    "Q6. Explain the write() and writelines() functions. Give a suitable example."
   ]
  },
  {
   "cell_type": "markdown",
   "id": "97fec378-54d7-465a-b57f-85f3b6b20168",
   "metadata": {},
   "source": [
    "Ans)\n",
    "\n",
    "write() function:\n",
    "The write() function writes a string of data to the file. If the file already contains data, the new data will be appended to the end of the existing data. If the file does not exist, it will be created.\n"
   ]
  },
  {
   "cell_type": "code",
   "execution_count": 2,
   "id": "acbcbb4e-6cfd-44b4-9cfb-b194c72ac2ad",
   "metadata": {},
   "outputs": [],
   "source": [
    "# Open file in write mode\n",
    "file = open('example.txt', 'w')\n",
    "\n",
    "# Write data to file\n",
    "file.write('This is a sample text\\n')\n",
    "file.write('This is another line of text\\n')\n",
    "\n",
    "# Close file\n",
    "file.close()\n"
   ]
  },
  {
   "cell_type": "markdown",
   "id": "89f03f5c-6ba5-4ac9-8b28-8e636c7633f4",
   "metadata": {},
   "source": [
    "\n",
    "writelines() function:\n",
    "The writelines() function writes a list of strings to the file. Each string in the list is written to the file as a separate line"
   ]
  },
  {
   "cell_type": "code",
   "execution_count": 3,
   "id": "a10f676c-c821-4c39-9366-d7059f944cfc",
   "metadata": {},
   "outputs": [],
   "source": [
    "# Open file in write mode\n",
    "file = open('example.txt', 'w')\n",
    "\n",
    "# Write list of strings to file\n",
    "lines = ['This is a sample text\\n', 'This is another line of text\\n']\n",
    "file.writelines(lines)\n",
    "\n",
    "# Close file\n",
    "file.close()\n"
   ]
  },
  {
   "cell_type": "code",
   "execution_count": null,
   "id": "345b541f-c6cf-4af3-97df-277c4c91c302",
   "metadata": {},
   "outputs": [],
   "source": []
  }
 ],
 "metadata": {
  "kernelspec": {
   "display_name": "Python 3 (ipykernel)",
   "language": "python",
   "name": "python3"
  },
  "language_info": {
   "codemirror_mode": {
    "name": "ipython",
    "version": 3
   },
   "file_extension": ".py",
   "mimetype": "text/x-python",
   "name": "python",
   "nbconvert_exporter": "python",
   "pygments_lexer": "ipython3",
   "version": "3.10.8"
  }
 },
 "nbformat": 4,
 "nbformat_minor": 5
}
