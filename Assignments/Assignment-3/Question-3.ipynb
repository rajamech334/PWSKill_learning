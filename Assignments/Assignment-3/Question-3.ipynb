{
 "cells": [
  {
   "cell_type": "markdown",
   "id": "ea67ee64-b728-4eda-9c14-50cd5b2f2d54",
   "metadata": {},
   "source": [
    "Set data type in python will not allow the duplicate items."
   ]
  },
  {
   "cell_type": "code",
   "execution_count": 15,
   "id": "224a9cf6-670c-4af0-9f32-228efce6e651",
   "metadata": {},
   "outputs": [],
   "source": [
    "List = [1,1,1,2,1,3,1,4,2,1,2,2,2,3,2,4,3,1,3,2,3,3,3,4,4,1,4,2,4,3,4,4]"
   ]
  },
  {
   "cell_type": "code",
   "execution_count": 16,
   "id": "3c57de7e-a1b2-4c64-a83f-214284ea81a7",
   "metadata": {},
   "outputs": [],
   "source": [
    "a = set(List)"
   ]
  },
  {
   "cell_type": "code",
   "execution_count": 17,
   "id": "e4676250-0bf5-4ba7-951a-bb0e388e9d3f",
   "metadata": {},
   "outputs": [
    {
     "data": {
      "text/plain": [
       "{1, 2, 3, 4}"
      ]
     },
     "execution_count": 17,
     "metadata": {},
     "output_type": "execute_result"
    }
   ],
   "source": [
    "a"
   ]
  }
 ],
 "metadata": {
  "kernelspec": {
   "display_name": "Python 3 (ipykernel)",
   "language": "python",
   "name": "python3"
  },
  "language_info": {
   "codemirror_mode": {
    "name": "ipython",
    "version": 3
   },
   "file_extension": ".py",
   "mimetype": "text/x-python",
   "name": "python",
   "nbconvert_exporter": "python",
   "pygments_lexer": "ipython3",
   "version": "3.10.8"
  }
 },
 "nbformat": 4,
 "nbformat_minor": 5
}
