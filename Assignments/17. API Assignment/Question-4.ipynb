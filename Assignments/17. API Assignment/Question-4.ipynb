{
 "cells": [
  {
   "cell_type": "markdown",
   "id": "92b7f04e-bb8b-4453-9d62-025d1a021b9d",
   "metadata": {},
   "source": [
    "Q4) Explain REST and SOAP Architecture. Mention shortcomings of SOAP.\n"
   ]
  },
  {
   "cell_type": "markdown",
   "id": "658e8875-3a72-4ac3-b8d0-b96ae860fb31",
   "metadata": {},
   "source": [
    "Ans) \n",
    "\n",
    "REST (Representational State Transfer) and SOAP (Simple Object Access Protocol) are two architectural styles used for building web services. Here is an explanation of both:\n",
    "\n",
    "REST Architecture:\n",
    "\n",
    "REST is an architectural style that uses HTTP for communication between web-based applications. It relies on a set of principles that emphasize the use of standard HTTP verbs like GET, POST, PUT, and DELETE to perform operations on resources identified by URIs (Uniform Resource Identifiers). RESTful web services are stateless, meaning that the server does not store any information about previous requests.\n",
    "\n",
    "SOAP Architecture:\n",
    "\n",
    "SOAP is an XML-based protocol that uses XML messages to exchange data between web-based applications. It is a more complex architecture than REST and provides more features like security, transaction management, and reliable messaging. SOAP web services use a messaging model, where the client sends a request to the server, and the server sends back a response"
   ]
  }
 ],
 "metadata": {
  "kernelspec": {
   "display_name": "Python 3 (ipykernel)",
   "language": "python",
   "name": "python3"
  },
  "language_info": {
   "codemirror_mode": {
    "name": "ipython",
    "version": 3
   },
   "file_extension": ".py",
   "mimetype": "text/x-python",
   "name": "python",
   "nbconvert_exporter": "python",
   "pygments_lexer": "ipython3",
   "version": "3.10.8"
  }
 },
 "nbformat": 4,
 "nbformat_minor": 5
}
