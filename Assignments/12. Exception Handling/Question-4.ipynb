{
 "cells": [
  {
   "cell_type": "markdown",
   "id": "8de2b347-214b-4cb5-b663-1258a89528be",
   "metadata": {},
   "source": [
    "Q4. Explain with an example "
   ]
  },
  {
   "cell_type": "code",
   "execution_count": 3,
   "id": "c39292d0-f43c-40ed-b3fb-1f3ba3311e92",
   "metadata": {},
   "outputs": [
    {
     "name": "stdin",
     "output_type": "stream",
     "text": [
      "Enter a number:  raja\n"
     ]
    },
    {
     "name": "stdout",
     "output_type": "stream",
     "text": [
      "Invalid input\n"
     ]
    }
   ],
   "source": [
    "# a. try and else\n",
    "try:\n",
    "    # code that may raise an exception\n",
    "    x = int(input(\"Enter a number: \"))\n",
    "except ValueError:\n",
    "    # code that handles a ValueError\n",
    "    print(\"Invalid input\")\n",
    "else:\n",
    "    # code that is executed if no exception is raised\n",
    "    print(\"The square of\", x, \"is\", x ** 2)\n"
   ]
  },
  {
   "cell_type": "code",
   "execution_count": 4,
   "id": "b4988b8d-f354-45a3-9d49-d9cc1b485f62",
   "metadata": {},
   "outputs": [
    {
     "name": "stdin",
     "output_type": "stream",
     "text": [
      "Enter a number:  raja\n"
     ]
    },
    {
     "name": "stdout",
     "output_type": "stream",
     "text": [
      "Invalid input\n",
      "Done\n"
     ]
    }
   ],
   "source": [
    "# b. finally\n",
    "try:\n",
    "    # code that may raise an exception\n",
    "    x = int(input(\"Enter a number: \"))\n",
    "    result = 100 / x\n",
    "except ValueError:\n",
    "    # code that handles a ValueError\n",
    "    print(\"Invalid input\")\n",
    "except ZeroDivisionError:\n",
    "    # code that handles a ZeroDivisionError\n",
    "    print(\"Cannot divide by zero\")\n",
    "else:\n",
    "    # code that is executed if no exception is raised\n",
    "    print(\"The result is\", result)\n",
    "finally:\n",
    "    # code that is always executed, regardless of whether an exception is raised or not\n",
    "    print(\"Done\")\n"
   ]
  },
  {
   "cell_type": "code",
   "execution_count": 5,
   "id": "8dcb8095-3006-490a-9f39-16b3b96c6389",
   "metadata": {},
   "outputs": [
    {
     "name": "stdout",
     "output_type": "stream",
     "text": [
      "50.0\n",
      "Error: Quantity cannot be negative\n"
     ]
    }
   ],
   "source": [
    "# Raise example\n",
    "def calculate_price(quantity):\n",
    "    if quantity < 0:\n",
    "        raise ValueError(\"Quantity cannot be negative\")\n",
    "    price = 10.0\n",
    "    total_price = quantity * price\n",
    "    return total_price\n",
    "\n",
    "try:\n",
    "    print(calculate_price(5))\n",
    "    print(calculate_price(-1))\n",
    "except ValueError as e:\n",
    "    print(\"Error:\", e)\n"
   ]
  },
  {
   "cell_type": "code",
   "execution_count": null,
   "id": "02890bc7-7385-4c32-8739-6c4e3902cca3",
   "metadata": {},
   "outputs": [],
   "source": []
  }
 ],
 "metadata": {
  "kernelspec": {
   "display_name": "Python 3 (ipykernel)",
   "language": "python",
   "name": "python3"
  },
  "language_info": {
   "codemirror_mode": {
    "name": "ipython",
    "version": 3
   },
   "file_extension": ".py",
   "mimetype": "text/x-python",
   "name": "python",
   "nbconvert_exporter": "python",
   "pygments_lexer": "ipython3",
   "version": "3.10.8"
  }
 },
 "nbformat": 4,
 "nbformat_minor": 5
}
