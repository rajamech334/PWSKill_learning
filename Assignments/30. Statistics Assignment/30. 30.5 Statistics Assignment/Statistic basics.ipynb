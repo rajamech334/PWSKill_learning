{
 "cells": [
  {
   "cell_type": "markdown",
   "id": "e34bed35-716a-41f1-9ef8-101afe9f4ca6",
   "metadata": {},
   "source": [
    "Q1. What are the three measures of central tendency?\n",
    "Ans)\n",
    "\n",
    "1. Mean: The arithmetic average of a set of numbers. It is calculated by adding all the numbers together and then dividing by the number of values.\n",
    "\n",
    "2. Median: The middle value in a set of numbers when they are arranged in ascending or descending order. If the number of values is even, the median is the average of the two middle numbers.\n",
    "\n",
    "3. Mode: The value that occurs most frequently in a data set. A data set may have one mode, more than one mode, or no mode at all if no number repeats."
   ]
  },
  {
   "cell_type": "markdown",
   "id": "a3393df3-fdef-49ac-9f81-5fab4b4171b7",
   "metadata": {},
   "source": [
    "Q2. What is the difference between the mean, median, and mode? How are they used to measure the \n",
    "central tendency of a dataset?\n",
    "\n",
    "Ans) \n",
    "\n",
    "The mean, median, and mode are three different measures of central tendency used in statistics to describe the center point or typical value of a dataset.\n",
    "\n",
    "1. Data Requirement - \n",
    "    1. Mean - Requires numerical data\n",
    "    2. Median - Requires at least ordinal data\n",
    "    3. Mode - Applicable to both numerical and categorical data\n",
    "2. Sensitivity to Outliers - \n",
    "    1. Mean - Highly sensitive to outliers\n",
    "    2. Median- Not sensitive to outliers\n",
    "    3. Mode - Not affected by outliers\n",
    "3. Applicability - \n",
    "    1. Mean - Best for symmetric distributions without outliers\n",
    "    2. Median - Best for skewed distributions or data with outliers\n",
    "    3. Mode - Best for categorical data or finding the most common value\n",
    "4. Computation Complexity - \n",
    "    1. Mena - Simple arithmetic\n",
    "    2. Median - Requires sorting the data first\n",
    "    3. Mode - Counting frequencies of values\n",
    "    \n",
    "To measure of central tendency\n",
    "    1. Mean - The mean represents the central point of the data distribution. It takes into account every value, providing a comprehensive measure of central tendency. However, it can be affected by extreme values (outliers).\n",
    "    \n",
    "    2. Median - The median represents the center of the dataset. It is not influenced by outliers or skewed data, making it a reliable measure of central tendency for datasets with extreme values.\n",
    "    3. Mode - The mode indicates the most common value in the dataset. It is especially useful for categorical data where numerical measures (mean, median) are not meaningful."
   ]
  },
  {
   "cell_type": "markdown",
   "id": "b959af82-941b-40f3-9f6f-ffa351750185",
   "metadata": {},
   "source": [
    "Q3. Measure the three measures of central tendency for the given height data:\n",
    "[178,177,176,177,178.2,178,175,179,180,175,178.9,176.2,177,172.5,178,176.5]\n",
    "\n",
    "#Ans)\n",
    "\n",
    "1. Mean - \n",
    "    Step-1: calculate sum of all numbers\n",
    "        Sum=(178+177+176+177+178.2+178+175+179+180+175+178.9+176.2+177+172.5+178+176.5)\n",
    "    Step-2: Compute sum/count of numbers\n",
    "        Mean = 2822.3/16 = 176.39\n",
    "2. Median - \n",
    "    Step-1: Sort all values in asending order\n",
    "        values = [172.5,175,175,176,176,176.2,176.5,177,177,177,178,178,178,178.2,178.9,179,180]\n",
    "    step-2: With 16 values, the median will be the average of the 8th and 9th values.\n",
    "        8th value - 177\n",
    "        9th Value - 177\n",
    "    step-3: \n",
    "        Meadian = (177+177)/2 = 177\n",
    "3. Mode- \n",
    "    Step-1: The mode is the value that appears most frequently in the dataset.\n",
    "    Step-2: From the given data the most appered numbers are : 177,178"
   ]
  },
  {
   "cell_type": "code",
   "execution_count": 1,
   "id": "5c7b5eff-bf10-4008-9e9b-f7ca7118000f",
   "metadata": {},
   "outputs": [
    {
     "name": "stdout",
     "output_type": "stream",
     "text": [
      "Mean: 177.01875\n",
      "Median: 177.0\n",
      "Mode: [178, 177]\n"
     ]
    }
   ],
   "source": [
    "# Python program for thcomputing the Mean, Median and Mode\n",
    "import statistics\n",
    "\n",
    "# Given height data\n",
    "heights = [178, 177, 176, 177, 178.2, 178, 175, 179, 180, 175, 178.9, 176.2, 177, 172.5, 178, 176.5]\n",
    "\n",
    "# Calculating mean\n",
    "mean = sum(heights) / len(heights)\n",
    "\n",
    "# Calculating median\n",
    "median = statistics.median(heights)\n",
    "\n",
    "# Calculaing mode(s)\n",
    "mode = statistics.multimode(heights)\n",
    "\n",
    "print(f\"Mean: {mean}\")\n",
    "print(f\"Median: {median}\")\n",
    "print(f\"Mode: {mode}\")\n"
   ]
  },
  {
   "cell_type": "code",
   "execution_count": 3,
   "id": "1adbc142-4c89-4338-bdec-cd603f8e9124",
   "metadata": {},
   "outputs": [
    {
     "name": "stdout",
     "output_type": "stream",
     "text": [
      "Standard Deviation: 1.7885814036548633\n"
     ]
    }
   ],
   "source": [
    " # Q4. Find the standard deviation for the given data:\n",
    "\n",
    "#[178,177,176,177,178.2,178,175,179,180,175,178.9,176.2,177,172.5,178,176.5]\n",
    "\n",
    "#Ans)\n",
    "\n",
    "import math\n",
    "\n",
    "heights = [178, 177, 176, 177, 178.2, 178, 175, 179, 180, 175, 178.9, 176.2, 177, 172.5, 178, 176.5]\n",
    "mean = sum(heights) / len(heights)\n",
    "squared_diff = [(x - mean) ** 2 for x in heights]\n",
    "average_squared_diff = sum(squared_diff) / len(squared_diff)\n",
    "std_dev = math.sqrt(average_squared_diff)\n",
    "print(f\"Standard Deviation: {std_dev}\")\n"
   ]
  },
  {
   "cell_type": "markdown",
   "id": "6a3d4dac-0b7f-40b9-b62d-8aa4529ae908",
   "metadata": {},
   "source": [
    "Q5. How are measures of dispersion such as range, variance, and standard deviation used to describe \n",
    "the spread of a dataset? Provide an example.\n",
    "\n",
    "ans)\n",
    "\n",
    "Measures of dispersion such as range, variance, and standard deviation are used to quantify the extent of spread or variability within a dataset. \n",
    "\n",
    "1. Range \n",
    "    1. The range is the difference between the maximum and minimum values in a dataset.\n",
    "    2. It provides a quick and simple measure of how spread out the values in the dataset are.\n",
    "2. Variance\n",
    "    1. Variance measures how much each number in the dataset differs from the mean of the dataset. It is calculated by averaging the squared differences from the mean\n",
    "    2. It provides a measure of the average squared deviation of each data point from the mean. A higher variance indicates greater variability.\n",
    "3. Standard Deviation\n",
    "    1. Standard deviation is the square root of the variance. It measures the amount of variation or dispersion of a dataset.\n",
    "    2. It is widely used because it is in the same units as the original data and provides a more interpretable measure compared to variance.\n",
    "    \n"
   ]
  },
  {
   "cell_type": "code",
   "execution_count": 4,
   "id": "4da81a98-4e23-48fc-b359-a807583fb95c",
   "metadata": {},
   "outputs": [
    {
     "name": "stdout",
     "output_type": "stream",
     "text": [
      "Dataset of daily temperatures: [22, 23, 21, 24, 22, 25, 20, 23, 25, 26, 21, 22, 24, 23, 22, 21, 20, 25, 26, 24, 23, 22, 21, 20, 25, 24, 23, 22, 24, 25]\n",
      "Range: 6\n",
      "Variance: 3.062222222222222\n",
      "Standard Deviation: 1.7499206331208916\n"
     ]
    }
   ],
   "source": [
    "#Example for Dispersion such as range, variance, and standard deviation using temperature sensor data\n",
    "\n",
    "import math\n",
    "\n",
    "# Given dataset of daily temperatures (in degrees Celsius)\n",
    "temperatures = [22, 23, 21, 24, 22, 25, 20, 23, 25, 26, 21, 22, 24, 23, 22, 21, 20, 25, 26, 24, 23, 22, 21, 20, 25, 24, 23, 22, 24, 25]\n",
    "\n",
    "# Calculating Range\n",
    "temperature_range = max(temperatures) - min(temperatures)\n",
    "\n",
    "# Calculaing Mean\n",
    "mean_temperature = sum(temperatures) / len(temperatures)\n",
    "\n",
    "# Calculating Variance\n",
    "squared_diff = [(x - mean_temperature) ** 2 for x in temperatures]\n",
    "variance_temperature = sum(squared_diff) / len(temperatures)\n",
    "\n",
    "# Calculating Standard Deviation\n",
    "std_dev_temperature = math.sqrt(variance_temperature)\n",
    "\n",
    "# Print results\n",
    "print(f\"Dataset of daily temperatures: {temperatures}\")\n",
    "print(f\"Range: {temperature_range}\")\n",
    "print(f\"Variance: {variance_temperature}\")\n",
    "print(f\"Standard Deviation: {std_dev_temperature}\")\n"
   ]
  },
  {
   "cell_type": "markdown",
   "id": "b24727df-e416-4efe-a39a-7dc765eafa3a",
   "metadata": {},
   "source": [
    "Q6. What is a Venn diagram?\n",
    "\n",
    "ans)\n",
    "\n",
    "A Venn diagram is a graphical representation used to illustrate relationships between sets of elements. It visually depicts the intersections and differences among different sets or groups of data. "
   ]
  },
  {
   "cell_type": "markdown",
   "id": "8d385f0d-a398-4aaf-8711-d041c2681186",
   "metadata": {},
   "source": [
    "Q7. For the two given sets A = (2,3,4,5,6,7) & B = (0,2,6,8,10). \n",
    "Ans)\n",
    "\n",
    "1. Intersection (A ∩ B) : {2,6}\n",
    "2. Union (A ⋃ B) : {0,2,3,4,5,6,7,8,10}\n"
   ]
  },
  {
   "cell_type": "markdown",
   "id": "9396d7f0-a141-4657-8af1-0acdb1e550ed",
   "metadata": {},
   "source": [
    "Q8. What do you understand about skewness in data?\n",
    "ans)\n",
    "\n",
    "Skewness in data refers to the asymmetry or lack of symmetry in the distribution of data points. It is a measure that describes the degree and direction of asymmetry in a dataset relative to its mean"
   ]
  },
  {
   "cell_type": "markdown",
   "id": "607e27ef-f32b-4f58-8556-ab0d21701e93",
   "metadata": {},
   "source": [
    "Q9. If a data is right skewed then what will be the position of median with respect to mean?\n",
    "ans)\n",
    "\n",
    "1. In a right-skewed also called positively skewed distribution, the tail of the distribution extends towards the right, indicating that there are relatively more data points with lower values and fewer data points with higher values compared to a symmetric distribution.\n",
    "\n",
    "2. In a right-skewed distribution, the mean is typically greater than the median. Because the mean is sensitive to extreme values in the higher end of the distribution."
   ]
  },
  {
   "cell_type": "markdown",
   "id": "7d58c35f-a1c0-4bd7-96a2-e01911eaffda",
   "metadata": {},
   "source": [
    "Q10. Explain the difference between covariance and correlation. How are these measures used in \n",
    "statistical analysis?\n",
    "\n",
    "Ans)\n",
    "\n",
    "Covariance and correlation are both measures used in statistics to assess the relationship between two variables.\n",
    "\n",
    "1. Covariance - It measures the directional relationship between two variables. It indicates how much two variables change together\n",
    "2. Correlation - It measures both the strength and direction of the linear relationship between two variables. It standardizes the covariance by dividing it by the product of the standard deviations of the variables.\n",
    "\n",
    "Differences:\n",
    "1. Covariance measures the extent to which two variables change together, while correlation standardizes this measure\n",
    "2. Covariance can take any value, positive or negative, while correlation is bounded between -1 and +1\n",
    "3. Correlation is more interpretable than covariance because it standardizes the measure and removes the influence of the scale of the variables\n",
    "\n",
    "How They Are Used in Statistical Analysis:\n",
    "1. Covariance:\n",
    "    1. Provides insight into the direction of the relationship between variables.\n",
    "    2. Used in finance to assess the risk and return relationship between assets.\n",
    "    3. Helps in identifying patterns and trends in data.\n",
    "2. Correlation:\n",
    "    1. Standardizes the relationship between variables, allowing for easier comparison.\n",
    "    2. Widely used in fields like economics, social sciences, and biology to analyze relationships between variables.\n",
    "    3. Helps in making predictions and decisions based on the strength and direction of the relationship."
   ]
  },
  {
   "cell_type": "markdown",
   "id": "f3d37561-4bb9-488b-b16d-20cda7bd979f",
   "metadata": {},
   "source": [
    "Q11. What is the formula for calculating the sample mean? Provide an example calculation for a \n",
    "dataset.\n",
    "\n",
    "ans)\n",
    "The sample mean, often denoted as xˉ, is a measure of central tendency that represents the average value of a dataset. It is calculated by summing all the values in the dataset and dividing by the number of observations n.\n",
    "\n",
    "Example Calculation:\n",
    "X={10,12,15,18,20}\n",
    "1. Calculate Sum=10+12+15+18+20=75\n",
    "2. Number of observations (n) = 5\n",
    "3. Calculate the sample mean: 75/5 = 15\n"
   ]
  },
  {
   "cell_type": "markdown",
   "id": "bba47863-c1bf-4d5b-8089-39d93b6bf834",
   "metadata": {},
   "source": [
    "Q12. For a normal distribution data what is the relationship between its measure of central tendency?\n",
    "\n",
    "ans)\n",
    "In a normal distribution, also known as a Gaussian distribution, there is a specific relationship between its measures of central tendency, namely the mean, median, and mode.\n",
    "\n",
    "1. Mean\n",
    "    1. The mean (μ) of a normal distribution is the arithmetic average of all the data points.\n",
    "    2. For a normal distribution, the mean is located at the center of symmetry, equidistant from both tails.\n",
    "2. Median \n",
    "    1. The median of a normal distribution is also located at the center of the distribution.\n",
    "    2. In a symmetric normal distribution, the mean and the median are exactly the same.\n",
    "3. Mode\n",
    "    1. The mode of a normal distribution is the point of highest frequency, where the peak of the distribution occurs.\n",
    "    2. In a normal distribution, the mode is equal to the mean and median.\n"
   ]
  },
  {
   "cell_type": "markdown",
   "id": "65208641-461c-4992-9c22-9dc5c111ba30",
   "metadata": {},
   "source": [
    "Q13. How is covariance different from correlation?\n",
    "\n",
    "ans)\n",
    "Covariance and correlation are both measures used to assess the relationship between two variables, but they differ in their scale, interpretation, and usefulness in statistical analysis.\n",
    "\n",
    "Differences:\n",
    "1. Scale: Covariance can take any value, positive or negative, depending on the data, while correlation is bounded between -1 and +1.\n",
    "2. Standardization: Correlation standardizes the measure of the relationship between variables by taking into account the variability (standard deviations) of the variables.\n",
    "3. Interpretability: Correlation is more interpretable than covariance because it removes the influence of the scale of the variables, allowing for easier comparison of the strength and direction of relationships.\n",
    "4. Usage: Covariance is useful for understanding the directional relationship between variables, while correlation is widely used for comparing the strength and direction of linear relationships, particularly in fields like finance, economics, and social sciences\n"
   ]
  },
  {
   "cell_type": "markdown",
   "id": "b8c04cc1-1310-4004-9c83-67c20efca0b7",
   "metadata": {},
   "source": [
    "Q14. How do outliers affect measures of central tendency and dispersion? Provide an example.\n",
    "\n",
    "ans)\n",
    "\n",
    "Outliers can significantly impact measures of central tendency and dispersion in a dataset. Here's how they affect these measures\n",
    "\n",
    "1. Measures of Central Tendency:\n",
    "    Let us consider the sample temperature data set as = [30,35,40,45,50,1000]\n",
    "    1. Mean:\n",
    "        1. Without the outlier (1000), the mean temperature is 30+35+40+45+50 = 40.\n",
    "        2. With the outlier included, the mean temperature becomes 30+35+40+45+50+1000=210.83.\n",
    "        \n",
    "        conclusion : The outlier significantly increases the mean, making it less representative of the typical tempertatur in the dataset\n",
    "        \n",
    "    2. Median:\n",
    "        1. The median remains 42.5 (average of 40 and 45), unaffected by the outlier.\n",
    "        \n",
    "        Conclusion : Median not effected by outlier\n",
    "    3. Mode: \n",
    "        1. The mode is no mode because no value repeats\n",
    "        \n",
    "        Conclusion : No effect with outlier\n",
    "\n",
    "2. Measures of Dispersion:\n",
    "    1. Range:\n",
    "        1. Outliers can increase the range significantly by extending the distance between the maximum and minimum values.\n",
    "        2. Range without outlier: 50−30=20.\n",
    "        3. Range with outlier:1000−30=970.\n",
    "        \n",
    "        Conclusion : Range will get effected because of outlier\n",
    "    2. Variance and Standard Deviation:\n",
    "        1. Variance without outlier: 214.17.\n",
    "        2. Variance with outlier: 60178.33\n",
    "        \n",
    "        Conclusion : Vaiance will get effected because of outlier\n"
   ]
  },
  {
   "cell_type": "code",
   "execution_count": null,
   "id": "54695e3a-e9d7-45e9-88e7-d73fd9a3d7af",
   "metadata": {},
   "outputs": [],
   "source": []
  }
 ],
 "metadata": {
  "kernelspec": {
   "display_name": "Python 3 (ipykernel)",
   "language": "python",
   "name": "python3"
  },
  "language_info": {
   "codemirror_mode": {
    "name": "ipython",
    "version": 3
   },
   "file_extension": ".py",
   "mimetype": "text/x-python",
   "name": "python",
   "nbconvert_exporter": "python",
   "pygments_lexer": "ipython3",
   "version": "3.10.8"
  }
 },
 "nbformat": 4,
 "nbformat_minor": 5
}
