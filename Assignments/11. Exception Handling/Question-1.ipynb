{
 "cells": [
  {
   "cell_type": "markdown",
   "id": "0414023e-ebcd-4567-b67c-2d90a02bbbd3",
   "metadata": {},
   "source": [
    "Q) What is an Exception in python? Write the difference between Exceptions and Syntax errors"
   ]
  },
  {
   "cell_type": "markdown",
   "id": "3476a948-fd3f-4ce6-835a-32be116da9d3",
   "metadata": {},
   "source": [
    "Ans)\n",
    "\n",
    "Exception in python is used for the handling the unexpected errors in logic caused by data processing.\n",
    "The difference between exception and syntax errors\n",
    "Exceptions - will handle the errors caused while data processing and make sure the there is not code break\n",
    "Syntax errors - Syntax errors are the errors generated during the code development which causes the code breaks during the runtime"
   ]
  },
  {
   "cell_type": "code",
   "execution_count": null,
   "id": "55168933-6888-474c-99b8-883c930b3b58",
   "metadata": {},
   "outputs": [],
   "source": []
  }
 ],
 "metadata": {
  "kernelspec": {
   "display_name": "Python 3 (ipykernel)",
   "language": "python",
   "name": "python3"
  },
  "language_info": {
   "codemirror_mode": {
    "name": "ipython",
    "version": 3
   },
   "file_extension": ".py",
   "mimetype": "text/x-python",
   "name": "python",
   "nbconvert_exporter": "python",
   "pygments_lexer": "ipython3",
   "version": "3.10.8"
  }
 },
 "nbformat": 4,
 "nbformat_minor": 5
}
