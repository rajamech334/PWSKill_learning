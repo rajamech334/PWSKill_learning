{
 "cells": [
  {
   "cell_type": "markdown",
   "id": "1ff41d69-7b71-444f-9ea3-6de7ff830c0a",
   "metadata": {},
   "source": [
    "Q4. What are templates in Flask? Why is the render_template() function used?\n"
   ]
  },
  {
   "cell_type": "markdown",
   "id": "8ce2d7c1-16b4-4342-99e7-2446fba7b51e",
   "metadata": {},
   "source": [
    "Ans) \n",
    "In Flask, templates are used to generate HTML pages dynamically. A template is a file that contains placeholders for dynamic data, such as variables, conditional statements, and loops. When a Flask application receives a request, it uses a template to generate an HTML page that is sent back to the client.\n",
    "\n",
    "Reasons to use it:\n",
    "\n",
    "1. Dynamic HTML generation: Templates allow you to generate HTML pages dynamically, based on data that is passed from your Flask application to the template.\n",
    "\n",
    "2. Code reuse: Templates allow you to reuse code across multiple pages in your Flask application. This can save you time and reduce code duplication.\n",
    "\n",
    "3. Separation of concerns: Templates allow you to separate the presentation logic (HTML) from the business logic (Python) of your Flask application. This can make your code more organized and easier to maintain."
   ]
  }
 ],
 "metadata": {
  "kernelspec": {
   "display_name": "Python 3 (ipykernel)",
   "language": "python",
   "name": "python3"
  },
  "language_info": {
   "codemirror_mode": {
    "name": "ipython",
    "version": 3
   },
   "file_extension": ".py",
   "mimetype": "text/x-python",
   "name": "python",
   "nbconvert_exporter": "python",
   "pygments_lexer": "ipython3",
   "version": "3.10.8"
  }
 },
 "nbformat": 4,
 "nbformat_minor": 5
}
