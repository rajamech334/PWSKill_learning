{
 "cells": [
  {
   "cell_type": "markdown",
   "id": "0d1ed7b9-f022-493b-bfc3-7775ec04ff05",
   "metadata": {},
   "source": [
    "Q5. What function is used in Flask for URL Building? Write a Python code to demonstrate the working of the\n",
    "url_for() function."
   ]
  },
  {
   "cell_type": "markdown",
   "id": "2173978d-069b-45e8-b9ca-489ce94c3e78",
   "metadata": {},
   "source": [
    "Ans)\n",
    "\n",
    "In Flask, the url_for() function is used for URL building. This function generates a URL for the given endpoint (function) with any arguments passed as keyword arguments. It is often used in templates to create links between pages, but can also be used in Flask routes to generate URLs dynamically."
   ]
  },
  {
   "cell_type": "code",
   "execution_count": null,
   "id": "e27b39f9-7612-41d5-89bb-5207ff8acd3d",
   "metadata": {},
   "outputs": [],
   "source": [
    "# Example\n",
    "\n",
    "from flask import Flask, url_for\n",
    "\n",
    "app = Flask(__name__)\n",
    "\n",
    "@app.route('/')\n",
    "def index():\n",
    "    return f'The URL for the about page is: {url_for(\"about\")}'\n",
    "\n",
    "@app.route('/about')\n",
    "def about():\n",
    "    return 'This is the about page.'\n",
    "\n",
    "if __name__ == '__main__':\n",
    "    app.run()\n"
   ]
  }
 ],
 "metadata": {
  "kernelspec": {
   "display_name": "Python 3 (ipykernel)",
   "language": "python",
   "name": "python3"
  },
  "language_info": {
   "codemirror_mode": {
    "name": "ipython",
    "version": 3
   },
   "file_extension": ".py",
   "mimetype": "text/x-python",
   "name": "python",
   "nbconvert_exporter": "python",
   "pygments_lexer": "ipython3",
   "version": "3.10.8"
  }
 },
 "nbformat": 4,
 "nbformat_minor": 5
}
