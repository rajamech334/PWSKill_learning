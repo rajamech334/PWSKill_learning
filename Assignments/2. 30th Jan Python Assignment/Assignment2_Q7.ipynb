{
 "cells": [
  {
   "cell_type": "markdown",
   "id": "8dbdcc95-e398-4964-b58d-eed0ea10fc51",
   "metadata": {},
   "source": [
    "## Question modified to display 1 to 10 in while loop\n"
   ]
  },
  {
   "cell_type": "code",
   "execution_count": 1,
   "id": "c12197b9-f067-4b64-b859-c09d509205e6",
   "metadata": {},
   "outputs": [
    {
     "name": "stdout",
     "output_type": "stream",
     "text": [
      "1\n",
      "2\n",
      "3\n",
      "4\n",
      "5\n",
      "6\n",
      "7\n",
      "8\n",
      "9\n",
      "10\n"
     ]
    }
   ],
   "source": [
    "i= 1\n",
    "while i<=10:\n",
    "    print(i)\n",
    "    i = i+1\n",
    "    \n",
    "    "
   ]
  },
  {
   "cell_type": "code",
   "execution_count": null,
   "id": "51bf2b5c-5a86-4190-a980-b496ca2100eb",
   "metadata": {},
   "outputs": [],
   "source": []
  }
 ],
 "metadata": {
  "kernelspec": {
   "display_name": "Python 3 (ipykernel)",
   "language": "python",
   "name": "python3"
  },
  "language_info": {
   "codemirror_mode": {
    "name": "ipython",
    "version": 3
   },
   "file_extension": ".py",
   "mimetype": "text/x-python",
   "name": "python",
   "nbconvert_exporter": "python",
   "pygments_lexer": "ipython3",
   "version": "3.10.8"
  }
 },
 "nbformat": 4,
 "nbformat_minor": 5
}
