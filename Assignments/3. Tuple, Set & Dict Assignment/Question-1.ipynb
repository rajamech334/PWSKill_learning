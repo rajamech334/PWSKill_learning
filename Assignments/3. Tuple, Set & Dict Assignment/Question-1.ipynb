{
 "cells": [
  {
   "cell_type": "markdown",
   "id": "0ba77735-98a1-49b8-98ad-56dd0d3b0758",
   "metadata": {},
   "source": [
    "•\tImmutable: Tuples are immutable, meaning their elements cannot be modified after creation.\n",
    "•\tOrdered: The elements in a tuple have a defined order and can be accessed by their index\n",
    "•\tHeterogeneous: Tuples can contain elements of different data types.\n",
    "•\tFixed size: The size of a tuple is fixed and cannot be changed after creation\n",
    "•\tIndexed: Tuples are indexed, allowing for fast access to specific elements.\n",
    "•\tNamed elements: Tuple elements can be given names for better readability, although this is not a part of the tuple definition in most programming languages.\n",
    "Yes. tuple is immutable\n"
   ]
  },
  {
   "cell_type": "code",
   "execution_count": null,
   "id": "667ee460-652c-45cb-839b-5b7840a5a80a",
   "metadata": {},
   "outputs": [],
   "source": []
  }
 ],
 "metadata": {
  "kernelspec": {
   "display_name": "Python 3 (ipykernel)",
   "language": "python",
   "name": "python3"
  },
  "language_info": {
   "codemirror_mode": {
    "name": "ipython",
    "version": 3
   },
   "file_extension": ".py",
   "mimetype": "text/x-python",
   "name": "python",
   "nbconvert_exporter": "python",
   "pygments_lexer": "ipython3",
   "version": "3.10.8"
  }
 },
 "nbformat": 4,
 "nbformat_minor": 5
}
