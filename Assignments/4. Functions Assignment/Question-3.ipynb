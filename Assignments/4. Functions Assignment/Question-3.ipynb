{
 "cells": [
  {
   "cell_type": "markdown",
   "id": "10136365-1081-4d38-a9d9-34b6f54604a1",
   "metadata": {},
   "source": [
    "Q3. What is an iterator in python? Name the method used to initialise the iterator object and the method\n",
    "used for iteration. Use these methods to print the first five elements of the given list [2, 4, 6, 8, 10, 12, 14, 16,\n",
    "18, 20]."
   ]
  },
  {
   "cell_type": "markdown",
   "id": "a56e78d6-9f1a-400f-a241-14ea0c8f6594",
   "metadata": {},
   "source": [
    "Ans)\n",
    "Iterator in python helps user to same the data in object form insted of list and use it as and when needed.\n",
    "An iterator can be created from an iterable object, such as a list, tuple, or string.To initilise the iterator yield keywords to be used."
   ]
  },
  {
   "cell_type": "code",
   "execution_count": 12,
   "id": "1ba0e15c-7a2c-4668-a4e6-530f7e91d930",
   "metadata": {},
   "outputs": [
    {
     "name": "stdout",
     "output_type": "stream",
     "text": [
      "2\n",
      "4\n",
      "6\n",
      "8\n",
      "10\n"
     ]
    }
   ],
   "source": [
    "# iterator to print first five elements of the given list\n",
    "def first_n_elements(numbers, n):\n",
    "    result = []\n",
    "    for i, num in enumerate(numbers):\n",
    "        if i == n:\n",
    "            break\n",
    "        result.append(num)\n",
    "    return result\n",
    "\n",
    "numbers = [2, 4, 6, 8, 10, 12, 14, 16, 18, 20]\n",
    "\n",
    "test = first_n_elements(numbers, 5)\n",
    "for i in test:\n",
    "    print(i)\n"
   ]
  },
  {
   "cell_type": "code",
   "execution_count": null,
   "id": "9cc9282d-093a-405c-8d58-cdf27997b8a9",
   "metadata": {},
   "outputs": [],
   "source": [
    "\n"
   ]
  }
 ],
 "metadata": {
  "kernelspec": {
   "display_name": "Python 3 (ipykernel)",
   "language": "python",
   "name": "python3"
  },
  "language_info": {
   "codemirror_mode": {
    "name": "ipython",
    "version": 3
   },
   "file_extension": ".py",
   "mimetype": "text/x-python",
   "name": "python",
   "nbconvert_exporter": "python",
   "pygments_lexer": "ipython3",
   "version": "3.10.8"
  }
 },
 "nbformat": 4,
 "nbformat_minor": 5
}
