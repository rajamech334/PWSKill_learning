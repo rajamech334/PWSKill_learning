{
 "cells": [
  {
   "cell_type": "markdown",
   "id": "e4dd1dcc-3bfd-4a85-8733-540693971468",
   "metadata": {},
   "source": [
    "Q1: What is Estimation Statistics? Explain point estimate and interval estimate.\n",
    "ans)\n",
    "\n",
    "Estimation statistics is part of statistics that deals with making inferences about population parameters based on sample data. It involves estimating the value of an unknown parameter using the information gathered from a sample. \n",
    "There are two primary types of estimates in estimation statistics: point estimates and interval estimates\n",
    "\n",
    "Point Estimation:\n",
    "A point estimate is a single value that serves as an estimate of a population parameter.\n",
    "    Example - the sample mean is a point estimate of the population mean (μ).\n",
    "\n",
    "Interval Estimation:\n",
    "An interval estimate provides a range of values within which the parameter is expected to lie. This range is defined by two numbers, known as the lower and upper bounds, and it is typically associated with a confidence level. The confidence level represents the degree of certainty that the interval contains the parameter\n"
   ]
  },
  {
   "cell_type": "code",
   "execution_count": 2,
   "id": "ba42f7d0-7dde-472c-bebd-bdf009942386",
   "metadata": {},
   "outputs": [
    {
     "name": "stdout",
     "output_type": "stream",
     "text": [
      "Point Estimate (Sample Mean): 22.2\n",
      "Confidence Interval: (20.554851916906493, 23.845148083093505)\n"
     ]
    }
   ],
   "source": [
    "#Q2. Write a Python function to estimate the population mean using a sample mean and standard deviation\n",
    "#Ans)\n",
    "\n",
    "import scipy.stats as stats\n",
    "import numpy as np\n",
    "\n",
    "def estimate_population_mean(sample_data, confidence_level=0.95):\n",
    "    # Calculate sample mean and sample standard deviation\n",
    "    sample_mean = np.mean(sample_data)\n",
    "    sample_std = np.std(sample_data, ddof=1)\n",
    "    sample_size = len(sample_data)\n",
    "    \n",
    "    # Calculate the critical t-value for the given confidence level and sample size\n",
    "    t_critical = stats.t.ppf((1 + confidence_level) / 2, df=sample_size - 1)\n",
    "    \n",
    "    # Calculate the margin of error\n",
    "    margin_of_error = t_critical * (sample_std / np.sqrt(sample_size))\n",
    "    \n",
    "    # Calculate the confidence interval\n",
    "    confidence_interval = (sample_mean - margin_of_error, sample_mean + margin_of_error)\n",
    "    \n",
    "    return sample_mean, confidence_interval[0], confidence_interval[1]\n",
    "\n",
    "# Example usage\n",
    "sample_data = [23, 20, 25, 22, 24, 19, 21, 26, 22, 20]\n",
    "point_estimate, lower_bound, upper_bound = estimate_population_mean(sample_data)\n",
    "print(f\"Point Estimate (Sample Mean): {point_estimate}\")\n",
    "print(f\"Confidence Interval: ({lower_bound}, {upper_bound})\")\n"
   ]
  },
  {
   "cell_type": "markdown",
   "id": "206ad688-9530-4542-8cd4-12fd248c5045",
   "metadata": {},
   "source": [
    "Q3: What is Hypothesis testing? Why is it used? State the importance of Hypothesis testing.\n",
    "ans)\n",
    "\n",
    "Hypothesis testing is a statistical method used to make decisions or inferences about population parameters based on sample data. It involves formulating a hypothesis, collecting data, and then using statistical tests to determine whether the data supports the hypothesis or if it should be rejected.\n",
    "\n",
    "Why Hypothesis is used:\n",
    "Hypothesis testing is used to assess the evidence provided by the sample data and to make decisions about the population parameters. It helps in determining whether the observed effects are real or if they occurred by random chance. This process is fundamental in many fields, such as scientific research, economics, medicine, and engineering, where it is crucial to make informed decisions based on data.\n",
    "\n",
    "Importance of Hypothesis Testing:\n",
    "1. Decision Making: It helps in determining whether to accept or reject a hypothesis, leading to informed and evidence-based decisions.\n",
    "\n",
    "2. Scientific Research:By testing hypotheses, researchers can validate theories, models, and assumptions, thereby advancing knowledge in various fields.\n",
    "\n",
    "3. Quality Control: It helps in identifying defects, testing the effectiveness of new processes, and ensuring product quality.\n",
    "\n",
    "4. Medical Research: In medical clinical trials often rely on hypothesis testing to establish the effectiveness and safety of medical interventions.\n",
    "\n",
    "5. Policy Making:It helps researchers in making data-driven policy decisions that can lead to better outcomes."
   ]
  },
  {
   "cell_type": "markdown",
   "id": "cf7f2e5e-39ec-4e30-aff3-6d341ceda2a1",
   "metadata": {},
   "source": [
    "Q4. Create a hypothesis that states whether the average weight of male college students is greater than \n",
    "the average weight of female college students.\n",
    "Ans)\n",
    "\n",
    "To create hypothesis for the given statement we can setup follow the below steps:\n",
    "1. Null Hypothesis(H0) : The average weight of male college students is equal to or less than the average weight of female college students.\n",
    "2. Alternative Hypothesis (H1): The average weight of male college students is greater than the average weight of female college students.\n",
    "\n",
    "Testing Hypothesis:\n",
    "1. Collect Data: Gather sample data of weights from both male and female college students.\n",
    "2. Select Significance Level (α): Common choices are 0.05, 0.01, or 0.10.\n",
    "3. Choose the Appropriate Test: Depending on the sample size and data distribution, a t-test (for small samples) or a z-test (for large samples) can be used.\n",
    "4. Calculate Test Statistic: Compute the test statistic using the sample data.\n",
    "5. Determine P-value or Critical Value: Use the test statistic to find the p-value or compare it to a critical value to make a decision.\n",
    "6. Make a Decision:\n",
    "    6.1 If the p-value is less than or equal to α, reject the null hypothesis.\n",
    "    6.2 If the p-value is greater than α, fail to reject the null hypothesis.\n",
    "7. Draw a Conclusion: Interpret the results in the context of the hypothesis."
   ]
  },
  {
   "cell_type": "code",
   "execution_count": 4,
   "id": "915db692-81c0-4ca7-92d2-6fb25eb39a0f",
   "metadata": {},
   "outputs": [
    {
     "name": "stdout",
     "output_type": "stream",
     "text": [
      "t-statistic: -7.969908903477913\n",
      "p-value: 2.5857360269603176e-07\n",
      "Reject the null hypothesis. There is sufficient evidence to conclude that the means of the two populations are different.\n"
     ]
    }
   ],
   "source": [
    "# Q5. Write a Python script to conduct a hypothesis test on the difference between two population means, given a sample from each population.\n",
    "# Ans)\n",
    "import numpy as np\n",
    "from scipy import stats\n",
    "\n",
    "def two_sample_t_test(sample1, sample2, alpha=0.05, alternative='two-sided'):\n",
    "    # Calculate the means and standard deviations\n",
    "    mean1 = np.mean(sample1)\n",
    "    mean2 = np.mean(sample2)\n",
    "    std1 = np.std(sample1, ddof=1)\n",
    "    std2 = np.std(sample2, ddof=1)\n",
    "    \n",
    "    # Perform the t-test\n",
    "    t_statistic, p_value = stats.ttest_ind(sample1, sample2, alternative=alternative)\n",
    "    \n",
    "    # Determine the result\n",
    "    if alternative == 'two-sided':\n",
    "        test_result = p_value <= alpha\n",
    "    elif alternative == 'greater':\n",
    "        test_result = p_value / 2 <= alpha and t_statistic > 0\n",
    "    elif alternative == 'less':\n",
    "        test_result = p_value / 2 <= alpha and t_statistic < 0\n",
    "    \n",
    "    return {\n",
    "        't_statistic': t_statistic,\n",
    "        'p_value': p_value,\n",
    "        'test_result': test_result\n",
    "    }\n",
    "\n",
    "# Example usage\n",
    "sample1 = [23, 20, 25, 22, 24, 19, 21, 26, 22, 20]  # Sample data from population 1\n",
    "sample2 = [30, 28, 27, 31, 29, 32, 30, 33, 29, 28]  # Sample data from population 2\n",
    "\n",
    "# Perform the two-sample t-test\n",
    "result = two_sample_t_test(sample1, sample2, alpha=0.05, alternative='two-sided')\n",
    "\n",
    "# Print the results\n",
    "print(f\"t-statistic: {result['t_statistic']}\")\n",
    "print(f\"p-value: {result['p_value']}\")\n",
    "if result['test_result']:\n",
    "    print(\"Reject the null hypothesis. There is sufficient evidence to conclude that the means of the two populations are different.\")\n",
    "else:\n",
    "    print(\"Fail to reject the null hypothesis. There is not sufficient evidence to conclude that the means of the two populations are different.\")\n"
   ]
  },
  {
   "cell_type": "markdown",
   "id": "72ff5a2c-be36-47df-ade5-791654c3d428",
   "metadata": {},
   "source": [
    "Q6: What is a null and alternative hypothesis? Give some example?\n",
    "Ans)\n",
    "\n",
    "1. The null hypothesis is a statement of no effect, no difference, or no change. It serves as the default or baseline assumption that there is no relationship between variables or that a parameter equals a specific value.\n",
    "2. The null hypothesis is what we seek to test against, and it is assumed to be true until evidence suggests otherwise.\n",
    "\n",
    "Examples:\n",
    " 1. Research Question: Is a new drug more effective than the current standard treatment in reducing blood pressure?\n",
    "    Null Hypothesis (H0): The new drug is no more effective than the current standard treatment in reducing blood pressure.\n",
    "    Alternative Hypothesis (H1): The new drug is more effective than the current standard treatment in reducing blood pressure.\n",
    "2. Research Question: Do students who attend review sessions score higher on tests than those who do not?\n",
    "    Null Hypothesis: Students who attend review sessions do not score higher on tests than those who do not.\n",
    "    Alternative Hypothesis: Students who attend review sessions score higher on tests than those who do not.\n",
    "3. Research Question: Is the proportion of defective products from a new manufacturing process less than the proportion from the current process?\n",
    "    Null Hypothesis: The proportion of defective products from the new process is not less than the proportion from the current process.\n",
    "    Alternative Hypothesis: The proportion of defective products from the new process is less than the proportion from the current process."
   ]
  },
  {
   "cell_type": "markdown",
   "id": "9b185f5e-bfee-4a73-bb66-602da4a3b972",
   "metadata": {},
   "source": [
    "Q7: Write down the steps involved in hypothesis testing.\n",
    "Ans)\n",
    "\n",
    "1. Formulate Hypotheses\n",
    "    Identifyin the Null Hypothesis and Alternative hypothesis\n",
    "2. Choose the significance level\n",
    "3. Select the approproate Test\n",
    "4. Collect Data\n",
    "5. Calculate the test statistic\n",
    "6. Determine the P-value or Critical Value\n",
    "7. Make a Decision\n",
    "8. Draw a Conclusion"
   ]
  },
  {
   "cell_type": "markdown",
   "id": "fc7060b0-d3b5-49f1-a243-da28f16d2368",
   "metadata": {},
   "source": [
    "Q8. Define p-value and explain its significance in hypothesis testing.\n",
    "ans)\n",
    "\n",
    "1. The p-value (or probability value) is the probability of obtaining a test statistic at least as extreme as the one observed, assuming the null hypothesis (H0) is true.\n",
    "2. It quantifies the strength of the evidence against the null hypothesis. A smaller p-value indicates stronger evidence against the null hypothesis.\n",
    "Significance of P-value in Hypothesis Testing:\n",
    "1. Decision Making-The p-value helps in deciding whether to reject the null hypothesis\n",
    "2. Interpreting Results\n",
    "    2.1 Low P value indicates that the observed data is unlikely under the null hypothesis.\n",
    "    2.2 High P value indicates that the observed data is consistent with the null hypothesis.\n",
    "3. Strength of Evidence\n",
    "    3.1 Very Low P-value - Strong evidence against the null hypothesis\n",
    "    3.2 Moderately Low P-value - Moderate evidence against the null hypothesis\n",
    "    3.3 High P-value - Weak evidence against the null hypothesis\n",
    "    "
   ]
  },
  {
   "cell_type": "code",
   "execution_count": 5,
   "id": "e1626b84-bb35-4153-9689-4bf6f2e90aa3",
   "metadata": {},
   "outputs": [
    {
     "data": {
      "image/png": "[encoded data removed]",
      "text/plain": [
       "<Figure size 800x600 with 1 Axes>"
      ]
     },
     "metadata": {},
     "output_type": "display_data"
    }
   ],
   "source": [
    "# Q9. Generate a Student's t-distribution plot using Python's matplotlib library, with the degrees of freedom parameter set to 10.\n",
    "# Ans)\n",
    "\n",
    "import numpy as np\n",
    "import matplotlib.pyplot as plt\n",
    "from scipy.stats import t\n",
    "\n",
    "# Degrees of freedom\n",
    "df = 10\n",
    "\n",
    "# Generate x values for the plot\n",
    "x = np.linspace(-4, 4, 1000)  # Range typically covers from -4 to 4 for t-distribution\n",
    "\n",
    "# Calculate the corresponding probability density function (PDF) values\n",
    "pdf = t.pdf(x, df)\n",
    "\n",
    "# Plotting the t-distribution\n",
    "plt.figure(figsize=(8, 6))\n",
    "plt.plot(x, pdf, label=f'Student\\'s t-distribution (df={df})', color='blue')\n",
    "plt.title(f'Student\\'s t-distribution (df={df})')\n",
    "plt.xlabel('x')\n",
    "plt.ylabel('Probability Density Function (PDF)')\n",
    "plt.legend()\n",
    "plt.grid(True)\n",
    "plt.show()\n"
   ]
  },
  {
   "cell_type": "code",
   "execution_count": 2,
   "id": "48b9cf81-6c40-4ae1-96a5-d659c5c37e34",
   "metadata": {},
   "outputs": [
    {
     "name": "stdout",
     "output_type": "stream",
     "text": [
      "Sample 1 Mean: 10.89, Sample 2 Mean: 9.92\n",
      "T-statistic: 1.8469\n",
      "P-value: 0.0699\n",
      "Fail to reject the null hypothesis. There is not sufficient evidence that the population means are different.\n"
     ]
    }
   ],
   "source": [
    "# Q10. Write a Python program to calculate the two-sample t-test for independent samples, given two random samples of equal size and a null hypothesis that the population means are equal.\n",
    "# Ans)\n",
    "\n",
    "import numpy as np\n",
    "from scipy import stats\n",
    "\n",
    "def two_sample_t_test(sample1, sample2, alpha=0.05):\n",
    "    # Convert samples to numpy arrays\n",
    "    sample1 = np.array(sample1)\n",
    "    sample2 = np.array(sample2)\n",
    "    \n",
    "    # Calculate sample sizes\n",
    "    n1 = len(sample1)\n",
    "    n2 = len(sample2)\n",
    "    \n",
    "    # Calculate means and variances\n",
    "    mean1 = np.mean(sample1)\n",
    "    mean2 = np.mean(sample2)\n",
    "    var1 = np.var(sample1, ddof=1)\n",
    "    var2 = np.var(sample2, ddof=1)\n",
    "    \n",
    "    # Calculate pooled standard deviation (assuming equal variances)\n",
    "    pooled_std = np.sqrt((var1 + var2) / 2)\n",
    "    \n",
    "    # Calculate t-statistic\n",
    "    t_statistic = (mean1 - mean2) / (pooled_std * np.sqrt(1/n1 + 1/n2))\n",
    "    \n",
    "    # Degrees of freedom\n",
    "    df = n1 + n2 - 2\n",
    "    \n",
    "    # Calculate p-value\n",
    "    p_value = 2 * (1 - stats.t.cdf(np.abs(t_statistic), df=df))\n",
    "    \n",
    "    return t_statistic, p_value\n",
    "\n",
    "# Generate two random samples of equal size\n",
    "np.random.seed(0)  # for reproducibility\n",
    "sample1 = np.random.normal(loc=10, scale=2, size=30)\n",
    "sample2 = np.random.normal(loc=10.5, scale=2, size=30)\n",
    "\n",
    "# Perform two-sample t-test\n",
    "t_stat, p_val = two_sample_t_test(sample1, sample2)\n",
    "\n",
    "# Print the results\n",
    "print(f\"Sample 1 Mean: {np.mean(sample1):.2f}, Sample 2 Mean: {np.mean(sample2):.2f}\")\n",
    "print(f\"T-statistic: {t_stat:.4f}\")\n",
    "print(f\"P-value: {p_val:.4f}\")\n",
    "\n",
    "# Determine significance based on p-value and alpha\n",
    "alpha = 0.05\n",
    "if p_val < alpha:\n",
    "    print(\"Reject the null hypothesis. There is sufficient evidence that the population means are different.\")\n",
    "else:\n",
    "    print(\"Fail to reject the null hypothesis. There is not sufficient evidence that the population means are different.\")\n"
   ]
  },
  {
   "cell_type": "markdown",
   "id": "7761192d-ec11-41e7-8c38-5b94ff38a2a9",
   "metadata": {},
   "source": [
    "Q11: What is Student’s t distribution? When to use the t-Distribution.\n",
    "Ans)\n",
    "\n",
    "Student’s t distribution, often simply called the t-distribution, is a probability distribution that arises in hypothesis testing when the sample size is small and/or the population standard deviation is unknown. It is similar to the standard normal distribution but has heavier tails, which makes it suitable for situations where the sample size is small and the underlying population distribution is assumed to be normal.\n",
    "\n",
    "When to use it:\n",
    "1. Small Sample Sizes: When the sample size n is small (typically less than 30), the t-distribution is used because it provides better approximations to the sampling distribution of the sample mean compared to the standard normal distribution.\n",
    "\n",
    "2. Unknown Population Standard Deviation: When the population standard deviation σ is unknown and estimated using the sample standard deviation s, the t-distribution is used to account for the additional uncertainty introduced by this estimation.\n",
    "    "
   ]
  },
  {
   "cell_type": "markdown",
   "id": "a52b84a8-814f-4d0c-bdd7-30a9a12eada2",
   "metadata": {},
   "source": [
    "Q11: What is Student’s t distribution? When to use the t-Distribution.\n",
    "ans)\n",
    "\n",
    "Student's t-distribution, often simply referred to as the t-distribution, is a probability distribution that is symmetric and bell-shaped, much like the normal distribution. It is widely used in statistics when dealing with small sample sizes and situations where the population standard deviation is unknown.\n",
    "\n",
    "When to Use the t-Distribution:\n",
    "    1. Sample Size: Use the t-distribution when the sample size is small (typically less than 30). For larger sample sizes, the t-distribution approaches the standard normal distribution.\n",
    "\n",
    "    2. Unknown Population Standard Deviation: When the population standard deviation is unknown and must be estimated from the sample data, the t-distribution should be used instead of the normal distribution."
   ]
  },
  {
   "cell_type": "markdown",
   "id": "53c43b39-e921-484b-84e6-40ddba42e4b7",
   "metadata": {},
   "source": [
    "Q12: What is t-statistic? State the formula for t-statistic\n",
    "\n",
    "ans)\n",
    "The t-statistic, also known as the t-value or t-score, is a measure used in hypothesis testing to determine if there is a significant difference between the means of two groups. It is calculated based on sample data and is compared to a critical value from the t-distribution to make inferences about the population.\n",
    "\n",
    "State the formula for t-Statistic:\n",
    "The formula for the t-statistic depends on whether you are comparing means of two independent samples or testing a sample mean against a population mean."
   ]
  },
  {
   "cell_type": "code",
   "execution_count": 5,
   "id": "68434101-5caf-42f7-ba76-a06e0dddb343",
   "metadata": {},
   "outputs": [
    {
     "name": "stdout",
     "output_type": "stream",
     "text": [
      "Sample Mean: $500\n",
      "Sample Standard Deviation: $50\n",
      "Sample Size: 50\n",
      "95% Confidence Interval for Population Mean Revenue: ($485.79, $514.21)\n"
     ]
    }
   ],
   "source": [
    "''' Q13. A coffee shop owner wants to estimate the average daily revenue for their shop. They take a random \n",
    "sample of 50 days and find the sample mean revenue to be $500 with a standard deviation of $50. \n",
    "Estimate the population mean revenue with a 95% confidence interval.\n",
    "\n",
    "Ans)\n",
    "'''\n",
    "import scipy.stats as stats\n",
    "import math\n",
    "\n",
    "\n",
    "sample_mean = 500  # Sample mean revenue ($)\n",
    "sample_std_dev = 50  # Sample standard deviation ($)\n",
    "sample_size = 50  # Sample size\n",
    "\n",
    "# Calculating the critical value from t-distribution for 95% confidence level\n",
    "alpha = 0.05  # Significance level (1 - confidence level)\n",
    "degrees_of_freedom = sample_size - 1\n",
    "t_critical = stats.t.ppf(1 - alpha/2, df=degrees_of_freedom)\n",
    "\n",
    "# Calculating margin of error\n",
    "margin_of_error = t_critical * (sample_std_dev / math.sqrt(sample_size))\n",
    "\n",
    "# Calculating confidence interval\n",
    "lower_bound = sample_mean - margin_of_error\n",
    "upper_bound = sample_mean + margin_of_error\n",
    "\n",
    "\n",
    "print(f\"Sample Mean: ${sample_mean}\")\n",
    "print(f\"Sample Standard Deviation: ${sample_std_dev}\")\n",
    "print(f\"Sample Size: {sample_size}\")\n",
    "print(f\"95% Confidence Interval for Population Mean Revenue: (${lower_bound:.2f}, ${upper_bound:.2f})\")\n"
   ]
  },
  {
   "cell_type": "code",
   "execution_count": 6,
   "id": "5d233a77-cd31-47e7-8234-b7eccfb1f372",
   "metadata": {},
   "outputs": [
    {
     "name": "stdout",
     "output_type": "stream",
     "text": [
      "Test Statistic (z-score): -6.67\n",
      "Critical Value: -1.645\n",
      "Reject Null Hypothesis: The new drug decreases blood pressure by less than 10 mmHg.\n"
     ]
    }
   ],
   "source": [
    "'''\n",
    "Q14. A researcher hypothesizes that a new drug will decrease blood pressure by 10 mmHg. They conduct a \n",
    "clinical trial with 100 patients and find that the sample mean decrease in blood pressure is 8 mmHg with a \n",
    "standard deviation of 3 mmHg. Test the hypothesis with a significance level of 0.05.\n",
    "\n",
    "Ans)\n",
    "'''\n",
    "\n",
    "import math\n",
    "\n",
    "\n",
    "sample_mean = 8  # Sample mean decrease in blood pressure (mmHg)\n",
    "pop_mean_hypothesis = 10  # Hypothesized population mean decrease in blood pressure (mmHg)\n",
    "sample_std_dev = 3  # Sample standard deviation (mmHg)\n",
    "sample_size = 100  # Sample size\n",
    "alpha = 0.05  # Significance level\n",
    "\n",
    "# Calculating the test statistic (z-score)\n",
    "z = (sample_mean - pop_mean_hypothesis) / (sample_std_dev / math.sqrt(sample_size))\n",
    "\n",
    "# Find the critical value from standard normal distribution for one-tailed test (left-tail)\n",
    "z_critical = -1.645  # For alpha = 0.05, one-tailed test\n",
    "\n",
    "\n",
    "print(f\"Test Statistic (z-score): {z:.2f}\")\n",
    "print(f\"Critical Value: {z_critical}\")\n",
    "\n",
    "if z < z_critical:\n",
    "    print(\"Reject Null Hypothesis: The new drug decreases blood pressure by less than 10 mmHg.\")\n",
    "else:\n",
    "    print(\"Do Not Reject Null Hypothesis: There is not enough evidence to conclude that the new drug decreases blood pressure by less than 10 mmHg.\")\n",
    "\n",
    "\n"
   ]
  },
  {
   "cell_type": "code",
   "execution_count": 7,
   "id": "8f25cbc8-bef2-416f-a0f9-c1b82be20967",
   "metadata": {},
   "outputs": [
    {
     "name": "stdout",
     "output_type": "stream",
     "text": [
      "Test Statistic (z-score): -2.00\n",
      "Critical Value: -2.33\n",
      "Do Not Reject Null Hypothesis: There is not enough evidence to conclude that the true mean weight of the products is less than 5 pounds.\n"
     ]
    }
   ],
   "source": [
    "''''\n",
    "Q15. An electronics company produces a certain type of product with a mean weight of 5 pounds and a \n",
    "standard deviation of 0.5 pounds. A random sample of 25 products is taken, and the sample mean weight \n",
    "is found to be 4.8 pounds. Test the hypothesis that the true mean weight of the products is less than 5 \n",
    "pounds with a significance level of 0.01.\n",
    "\n",
    "Ans)\n",
    "\n",
    "'''\n",
    "import math\n",
    "\n",
    "\n",
    "population_mean = 5  # Population mean weight (pounds)\n",
    "population_std_dev = 0.5  # Population standard deviation (pounds)\n",
    "sample_size = 25  # Sample size\n",
    "sample_mean = 4.8  # Sample mean weight (pounds)\n",
    "alpha = 0.01  # Significance level\n",
    "\n",
    "# Calculating the test statistic (z-score)\n",
    "z = (sample_mean - population_mean) / (population_std_dev / math.sqrt(sample_size))\n",
    "z_critical = -2.33  # For alpha = 0.01, one-tailed test\n",
    "\n",
    "# Print test statistic and critical value\n",
    "print(f\"Test Statistic (z-score): {z:.2f}\")\n",
    "print(f\"Critical Value: {z_critical}\")\n",
    "\n",
    "# Compare test statistic with critical value\n",
    "if z < z_critical:\n",
    "    print(\"Reject Null Hypothesis: The true mean weight of the products is less than 5 pounds.\")\n",
    "else:\n",
    "    print(\"Do Not Reject Null Hypothesis: There is not enough evidence to conclude that the true mean weight of the products is less than 5 pounds.\")\n",
    "\n"
   ]
  },
  {
   "cell_type": "code",
   "execution_count": 9,
   "id": "8362304e-b644-4dfd-82e3-1623a861bb73",
   "metadata": {},
   "outputs": [
    {
     "name": "stdout",
     "output_type": "stream",
     "text": [
      "Test Statistic (t-score): 2.25\n",
      "Critical Value: ±2.67\n",
      "Do Not Reject Null Hypothesis: There is not enough evidence to conclude that the population means of the two groups are different.\n"
     ]
    }
   ],
   "source": [
    "'''\n",
    "Q16. Two groups of students are given different study materials to prepare for a test. The first group (n1 = \n",
    "30) has a mean score of 80 with a standard deviation of 10, and the second group (n2 = 40) has a mean \n",
    "score of 75 with a standard deviation of 8. Test the hypothesis that the population means for the two \n",
    "groups are equal with a significance level of 0.01\n",
    "\n",
    "Ans)\n",
    "\n",
    "'''\n",
    "import math\n",
    "\n",
    "\n",
    "mean1 = 80  # Sample mean for group 1\n",
    "std_dev1 = 10  # Sample standard deviation for group 1\n",
    "n1 = 30  # Sample size for group 1\n",
    "\n",
    "mean2 = 75  # Sample mean for group 2\n",
    "std_dev2 = 8  # Sample standard deviation for group 2\n",
    "n2 = 40  # Sample size for group 2\n",
    "\n",
    "alpha = 0.01  # Significance level\n",
    "\n",
    "# Calculating the two-sample t-statistic assuming unequal variances (Welch's t-test)\n",
    "numerator = mean1 - mean2\n",
    "denominator = math.sqrt((std_dev1**2 / n1) + (std_dev2**2 / n2))\n",
    "t = numerator / denominator\n",
    "\n",
    "# Degrees of freedom approximation for Welch's t-test\n",
    "df_num = ((std_dev1**2 / n1) + (std_dev2**2 / n2))**2\n",
    "df_denom = ((std_dev1**2 / n1)**2 / (n1 - 1)) + ((std_dev2**2 / n2)**2 / (n2 - 1))\n",
    "df = df_num / df_denom\n",
    "\n",
    "# Critical value from t-distribution for two-tailed test\n",
    "t_critical = abs(stats.t.ppf(alpha / 2, df))\n",
    "\n",
    "print(f\"Test Statistic (t-score): {t:.2f}\")\n",
    "print(f\"Critical Value: ±{t_critical:.2f}\")\n",
    "\n",
    "# Compare test statistic with critical value\n",
    "if abs(t) > t_critical:\n",
    "    print(\"Reject Null Hypothesis: The population means of the two groups are not equal.\")\n",
    "else:\n",
    "    print(\"Do Not Reject Null Hypothesis: There is not enough evidence to conclude that the population means of the two groups are different.\")\n",
    "\n"
   ]
  },
  {
   "cell_type": "code",
   "execution_count": 10,
   "id": "55afdd81-378a-4358-ac89-1b5d46e207f6",
   "metadata": {},
   "outputs": [
    {
     "name": "stdout",
     "output_type": "stream",
     "text": [
      "Sample Mean: 4\n",
      "Sample Standard Deviation: 1.5\n",
      "Sample Size: 50\n",
      "99% Confidence Interval for Population Mean: (3.431, 4.569)\n"
     ]
    }
   ],
   "source": [
    "'''\n",
    "Q17. A marketing company wants to estimate the average number of ads watched by viewers during a TV \n",
    "program. They take a random sample of 50 viewers and find that the sample mean is 4 with a standard \n",
    "deviation of 1.5. Estimate the population mean with a 99% confidence interval\n",
    "\n",
    "Ans)\n",
    "'''\n",
    "\n",
    "import scipy.stats as stats\n",
    "import math\n",
    "\n",
    "sample_mean = 4  # Sample mean number of ads watched\n",
    "sample_std_dev = 1.5  # Sample standard deviation\n",
    "sample_size = 50  # Sample size\n",
    "confidence_level = 0.99  # 99% confidence interval\n",
    "\n",
    "# Calculating the critical value (t-score) for 99% confidence level\n",
    "alpha = 1 - confidence_level\n",
    "df = sample_size - 1\n",
    "t_critical = stats.t.ppf(1 - alpha / 2, df)\n",
    "\n",
    "# Calculating the margin of error\n",
    "margin_of_error = t_critical * (sample_std_dev / math.sqrt(sample_size))\n",
    "\n",
    "# Calculating confidence interval\n",
    "lower_bound = sample_mean - margin_of_error\n",
    "upper_bound = sample_mean + margin_of_error\n",
    "\n",
    "print(f\"Sample Mean: {sample_mean}\")\n",
    "print(f\"Sample Standard Deviation: {sample_std_dev}\")\n",
    "print(f\"Sample Size: {sample_size}\")\n",
    "print(f\"99% Confidence Interval for Population Mean: ({lower_bound:.3f}, {upper_bound:.3f})\")\n"
   ]
  }
 ],
 "metadata": {
  "kernelspec": {
   "display_name": "Python 3 (ipykernel)",
   "language": "python",
   "name": "python3"
  },
  "language_info": {
   "codemirror_mode": {
    "name": "ipython",
    "version": 3
   },
   "file_extension": ".py",
   "mimetype": "text/x-python",
   "name": "python",
   "nbconvert_exporter": "python",
   "pygments_lexer": "ipython3",
   "version": "3.10.8"
  }
 },
 "nbformat": 4,
 "nbformat_minor": 5
}
