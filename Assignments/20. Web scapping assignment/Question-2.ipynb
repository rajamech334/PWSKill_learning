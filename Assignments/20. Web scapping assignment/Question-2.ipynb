{
 "cells": [
  {
   "cell_type": "markdown",
   "id": "0027586f-a853-49c2-9307-be71f000af54",
   "metadata": {},
   "source": [
    "Q2. What are the different methods used for Web Scraping?\n"
   ]
  },
  {
   "cell_type": "markdown",
   "id": "2cdf58e5-d4a2-40e9-8e9a-f03dc35ff77d",
   "metadata": {},
   "source": [
    "Ans)\n",
    "\n",
    "There are several methods used for web scraping, including:\n",
    "\n",
    "1. Manual copying and pasting: This involves manually copying data from websites and pasting it into a spreadsheet or other document. This method is time-consuming and inefficient, and is only suitable for small amounts of data.\n",
    "\n",
    "2. Regular expressions: Regular expressions are a powerful tool for pattern matching and can be used to extract data from websites. However, they can be difficult to write and maintain, and may not work correctly if the website's HTML structure changes.\n",
    "\n",
    "3. HTML parsing: HTML parsing involves using a programming language like Python to parse the HTML code of a website and extract the data you're interested in. This method is more flexible and powerful than regular expressions, and is widely used for web scraping.\n",
    "\n",
    "4. Web scraping libraries: There are several popular web scraping libraries available in Python, such as BeautifulSoup, Scrapy, and Selenium. These libraries provide a high-level interface for web scraping and are designed to handle complex websites and data structures."
   ]
  }
 ],
 "metadata": {
  "kernelspec": {
   "display_name": "Python 3 (ipykernel)",
   "language": "python",
   "name": "python3"
  },
  "language_info": {
   "codemirror_mode": {
    "name": "ipython",
    "version": 3
   },
   "file_extension": ".py",
   "mimetype": "text/x-python",
   "name": "python",
   "nbconvert_exporter": "python",
   "pygments_lexer": "ipython3",
   "version": "3.10.8"
  }
 },
 "nbformat": 4,
 "nbformat_minor": 5
}
