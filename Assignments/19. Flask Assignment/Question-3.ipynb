{
 "cells": [
  {
   "cell_type": "markdown",
   "id": "e2f5b07c-0286-4c3e-a694-3e4717aab602",
   "metadata": {},
   "source": [
    "Q3. Why is redirect() used in Flask?\n"
   ]
  },
  {
   "cell_type": "markdown",
   "id": "2ef19d53-606f-4eba-a3bb-43dcb7996252",
   "metadata": {},
   "source": [
    "Ans)\n",
    "\n",
    "\n",
    "In Flask, the redirect() function is used to redirect the user to a different URL. When a user visits a URL in your Flask application, sometimes you may want to redirect them to a different URL, such as after a successful form submission or authentication. The redirect() function is useful for this purpose."
   ]
  }
 ],
 "metadata": {
  "kernelspec": {
   "display_name": "Python 3 (ipykernel)",
   "language": "python",
   "name": "python3"
  },
  "language_info": {
   "codemirror_mode": {
    "name": "ipython",
    "version": 3
   },
   "file_extension": ".py",
   "mimetype": "text/x-python",
   "name": "python",
   "nbconvert_exporter": "python",
   "pygments_lexer": "ipython3",
   "version": "3.10.8"
  }
 },
 "nbformat": 4,
 "nbformat_minor": 5
}
