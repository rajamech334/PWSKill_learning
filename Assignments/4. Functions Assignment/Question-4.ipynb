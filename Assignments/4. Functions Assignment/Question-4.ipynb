{
 "cells": [
  {
   "cell_type": "markdown",
   "id": "9b42c581-dd3c-46e0-866f-99631c903c21",
   "metadata": {},
   "source": [
    "Q4. What is a generator function in python? Why yield keyword is used? Give an example of a generator\n",
    "function."
   ]
  },
  {
   "cell_type": "markdown",
   "id": "303bbcf5-a5ab-4b99-aa98-8efb65d4e946",
   "metadata": {},
   "source": [
    "Ans)\n",
    "A generator function in Python is a special type of function that returns a generator iterator, which is an object that produces a sequence of values. The yield keyword is used in the body of the function to specify the values to be generated"
   ]
  },
  {
   "cell_type": "code",
   "execution_count": 6,
   "id": "b83ddf80-ca2d-4c13-af80-91deb957d30d",
   "metadata": {},
   "outputs": [
    {
     "name": "stdout",
     "output_type": "stream",
     "text": [
      "apple\n",
      "banana\n",
      "cherry\n",
      "<generator object my_generator at 0x7f6763c5dc40>\n"
     ]
    }
   ],
   "source": [
    "def my_generator():\n",
    "    yield \"apple\"\n",
    "    yield \"banana\"\n",
    "    yield \"cherry\"\n",
    "    \n",
    "\n",
    "for value in my_generator():\n",
    "    print(value)"
   ]
  },
  {
   "cell_type": "code",
   "execution_count": null,
   "id": "9b2873dd-877b-4135-abdb-b37f187d973b",
   "metadata": {},
   "outputs": [],
   "source": []
  }
 ],
 "metadata": {
  "kernelspec": {
   "display_name": "Python 3 (ipykernel)",
   "language": "python",
   "name": "python3"
  },
  "language_info": {
   "codemirror_mode": {
    "name": "ipython",
    "version": 3
   },
   "file_extension": ".py",
   "mimetype": "text/x-python",
   "name": "python",
   "nbconvert_exporter": "python",
   "pygments_lexer": "ipython3",
   "version": "3.10.8"
  }
 },
 "nbformat": 4,
 "nbformat_minor": 5
}
