{
 "cells": [
  {
   "cell_type": "markdown",
   "id": "48977bd0-b44d-4079-85dc-763b3aacc2f6",
   "metadata": {},
   "source": [
    "Q2). Why *args and **kwargs is used in some functions? Create a function each for *args and **kwargs to\n",
    "demonstrate their use."
   ]
  },
  {
   "cell_type": "markdown",
   "id": "f107f13f-9d4e-4c3a-9410-72b09fad1f0c",
   "metadata": {},
   "source": [
    "Ans) \n",
    "*args will help user to send any number of parameter to function\n",
    "*Kwargs wiil help user to send key value pair to function and process it"
   ]
  },
  {
   "cell_type": "code",
   "execution_count": 1,
   "id": "4d843ef6-4ca8-4ea1-98b0-04ed283423b9",
   "metadata": {},
   "outputs": [
    {
     "name": "stdout",
     "output_type": "stream",
     "text": [
      "(1,)\n",
      "(1, 2)\n",
      "(1, 'hi', 1.3)\n"
     ]
    }
   ],
   "source": [
    "# Example for *args\n",
    "def test(*args):\n",
    "    print( args)\n",
    "\n",
    "test(1)\n",
    "test(1,2)\n",
    "test(1,'hi',1.3)"
   ]
  },
  {
   "cell_type": "code",
   "execution_count": 3,
   "id": "aad7322b-9bd0-408f-a67e-fa155ffaf7a9",
   "metadata": {},
   "outputs": [
    {
     "data": {
      "text/plain": [
       "('d', [1, 2, 3, 4])"
      ]
     },
     "execution_count": 3,
     "metadata": {},
     "output_type": "execute_result"
    }
   ],
   "source": [
    "# An simple example for **kwargs to identify the list in given parameters\n",
    "def test1(**kwargs):\n",
    "    for i in kwargs:\n",
    "        if type(kwargs[i]) == list:\n",
    "            return i, kwargs[i]\n",
    "        \n",
    "test1(a = 34, b= 12, c= 1.3, d = [1,2,3,4])\n",
    "                "
   ]
  },
  {
   "cell_type": "code",
   "execution_count": null,
   "id": "8cb38f91-c908-4146-9450-d0063f06e62b",
   "metadata": {},
   "outputs": [],
   "source": []
  }
 ],
 "metadata": {
  "kernelspec": {
   "display_name": "Python 3 (ipykernel)",
   "language": "python",
   "name": "python3"
  },
  "language_info": {
   "codemirror_mode": {
    "name": "ipython",
    "version": 3
   },
   "file_extension": ".py",
   "mimetype": "text/x-python",
   "name": "python",
   "nbconvert_exporter": "python",
   "pygments_lexer": "ipython3",
   "version": "3.10.8"
  }
 },
 "nbformat": 4,
 "nbformat_minor": 5
}
