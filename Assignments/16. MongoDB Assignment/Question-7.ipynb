{
 "cells": [
  {
   "cell_type": "markdown",
   "id": "d566658c-2a1e-4b6c-bebf-ef0c8301f481",
   "metadata": {},
   "source": [
    "Q7) Explain why delete_one(), delete_many(), and drop() is used."
   ]
  },
  {
   "cell_type": "markdown",
   "id": "ab1867c5-fce3-4812-b2f4-a298e316ba40",
   "metadata": {},
   "source": [
    "Ans)\n",
    "\n",
    "delete_one() method is used to delete a single document from a collection that matches a specified filter.\n",
    "\n",
    "delete_many() method is used to delete multiple documents from a collection that match a specified filter\n",
    "\n",
    "drop() method is used to delete an entire collection from a database."
   ]
  }
 ],
 "metadata": {
  "kernelspec": {
   "display_name": "Python 3 (ipykernel)",
   "language": "python",
   "name": "python3"
  },
  "language_info": {
   "codemirror_mode": {
    "name": "ipython",
    "version": 3
   },
   "file_extension": ".py",
   "mimetype": "text/x-python",
   "name": "python",
   "nbconvert_exporter": "python",
   "pygments_lexer": "ipython3",
   "version": "3.10.8"
  }
 },
 "nbformat": 4,
 "nbformat_minor": 5
}
