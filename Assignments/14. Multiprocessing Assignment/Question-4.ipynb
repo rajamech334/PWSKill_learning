{
 "cells": [
  {
   "cell_type": "markdown",
   "id": "592e7f75-e4f6-4872-9395-4897183b1707",
   "metadata": {},
   "source": [
    "Q4. What is a multiprocessing pool in python? Why is it used?\n"
   ]
  },
  {
   "cell_type": "markdown",
   "id": "abfafb42-e9e5-4d26-b9f8-59a90e267be5",
   "metadata": {},
   "source": [
    "Ans) \n",
    "\n",
    "A multiprocessing pool in Python is a way to create a pool of worker processes that can be used to perform tasks in parallel. The multiprocessing.Pool class provides a simple way to create and manage a pool of worker processes.\n",
    "\n",
    "To use a multiprocessing pool, you create an instance of the Pool class, specifying the number of worker processes to create. You can then submit tasks to the pool using the apply(), apply_async(), map(), or map_async() methods, and the pool will automatically distribute the tasks among the worker processes in the pool.\n",
    "\n",
    "The main advantage of using a multiprocessing pool is that it allows you to easily parallelize tasks that can be run independently of each other. This can lead to significant performance improvements, especially for CPU-bound tasks that can benefit from parallel processing"
   ]
  },
  {
   "cell_type": "code",
   "execution_count": null,
   "id": "0a5d8cf9-e07c-44d7-a775-8c90dd8eceda",
   "metadata": {},
   "outputs": [],
   "source": []
  }
 ],
 "metadata": {
  "kernelspec": {
   "display_name": "Python 3 (ipykernel)",
   "language": "python",
   "name": "python3"
  },
  "language_info": {
   "codemirror_mode": {
    "name": "ipython",
    "version": 3
   },
   "file_extension": ".py",
   "mimetype": "text/x-python",
   "name": "python",
   "nbconvert_exporter": "python",
   "pygments_lexer": "ipython3",
   "version": "3.10.8"
  }
 },
 "nbformat": 4,
 "nbformat_minor": 5
}
