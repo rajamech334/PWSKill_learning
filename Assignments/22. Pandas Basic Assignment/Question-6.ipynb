{
 "cells": [
  {
   "cell_type": "markdown",
   "id": "b39255b0-af12-4b76-830c-c3195130edfc",
   "metadata": {},
   "source": [
    "Q6. Which of the following is mutable in nature Series, DataFrame, Panel?\n"
   ]
  },
  {
   "cell_type": "markdown",
   "id": "f16c845a-c486-4a81-9f28-0ddbc565c440",
   "metadata": {},
   "source": [
    "Ans)\n",
    "\n",
    "A Series and a DataFrame are mutable in nature in Pandas, while a Panel is considered to be a deprecated data structure and has been removed from the latest version of Pandas.\n",
    "\n",
    "In a mutable data structure, the values in the object can be modified after the object has been created. For example, you can change the value of a particular element in a Series or a DataFrame by assigning a new value to the corresponding index or column. However, it's important to note that modifying the data in a DataFrame or Series can also have unintended consequences, so it's recommended to make a copy of the original data before making any changes."
   ]
  }
 ],
 "metadata": {
  "kernelspec": {
   "display_name": "Python 3 (ipykernel)",
   "language": "python",
   "name": "python3"
  },
  "language_info": {
   "codemirror_mode": {
    "name": "ipython",
    "version": 3
   },
   "file_extension": ".py",
   "mimetype": "text/x-python",
   "name": "python",
   "nbconvert_exporter": "python",
   "pygments_lexer": "ipython3",
   "version": "3.10.8"
  }
 },
 "nbformat": 4,
 "nbformat_minor": 5
}
