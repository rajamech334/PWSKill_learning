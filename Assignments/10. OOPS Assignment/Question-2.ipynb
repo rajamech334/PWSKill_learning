{
 "cells": [
  {
   "cell_type": "markdown",
   "id": "83717116-0e19-4db2-a53a-4a2ab020be53",
   "metadata": {},
   "source": [
    "Q2. Why close() function is used? Why is it important to close a file?\n"
   ]
  },
  {
   "cell_type": "markdown",
   "id": "d9cf398e-603f-44b4-946b-506cd3ff9fec",
   "metadata": {},
   "source": [
    "Ans)\n",
    "Close functions will be used in the files handling in python to ensure the data is updaing in the file. If this function not used then user may not able to se the data modified in the file."
   ]
  }
 ],
 "metadata": {
  "kernelspec": {
   "display_name": "Python 3 (ipykernel)",
   "language": "python",
   "name": "python3"
  },
  "language_info": {
   "codemirror_mode": {
    "name": "ipython",
    "version": 3
   },
   "file_extension": ".py",
   "mimetype": "text/x-python",
   "name": "python",
   "nbconvert_exporter": "python",
   "pygments_lexer": "ipython3",
   "version": "3.10.8"
  }
 },
 "nbformat": 4,
 "nbformat_minor": 5
}
