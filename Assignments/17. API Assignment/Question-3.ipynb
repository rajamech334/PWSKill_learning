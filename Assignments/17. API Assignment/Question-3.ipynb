{
 "cells": [
  {
   "cell_type": "markdown",
   "id": "339b656e-5958-475c-be81-fb4f8bb7a519",
   "metadata": {},
   "source": [
    "Q3. What is a Web API? Differentiate between API and Web API.\n"
   ]
  },
  {
   "cell_type": "markdown",
   "id": "a22634f4-9767-4577-b16d-024bc6098a1d",
   "metadata": {},
   "source": [
    "Ans) \n",
    "\n",
    "A Web API (Application Programming Interface) is a type of API that uses HTTP (Hypertext Transfer Protocol) to communicate between web-based applications or services. It is a set of protocols and tools that allow web developers to create software applications that can interact with each other over the internet.\n",
    "\n",
    "Here are some key differences between API and Web API:\n",
    "\n",
    "Scope: APIs can be used for a wide range of applications, including desktop, mobile, and web-based applications, while Web APIs are specifically designed for web-based applications.\n",
    "\n",
    "Communication: APIs can use various communication protocols, including TCP/IP, FTP, and SMTP, while Web APIs rely exclusively on HTTP.\n",
    "\n",
    "Access: APIs may require special access credentials or security measures, while Web APIs often use standard web authentication mechanisms like OAuth and API keys.\n",
    "\n",
    "Data Formats: APIs can support various data formats like XML, JSON, and CSV, while Web APIs primarily use JSON and XML for data exchange.\n",
    "\n",
    "Deployment: APIs can be deployed on any platform or infrastructure, while Web APIs are typically deployed on web servers and accessed through URLs.\n",
    "\n",
    "In summary, Web APIs are a specific type of API that is designed for web-based applications and uses HTTP for communication. While there are some differences between the two, the term API is often used interchangeably with Web API in the context of web development."
   ]
  }
 ],
 "metadata": {
  "kernelspec": {
   "display_name": "Python 3 (ipykernel)",
   "language": "python",
   "name": "python3"
  },
  "language_info": {
   "codemirror_mode": {
    "name": "ipython",
    "version": 3
   },
   "file_extension": ".py",
   "mimetype": "text/x-python",
   "name": "python",
   "nbconvert_exporter": "python",
   "pygments_lexer": "ipython3",
   "version": "3.10.8"
  }
 },
 "nbformat": 4,
 "nbformat_minor": 5
}
