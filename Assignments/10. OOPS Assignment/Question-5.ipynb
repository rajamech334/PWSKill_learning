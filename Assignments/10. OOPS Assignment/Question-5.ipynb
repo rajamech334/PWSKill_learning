{
 "cells": [
  {
   "cell_type": "markdown",
   "id": "11b1f921-ade8-4b98-a569-7b72adf015cc",
   "metadata": {},
   "source": [
    "Q5. Explain why with statement is used with open(). What is the advantage of using with statement and\n",
    "open() together?\n"
   ]
  },
  {
   "cell_type": "markdown",
   "id": "642f5d99-6043-4c48-9df0-76ba35b9f75e",
   "metadata": {},
   "source": [
    "Ans) The with statement is used with the open() function in Python to open a file and perform operations on it within a block of code. The advantage of using the with statement and open() together is that it automatically takes care of closing the file once the operations are complete or an error occurs, ensuring that the resources used by the file are released in a timely and efficient manner\n",
    "\n"
   ]
  }
 ],
 "metadata": {
  "kernelspec": {
   "display_name": "Python 3 (ipykernel)",
   "language": "python",
   "name": "python3"
  },
  "language_info": {
   "codemirror_mode": {
    "name": "ipython",
    "version": 3
   },
   "file_extension": ".py",
   "mimetype": "text/x-python",
   "name": "python",
   "nbconvert_exporter": "python",
   "pygments_lexer": "ipython3",
   "version": "3.10.8"
  }
 },
 "nbformat": 4,
 "nbformat_minor": 5
}
