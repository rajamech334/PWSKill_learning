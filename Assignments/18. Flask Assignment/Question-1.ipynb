{
 "cells": [
  {
   "cell_type": "markdown",
   "id": "69c2c2f8-2d2f-4a1e-849d-232027cfc6d2",
   "metadata": {},
   "source": [
    "Q1. What is Flask Framework? What are the advantages of Flask Framework?\n"
   ]
  },
  {
   "cell_type": "markdown",
   "id": "a3e5affa-da84-4265-a69a-a5070c9d0441",
   "metadata": {},
   "source": [
    "Ans)\n",
    "\n",
    "Flask is a web framework for building web applications in Python. It is a lightweight, modular, and flexible framework that provides developers with a simple yet powerful set of tools to create web applications. Flask was first released in 2010 and has since gained popularity for its simplicity and ease of use.\n",
    "\n",
    "Here are some advantages of using Flask:\n",
    "\n",
    "Lightweight and flexible: Flask is a lightweight framework, and it doesn't impose any particular way of doing things. Developers can use their preferred libraries and tools, making it highly flexible and customizable.\n",
    "\n",
    "Easy to learn: Flask has a simple and intuitive API that is easy to understand and learn. It's a great framework for beginners to get started with web development in Python.\n",
    "\n",
    "Minimalistic: Flask provides only the essentials, and there is no unnecessary code or overhead. This makes it a great choice for small to medium-sized projects.\n",
    "\n",
    "Modular design: Flask is designed with a modular structure, allowing developers to add or remove features as needed. It also makes it easy to test individual components of the application.\n",
    "\n",
    "Powerful extensions: Flask has a vast ecosystem of extensions that provide additional functionality, such as authentication, database integration, and caching.\n",
    "\n",
    "Built-in development server: Flask comes with a built-in development server that makes it easy to test and debug applications during development"
   ]
  }
 ],
 "metadata": {
  "kernelspec": {
   "display_name": "Python 3 (ipykernel)",
   "language": "python",
   "name": "python3"
  },
  "language_info": {
   "codemirror_mode": {
    "name": "ipython",
    "version": 3
   },
   "file_extension": ".py",
   "mimetype": "text/x-python",
   "name": "python",
   "nbconvert_exporter": "python",
   "pygments_lexer": "ipython3",
   "version": "3.10.8"
  }
 },
 "nbformat": 4,
 "nbformat_minor": 5
}
