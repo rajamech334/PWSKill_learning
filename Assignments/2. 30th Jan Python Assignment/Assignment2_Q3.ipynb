{
 "cells": [
  {
   "cell_type": "code",
   "execution_count": 19,
   "id": "076b299f-68c8-4cd6-90d4-7714a71e264c",
   "metadata": {},
   "outputs": [
    {
     "name": "stdin",
     "output_type": "stream",
     "text": [
      "Enter the city name from the below list \n",
      " 1. Delhi \n",
      " 2. Agra \n",
      " 3. Jaipur \n",
      ": Jaipur\n"
     ]
    },
    {
     "name": "stdout",
     "output_type": "stream",
     "text": [
      "You selected city name as Jaipur, coresponding monument Jal Mahal\n"
     ]
    }
   ],
   "source": [
    "city = input(\"Enter the city name from the below list \\n 1. Delhi \\n 2. Agra \\n 3. Jaipur \\n:\")\n",
    "if city == 'Delhi':\n",
    "    print(\"You selected city name as {}, coresponding monument Red Fort\".format(city))\n",
    "elif city == 'Agra':\n",
    "    print(\"You selected city name as {}, coresponding monument Taj mahal\".format(city))\n",
    "elif city == 'Jaipur':\n",
    "    print(\"You selected city name as {}, coresponding monument Jal Mahal\".format(city))\n",
    "else:\n",
    "    print(\"select city name from provided list only\")"
   ]
  },
  {
   "cell_type": "code",
   "execution_count": null,
   "id": "77ba6531-2f04-4a6a-954a-4f129418ddfb",
   "metadata": {},
   "outputs": [],
   "source": []
  }
 ],
 "metadata": {
  "kernelspec": {
   "display_name": "Python 3 (ipykernel)",
   "language": "python",
   "name": "python3"
  },
  "language_info": {
   "codemirror_mode": {
    "name": "ipython",
    "version": 3
   },
   "file_extension": ".py",
   "mimetype": "text/x-python",
   "name": "python",
   "nbconvert_exporter": "python",
   "pygments_lexer": "ipython3",
   "version": "3.10.8"
  }
 },
 "nbformat": 4,
 "nbformat_minor": 5
}
