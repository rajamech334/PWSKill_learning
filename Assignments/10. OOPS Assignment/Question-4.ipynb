{
 "cells": [
  {
   "cell_type": "markdown",
   "id": "5be24864-067b-49c2-abca-dcbbc098821f",
   "metadata": {},
   "source": [
    "Q4. Explain the following with python code: read(), readline() and readlines().\n"
   ]
  },
  {
   "cell_type": "markdown",
   "id": "eaaabbba-1060-49bc-8fe8-e44824321eaf",
   "metadata": {},
   "source": [
    "Ans)\n",
    "\n",
    "read() method:\n",
    "The read() method reads the entire contents of the file and returns it as a string. If you pass an argument to the read() method, it will read only that number of characters from the file.\n",
    "\n",
    "readline() method:\n",
    "The readline() method reads one line from the file at a time. It reads characters from the file until it reaches a newline character (\\n) or the end of the file.\n",
    "\n",
    "readlines() method:\n",
    "The readlines() method reads all the lines of the file and returns them as a list of strings, where each string is a line from the file."
   ]
  }
 ],
 "metadata": {
  "kernelspec": {
   "display_name": "Python 3 (ipykernel)",
   "language": "python",
   "name": "python3"
  },
  "language_info": {
   "codemirror_mode": {
    "name": "ipython",
    "version": 3
   },
   "file_extension": ".py",
   "mimetype": "text/x-python",
   "name": "python",
   "nbconvert_exporter": "python",
   "pygments_lexer": "ipython3",
   "version": "3.10.8"
  }
 },
 "nbformat": 4,
 "nbformat_minor": 5
}
