{
 "cells": [
  {
   "cell_type": "markdown",
   "id": "d1dd8f6e-b46f-42a9-92f0-9cf392744756",
   "metadata": {},
   "source": [
    "Q) Explain why the __init__() function is used. Give a suitable example"
   ]
  },
  {
   "cell_type": "markdown",
   "id": "096c076e-9a41-4675-a86d-ed62903cc378",
   "metadata": {},
   "source": [
    "Ans) __init__ () is isued to define the instance variable while creating the object using the class methods"
   ]
  },
  {
   "cell_type": "code",
   "execution_count": 3,
   "id": "d6cb3740-cc1c-473b-869c-89ca020c2815",
   "metadata": {},
   "outputs": [
    {
     "name": "stdout",
     "output_type": "stream",
     "text": [
      "Student name:Tata\n",
      "Student ID:Tiago\n",
      "Student marks:120\n"
     ]
    }
   ],
   "source": [
    "# Example \n",
    "class car:\n",
    "    def __init__(self, make,model,speed):\n",
    "        self.car_name = make\n",
    "        self.car_model = model\n",
    "        self.car_speed = speed\n",
    "    def car_details(self):\n",
    "        print(\"Student name:{}\\nStudent ID:{}\\nStudent marks:{}\".format(self.car_name,self.car_model,self.car_speed))\n",
    "\n",
    "car1 = car(\"Tata\",\"Tiago\",120)\n",
    "car1.car_details()"
   ]
  },
  {
   "cell_type": "code",
   "execution_count": null,
   "id": "06d7714b-63bd-4975-88f3-cb2a44136d5c",
   "metadata": {},
   "outputs": [],
   "source": []
  }
 ],
 "metadata": {
  "kernelspec": {
   "display_name": "Python 3 (ipykernel)",
   "language": "python",
   "name": "python3"
  },
  "language_info": {
   "codemirror_mode": {
    "name": "ipython",
    "version": 3
   },
   "file_extension": ".py",
   "mimetype": "text/x-python",
   "name": "python",
   "nbconvert_exporter": "python",
   "pygments_lexer": "ipython3",
   "version": "3.10.8"
  }
 },
 "nbformat": 4,
 "nbformat_minor": 5
}
