{
 "cells": [
  {
   "cell_type": "markdown",
   "id": "5f861bf5-706e-482e-bd8a-9b8d099cd3cc",
   "metadata": {},
   "source": [
    "Q) Explain class and object with respcet to object-oriented programing. Give a suitable example\n"
   ]
  },
  {
   "cell_type": "markdown",
   "id": "df7fe9cc-4315-4fa5-b70c-49542206c89d",
   "metadata": {},
   "source": [
    "Ans) Class is a template, which helps user to create n number of objects\n",
    "Object is an instance of the class, It will follow the class structure"
   ]
  },
  {
   "cell_type": "code",
   "execution_count": 6,
   "id": "fff3d349-f734-4685-9b89-c40a0305461d",
   "metadata": {},
   "outputs": [],
   "source": [
    "#Example of class and object\n",
    "\n",
    "class student:\n",
    "    def __init__(self, name,id,marks):\n",
    "        self.name = name\n",
    "        self.id = id\n",
    "        self.marks = marks\n",
    "    def student_details(self):\n",
    "        print(\"Student name:{}\\nStudent ID:{}\\nStudent marks:{}\".format(self.name,self.id,self.marks))\n"
   ]
  },
  {
   "cell_type": "code",
   "execution_count": 7,
   "id": "a2db4ece-c0d3-473b-b1b6-64bfc15a7d9d",
   "metadata": {},
   "outputs": [
    {
     "name": "stdout",
     "output_type": "stream",
     "text": [
      "Student name:Raja\n",
      "Student ID:334\n",
      "Student marks:95\n"
     ]
    }
   ],
   "source": [
    "#Creating student instance using student class\n",
    "\n",
    "s1 = student(\"Raja\",334,95)\n",
    "s1.student_details()"
   ]
  },
  {
   "cell_type": "code",
   "execution_count": null,
   "id": "8bf39744-19cf-48a4-bcc0-7c8ef8f209d1",
   "metadata": {},
   "outputs": [],
   "source": []
  }
 ],
 "metadata": {
  "kernelspec": {
   "display_name": "Python 3 (ipykernel)",
   "language": "python",
   "name": "python3"
  },
  "language_info": {
   "codemirror_mode": {
    "name": "ipython",
    "version": 3
   },
   "file_extension": ".py",
   "mimetype": "text/x-python",
   "name": "python",
   "nbconvert_exporter": "python",
   "pygments_lexer": "ipython3",
   "version": "3.10.8"
  }
 },
 "nbformat": 4,
 "nbformat_minor": 5
}
