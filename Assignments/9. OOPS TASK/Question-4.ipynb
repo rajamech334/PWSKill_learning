{
 "cells": [
  {
   "cell_type": "markdown",
   "id": "207a0106-94a9-47df-9236-90fee0b0da32",
   "metadata": {},
   "source": [
    "Ans)\n",
    "Getter and setter are the function will be used in a class to call the properties and update the properties of an object"
   ]
  },
  {
   "cell_type": "code",
   "execution_count": 1,
   "id": "c3deb01b-e90f-475d-8474-5459c6f749fa",
   "metadata": {},
   "outputs": [],
   "source": [
    "class Car:\n",
    "    def __init__(self, make, model, year):\n",
    "        self._make = make\n",
    "        self._model = model\n",
    "        self._year = year\n",
    "\n",
    "    # Getter method to retrieve the value of the \"make\" attribute\n",
    "    @property\n",
    "    def make(self):\n",
    "        return self._make\n",
    "\n",
    "    # Setter method to set the value of the \"make\" attribute\n",
    "    @make.setter\n",
    "    def make(self, value):\n",
    "        self._make = value\n",
    "\n",
    "    # Getter method to retrieve the value of the \"model\" attribute\n",
    "    @property\n",
    "    def model(self):\n",
    "        return self._model\n",
    "\n",
    "    # Setter method to set the value of the \"model\" attribute\n",
    "    @model.setter\n",
    "    def model(self, value):\n",
    "        self._model = value\n",
    "\n",
    "    # Getter method to retrieve the value of the \"year\" attribute\n",
    "    @property\n",
    "    def year(self):\n",
    "        return self._year\n",
    "\n",
    "    # Setter method to set the value of the \"year\" attribute\n",
    "    @year.setter\n",
    "    def year(self, value):\n",
    "        self._year = value\n"
   ]
  },
  {
   "cell_type": "code",
   "execution_count": 7,
   "id": "8204b9c9-ea2e-44a6-952f-4dca8fd2f739",
   "metadata": {},
   "outputs": [
    {
     "name": "stdout",
     "output_type": "stream",
     "text": [
      "Make existing make of the car: TATA\n",
      "Chaning the car make \n",
      "New make of the car: Tata motors\n"
     ]
    }
   ],
   "source": [
    "c1 = Car(\"TATA\",\"Tiago\",2019)\n",
    "print(\"Make existing make of the car:\",c1.make) # example to use getter method\n",
    "print(\"Chaning the car make \")\n",
    "c1.make = \"Tata motors\"# example to use setter method\n",
    "print(\"New make of the car:\",c1.make)\n"
   ]
  },
  {
   "cell_type": "code",
   "execution_count": null,
   "id": "7909e3f2-b4e0-4b79-af66-252d27552007",
   "metadata": {},
   "outputs": [],
   "source": []
  }
 ],
 "metadata": {
  "kernelspec": {
   "display_name": "Python 3 (ipykernel)",
   "language": "python",
   "name": "python3"
  },
  "language_info": {
   "codemirror_mode": {
    "name": "ipython",
    "version": 3
   },
   "file_extension": ".py",
   "mimetype": "text/x-python",
   "name": "python",
   "nbconvert_exporter": "python",
   "pygments_lexer": "ipython3",
   "version": "3.10.8"
  }
 },
 "nbformat": 4,
 "nbformat_minor": 5
}
