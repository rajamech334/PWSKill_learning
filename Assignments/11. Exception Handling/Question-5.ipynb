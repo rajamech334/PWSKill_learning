{
 "cells": [
  {
   "cell_type": "markdown",
   "id": "de59a9a2-5884-4358-8d62-e4ddcd75abda",
   "metadata": {},
   "source": [
    "Q5) what are custom exceptions in python ? Why do we need custom exceptions? explain with example?"
   ]
  },
  {
   "cell_type": "markdown",
   "id": "556f2ac0-5e57-4882-b707-848f9c931576",
   "metadata": {},
   "source": [
    "Ans)\n",
    "\n",
    "In Python, we can create custom exceptions by defining a new class that inherits from the built-in Exception class or one of its subclasses. Custom exceptions allow us to define our own specific types of errors and provide more detailed information about them. This can help us to write more robust and maintainable code by providing better error handling and more informative error messages.\n"
   ]
  },
  {
   "cell_type": "code",
   "execution_count": 2,
   "id": "7528a520-ceb2-46f7-9e07-0a49ca5a007f",
   "metadata": {},
   "outputs": [
    {
     "name": "stdout",
     "output_type": "stream",
     "text": [
      "50.0\n",
      "Error: Quantity cannot be negative\n"
     ]
    }
   ],
   "source": [
    "class InvalidInputError(Exception):\n",
    "    pass\n",
    "\n",
    "\n",
    "def calculate_price(quantity):\n",
    "    if quantity < 0:\n",
    "        raise InvalidInputError(\"Quantity cannot be negative\")\n",
    "    price = 10.0\n",
    "    total_price = quantity * price\n",
    "    return total_price\n",
    "\n",
    "try:\n",
    "    print(calculate_price(5))\n",
    "    print(calculate_price(-1))\n",
    "except InvalidInputError as e:\n",
    "    print(\"Error:\", e)\n"
   ]
  },
  {
   "cell_type": "markdown",
   "id": "b512c8cd-7744-4e1b-8258-55b8a7e6fa45",
   "metadata": {},
   "source": [
    "Explaination: \n",
    "In this example, we define a new exception called InvalidInputError that inherits from the built-in Exception class. We don't add any additional functionality to the exception by defining an empty pass statement. After that we modify the calculate_price function to raise our new custom exception when the input quantity is negative. We also update the except block to catch the InvalidInputError exception instead of the more generic ValueError."
   ]
  }
 ],
 "metadata": {
  "kernelspec": {
   "display_name": "Python 3 (ipykernel)",
   "language": "python",
   "name": "python3"
  },
  "language_info": {
   "codemirror_mode": {
    "name": "ipython",
    "version": 3
   },
   "file_extension": ".py",
   "mimetype": "text/x-python",
   "name": "python",
   "nbconvert_exporter": "python",
   "pygments_lexer": "ipython3",
   "version": "3.10.8"
  }
 },
 "nbformat": 4,
 "nbformat_minor": 5
}
