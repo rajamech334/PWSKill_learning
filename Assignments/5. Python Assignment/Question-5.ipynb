{
 "cells": [
  {
   "cell_type": "markdown",
   "id": "ff979db7-1d50-42bd-95ad-841578563782",
   "metadata": {},
   "source": [
    "Q)write a python program to filter the number in give list [2,3,6,9,27,60,90,120,55,46] that are divisible by 2 and 3 using the filter function"
   ]
  },
  {
   "cell_type": "code",
   "execution_count": 1,
   "id": "7c2c5808-3d10-4119-9693-d1ee2093111d",
   "metadata": {},
   "outputs": [
    {
     "name": "stdout",
     "output_type": "stream",
     "text": [
      "[6, 60, 90, 120]\n"
     ]
    }
   ],
   "source": [
    "my_list = [2, 3, 6, 9, 27, 60, 90, 120, 55, 46]\n",
    "\n",
    "filtered_list = list(filter(lambda x: (x % 2 == 0 and x % 3 == 0), my_list))\n",
    "\n",
    "print(filtered_list)\n"
   ]
  }
 ],
 "metadata": {
  "kernelspec": {
   "display_name": "Python 3 (ipykernel)",
   "language": "python",
   "name": "python3"
  },
  "language_info": {
   "codemirror_mode": {
    "name": "ipython",
    "version": 3
   },
   "file_extension": ".py",
   "mimetype": "text/x-python",
   "name": "python",
   "nbconvert_exporter": "python",
   "pygments_lexer": "ipython3",
   "version": "3.10.8"
  }
 },
 "nbformat": 4,
 "nbformat_minor": 5
}
