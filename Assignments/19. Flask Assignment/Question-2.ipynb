{
 "cells": [
  {
   "cell_type": "markdown",
   "id": "b0a6f635-5213-4cb7-bd8e-db6622e07cf5",
   "metadata": {},
   "source": [
    "Q2. Why is request used in Flask?\n"
   ]
  },
  {
   "cell_type": "markdown",
   "id": "d8409dbc-f5b6-4f5c-8398-8b3318f48d5c",
   "metadata": {},
   "source": [
    "Ans)\n",
    "\n",
    "In Flask, the request object is used to access data that is sent in an HTTP request from a client to the server. This object allows you to retrieve data such as form data, query parameters, cookies, and HTTP headers."
   ]
  }
 ],
 "metadata": {
  "kernelspec": {
   "display_name": "Python 3 (ipykernel)",
   "language": "python",
   "name": "python3"
  },
  "language_info": {
   "codemirror_mode": {
    "name": "ipython",
    "version": 3
   },
   "file_extension": ".py",
   "mimetype": "text/x-python",
   "name": "python",
   "nbconvert_exporter": "python",
   "pygments_lexer": "ipython3",
   "version": "3.10.8"
  }
 },
 "nbformat": 4,
 "nbformat_minor": 5
}
