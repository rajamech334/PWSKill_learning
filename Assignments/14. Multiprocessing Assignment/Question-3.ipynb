{
 "cells": [
  {
   "cell_type": "markdown",
   "id": "eb55b653-301e-4bfa-849f-560bffc7284f",
   "metadata": {},
   "source": [
    "Q3. Write a python code to create a process using the multiprocessing module.\n"
   ]
  },
  {
   "cell_type": "code",
   "execution_count": 1,
   "id": "e0dc78cd-e6ed-4658-b941-36b41499aa7c",
   "metadata": {},
   "outputs": [
    {
     "name": "stdout",
     "output_type": "stream",
     "text": [
      "Worker process started\n",
      "Worker process finished\n",
      "Main process finished\n"
     ]
    }
   ],
   "source": [
    "import multiprocessing\n",
    "\n",
    "def worker():\n",
    "    \"\"\"A simple function to demonstrate multiprocessing\"\"\"\n",
    "    print(\"Worker process started\")\n",
    "    # Do some work here...\n",
    "    print(\"Worker process finished\")\n",
    "\n",
    "if __name__ == '__main__':\n",
    "    # Create a new process\n",
    "    process = multiprocessing.Process(target=worker)\n",
    "    # Start the process\n",
    "    process.start()\n",
    "    # Wait for the process to finish\n",
    "    process.join()\n",
    "    print(\"Main process finished\")\n"
   ]
  },
  {
   "cell_type": "code",
   "execution_count": null,
   "id": "710d1031-f19d-4bd0-891d-0d4511a9ea71",
   "metadata": {},
   "outputs": [],
   "source": []
  }
 ],
 "metadata": {
  "kernelspec": {
   "display_name": "Python 3 (ipykernel)",
   "language": "python",
   "name": "python3"
  },
  "language_info": {
   "codemirror_mode": {
    "name": "ipython",
    "version": 3
   },
   "file_extension": ".py",
   "mimetype": "text/x-python",
   "name": "python",
   "nbconvert_exporter": "python",
   "pygments_lexer": "ipython3",
   "version": "3.10.8"
  }
 },
 "nbformat": 4,
 "nbformat_minor": 5
}
