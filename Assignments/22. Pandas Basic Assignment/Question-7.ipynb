{
 "cells": [
  {
   "cell_type": "markdown",
   "id": "9b2c4d71-44de-4fcb-9bb7-bb53753bfb83",
   "metadata": {},
   "source": [
    "Q7. Create a DataFrame using multiple Series. Explain with an example."
   ]
  },
  {
   "cell_type": "code",
   "execution_count": 4,
   "id": "feacd2e3-5f2e-4dfe-9d76-3838f0477029",
   "metadata": {},
   "outputs": [
    {
     "name": "stdout",
     "output_type": "stream",
     "text": [
      "    Name  Age  Salary\n",
      "0   Raja   25   50000\n",
      "1  Madhu   30   60000\n",
      "2   Nani   35   70000\n"
     ]
    }
   ],
   "source": [
    "#Ans)\n",
    "\n",
    "import pandas as pd\n",
    "\n",
    "# Create three Series\n",
    "name = pd.Series(['Raja', 'Madhu', 'Nani'])\n",
    "age = pd.Series([25, 30, 35])\n",
    "salary = pd.Series([50000, 60000, 70000])\n",
    "\n",
    "# Create a DataFrame from the Series\n",
    "df = pd.DataFrame({'Name': name, 'Age': age, 'Salary': salary})\n",
    "\n",
    "print(df)\n"
   ]
  }
 ],
 "metadata": {
  "kernelspec": {
   "display_name": "Python 3 (ipykernel)",
   "language": "python",
   "name": "python3"
  },
  "language_info": {
   "codemirror_mode": {
    "name": "ipython",
    "version": 3
   },
   "file_extension": ".py",
   "mimetype": "text/x-python",
   "name": "python",
   "nbconvert_exporter": "python",
   "pygments_lexer": "ipython3",
   "version": "3.10.8"
  }
 },
 "nbformat": 4,
 "nbformat_minor": 5
}
