{
 "cells": [
  {
   "cell_type": "raw",
   "id": "f5c17c64-cd49-4378-b928-d98136e29ed7",
   "metadata": {},
   "source": [
    "1.\tcount - returns the number of occurrences of a specified element in the tuple.\n",
    "2.\tindex - returns the index of the first occurrence of a specified element in the tuple.\n",
    "Since tuples are immutable it has limited functioned\n"
   ]
  },
  {
   "cell_type": "code",
   "execution_count": 2,
   "id": "1ab08c58-0f7c-4889-9d63-e6afe6a2d95b",
   "metadata": {},
   "outputs": [],
   "source": [
    "t1 = (1,2,2,4,5,6.6,\"Raja\",True,45-7j)"
   ]
  },
  {
   "cell_type": "code",
   "execution_count": 3,
   "id": "56efc307-73ae-4880-aba2-713600c521a2",
   "metadata": {},
   "outputs": [
    {
     "data": {
      "text/plain": [
       "(1, 2, 2, 4, 5, 6.6, 'Raja', True, (45-7j))"
      ]
     },
     "execution_count": 3,
     "metadata": {},
     "output_type": "execute_result"
    }
   ],
   "source": [
    "t1"
   ]
  },
  {
   "cell_type": "code",
   "execution_count": 4,
   "id": "184f4d64-9460-489a-9a04-745441dae4b1",
   "metadata": {},
   "outputs": [
    {
     "name": "stdout",
     "output_type": "stream",
     "text": [
      "2\n"
     ]
    }
   ],
   "source": [
    "print(t1.count(2))"
   ]
  },
  {
   "cell_type": "code",
   "execution_count": 7,
   "id": "1cd12251-7dec-42ec-80cf-9aebe2397edd",
   "metadata": {},
   "outputs": [
    {
     "name": "stdout",
     "output_type": "stream",
     "text": [
      "1\n"
     ]
    }
   ],
   "source": [
    "print(t1.index(2))"
   ]
  }
 ],
 "metadata": {
  "kernelspec": {
   "display_name": "Python 3 (ipykernel)",
   "language": "python",
   "name": "python3"
  },
  "language_info": {
   "codemirror_mode": {
    "name": "ipython",
    "version": 3
   },
   "file_extension": ".py",
   "mimetype": "text/x-python",
   "name": "python",
   "nbconvert_exporter": "python",
   "pygments_lexer": "ipython3",
   "version": "3.10.8"
  }
 },
 "nbformat": 4,
 "nbformat_minor": 5
}
