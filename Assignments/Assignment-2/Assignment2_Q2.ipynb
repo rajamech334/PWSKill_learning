{
 "cells": [
  {
   "cell_type": "code",
   "execution_count": 7,
   "id": "122eb4a1-fdd1-4665-a7ff-07ae0e029458",
   "metadata": {},
   "outputs": [
    {
     "name": "stdin",
     "output_type": "stream",
     "text": [
      "please enter the cost of the bike: 45000\n"
     ]
    },
    {
     "name": "stdout",
     "output_type": "stream",
     "text": [
      "Total tax to be paid is: 2250.0\n"
     ]
    }
   ],
   "source": [
    "bike_cost = int(input(\"please enter the cost of the bike:\"))\n",
    "if bike_cost>100000:\n",
    "    print(\"Total tax to be paid is:\",bike_cost*0.15)\n",
    "elif 50000<bike_cost<=100000:\n",
    "    print(\"Total tx to b paid is:\", bike_cost*0.1)\n",
    "else:\n",
    "    print(\"Total tax to be paid is:\", bike_cost*0.05)"
   ]
  },
  {
   "cell_type": "code",
   "execution_count": null,
   "id": "860df90d-9488-489b-b6fb-16ae9f00e7a7",
   "metadata": {},
   "outputs": [],
   "source": []
  }
 ],
 "metadata": {
  "kernelspec": {
   "display_name": "Python 3 (ipykernel)",
   "language": "python",
   "name": "python3"
  },
  "language_info": {
   "codemirror_mode": {
    "name": "ipython",
    "version": 3
   },
   "file_extension": ".py",
   "mimetype": "text/x-python",
   "name": "python",
   "nbconvert_exporter": "python",
   "pygments_lexer": "ipython3",
   "version": "3.10.8"
  }
 },
 "nbformat": 4,
 "nbformat_minor": 5
}
