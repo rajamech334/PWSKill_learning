{
 "cells": [
  {
   "cell_type": "markdown",
   "id": "5be04d1f-6467-42de-9baf-2ddccdafdcf2",
   "metadata": {},
   "source": [
    "Q1) What is multiprocessing in python? Why is it useful?"
   ]
  },
  {
   "cell_type": "markdown",
   "id": "4615a91e-75bc-422d-9d49-e9954f491d89",
   "metadata": {},
   "source": [
    "Ans) \n",
    "\n",
    "Multiprocessing is a Python module that allows the creation and management of processes, which are separate instances of a program that can run concurrently with each other. This module provides a way to take advantage of multi-core processors in order to speed up the execution of CPU-intensive tasks.\n",
    "\n",
    "Multiprocessing is useful because it allows a Python program to take advantage of the full processing power of a computer, instead of being limited to a single core. This can significantly improve the performance of certain types of applications, such as those that involve large amounts of data processing or numerical calculations."
   ]
  }
 ],
 "metadata": {
  "kernelspec": {
   "display_name": "Python 3 (ipykernel)",
   "language": "python",
   "name": "python3"
  },
  "language_info": {
   "codemirror_mode": {
    "name": "ipython",
    "version": 3
   },
   "file_extension": ".py",
   "mimetype": "text/x-python",
   "name": "python",
   "nbconvert_exporter": "python",
   "pygments_lexer": "ipython3",
   "version": "3.10.8"
  }
 },
 "nbformat": 4,
 "nbformat_minor": 5
}
