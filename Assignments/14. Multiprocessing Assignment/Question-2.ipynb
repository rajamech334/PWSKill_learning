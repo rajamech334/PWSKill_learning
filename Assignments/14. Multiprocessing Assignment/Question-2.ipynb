{
 "cells": [
  {
   "cell_type": "markdown",
   "id": "d83e8b25-9099-4ffb-8cea-cc694b8658d8",
   "metadata": {},
   "source": [
    "Q2. What are the differences between multiprocessing and multithreading?\n"
   ]
  },
  {
   "cell_type": "markdown",
   "id": "b611b592-0eb3-4a44-ad6b-4a68f03dc9a2",
   "metadata": {},
   "source": [
    "Ans) \n",
    "\n",
    "Multiprocessing and multithreading are both techniques for achieving concurrency in a program, but they differ in several important ways.\n",
    "\n",
    "Execution Model:\n",
    "Multiprocessing involves running multiple processes simultaneously, where each process has its own memory space and executes independently of other processes.\n",
    "Multithreading involves running multiple threads within a single process, where each thread shares the same memory space and executes within the same context as the other threads.\n",
    "Resource Management:\n",
    "In multiprocessing, each process has its own resources, such as memory and CPU time, which are managed independently of other processes.\n",
    "In multithreading, all threads within a process share the same resources, and these resources must be managed carefully to avoid conflicts between threads.\n",
    "Communication:\n",
    "In multiprocessing, communication between processes is typically accomplished using inter-process communication (IPC) mechanisms, such as pipes, queues, or shared memory.\n",
    "In multithreading, communication between threads can be achieved through shared data structures or by using synchronization mechanisms such as locks, semaphores, or barriers.\n",
    "Scalability:\n",
    "Multiprocessing is generally more scalable than multithreading, as it can take advantage of multiple processors or cores to achieve parallelism.\n",
    "Multithreading may suffer from contention for shared resources or synchronization overhead, which can limit its scalability.\n",
    "Fault Isolation:\n",
    "In multiprocessing, each process runs in its own memory space, which provides a degree of fault isolation. If one process crashes, it does not affect the other processes.\n",
    "In multithreading, a bug or error in one thread can potentially affect the entire process, as all threads share the same memory space."
   ]
  }
 ],
 "metadata": {
  "kernelspec": {
   "display_name": "Python 3 (ipykernel)",
   "language": "python",
   "name": "python3"
  },
  "language_info": {
   "codemirror_mode": {
    "name": "ipython",
    "version": 3
   },
   "file_extension": ".py",
   "mimetype": "text/x-python",
   "name": "python",
   "nbconvert_exporter": "python",
   "pygments_lexer": "ipython3",
   "version": "3.10.8"
  }
 },
 "nbformat": 4,
 "nbformat_minor": 5
}
