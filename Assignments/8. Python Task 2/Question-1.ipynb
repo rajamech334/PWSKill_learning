{
 "cells": [
  {
   "cell_type": "code",
   "execution_count": 22,
   "id": "9fa2f73e-17af-4cf5-a411-3b13280d2d97",
   "metadata": {},
   "outputs": [
    {
     "data": {
      "text/plain": [
       "True"
      ]
     },
     "execution_count": 22,
     "metadata": {},
     "output_type": "execute_result"
    }
   ],
   "source": [
    "import string\n",
    "\n",
    "def check_password(password):\n",
    "   \n",
    "    num_lowercase = 0\n",
    "    num_uppercase = 0\n",
    "    num_special = 0\n",
    "    num_digits = 0\n",
    "    \n",
    "    if len(password)>=10:\n",
    "        for char in password:\n",
    "            if char in string.ascii_lowercase:\n",
    "                num_lowercase += 1\n",
    "            elif char in string.ascii_uppercase:\n",
    "                num_uppercase += 1\n",
    "            elif char in string.punctuation:\n",
    "                num_special += 1\n",
    "            elif char.isdigit():\n",
    "                num_digits += 1\n",
    "    \n",
    "    if num_lowercase >= 2 and num_uppercase >= 2 and num_special >= 3 and num_digits >= 2:\n",
    "        return True\n",
    "    else:\n",
    "        return False\n",
    "\n",
    "check_password(\"RajaDasari!@#334\")"
   ]
  },
  {
   "cell_type": "code",
   "execution_count": null,
   "id": "38f0bfb4-7449-474b-a586-392452e53a90",
   "metadata": {},
   "outputs": [],
   "source": []
  }
 ],
 "metadata": {
  "kernelspec": {
   "display_name": "Python 3 (ipykernel)",
   "language": "python",
   "name": "python3"
  },
  "language_info": {
   "codemirror_mode": {
    "name": "ipython",
    "version": 3
   },
   "file_extension": ".py",
   "mimetype": "text/x-python",
   "name": "python",
   "nbconvert_exporter": "python",
   "pygments_lexer": "ipython3",
   "version": "3.10.8"
  }
 },
 "nbformat": 4,
 "nbformat_minor": 5
}
