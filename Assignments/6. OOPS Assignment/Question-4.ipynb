{
 "cells": [
  {
   "cell_type": "markdown",
   "id": "af2a21e2-4b8a-498a-a449-915ccd17107e",
   "metadata": {},
   "source": [
    "Q) Why self is used in OOPs?"
   ]
  },
  {
   "cell_type": "markdown",
   "id": "965918c8-12b6-4bf3-80cd-633356235dd3",
   "metadata": {},
   "source": [
    "Ans) Self is used to point the memory location for an object to define and trace"
   ]
  }
 ],
 "metadata": {
  "kernelspec": {
   "display_name": "Python 3 (ipykernel)",
   "language": "python",
   "name": "python3"
  },
  "language_info": {
   "codemirror_mode": {
    "name": "ipython",
    "version": 3
   },
   "file_extension": ".py",
   "mimetype": "text/x-python",
   "name": "python",
   "nbconvert_exporter": "python",
   "pygments_lexer": "ipython3",
   "version": "3.10.8"
  }
 },
 "nbformat": 4,
 "nbformat_minor": 5
}
