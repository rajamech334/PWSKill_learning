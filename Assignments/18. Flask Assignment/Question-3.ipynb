{
 "cells": [
  {
   "cell_type": "markdown",
   "id": "8850f701-487f-41ce-914e-747104509ac2",
   "metadata": {},
   "source": [
    "Q3. What is App routing in Flask? Why do we use app routes?"
   ]
  },
  {
   "cell_type": "markdown",
   "id": "3684db1a-f846-4a18-872b-f4e87d566a5a",
   "metadata": {},
   "source": [
    "Ans)\n",
    "\n",
    "In Flask, routing refers to mapping URLs to specific functions that handle those URLs. This is done using the @app.route decorator in Flask.\n",
    "We use app routes in Flask to handle different URL requests from the client and to display different content on the web page. When a client sends a request to the Flask server, Flask uses the route defined for that request to determine which function to call to generate the response. This allows us to create dynamic web pages that can display different content based on the URL requested."
   ]
  }
 ],
 "metadata": {
  "kernelspec": {
   "display_name": "Python 3 (ipykernel)",
   "language": "python",
   "name": "python3"
  },
  "language_info": {
   "codemirror_mode": {
    "name": "ipython",
    "version": 3
   },
   "file_extension": ".py",
   "mimetype": "text/x-python",
   "name": "python",
   "nbconvert_exporter": "python",
   "pygments_lexer": "ipython3",
   "version": "3.10.8"
  }
 },
 "nbformat": 4,
 "nbformat_minor": 5
}
