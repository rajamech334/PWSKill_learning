{
 "cells": [
  {
   "cell_type": "markdown",
   "id": "b6d04a7a-537a-477f-ae83-ba6fc0a2e1ea",
   "metadata": {},
   "source": [
    "Ans) Multiple inheritance means child object will inherit the properties and behaviour from multiple parent classes "
   ]
  },
  {
   "cell_type": "code",
   "execution_count": 11,
   "id": "cebc8f54-fd29-455f-b04f-b8c3ec2a0650",
   "metadata": {},
   "outputs": [
    {
     "data": {
      "text/plain": [
       "'Tata'"
      ]
     },
     "execution_count": 11,
     "metadata": {},
     "output_type": "execute_result"
    }
   ],
   "source": [
    "#Example \n",
    "class vehicle1:\n",
    "    def __init__(self,name_of_vehicle,max_speed,average_of_vehicle):\n",
    "        self.name_of_vehicle = name_of_vehicle\n",
    "        self.max_speed = max_speed\n",
    "        self.average_of_vehicle = average_of_vehicle\n",
    "    \n",
    "class vehicle2:\n",
    "    def make(self):\n",
    "        return \"Tata\"\n",
    "        \n",
    "class car(vehicle1,vehicle2):\n",
    "    pass\n",
    "\n",
    "v1 = car(\"Tiago\", 120,3.5)\n",
    "v1.make()"
   ]
  },
  {
   "cell_type": "code",
   "execution_count": null,
   "id": "a1db7f96-688e-4a14-9692-cf9fe6aac305",
   "metadata": {},
   "outputs": [],
   "source": []
  }
 ],
 "metadata": {
  "kernelspec": {
   "display_name": "Python 3 (ipykernel)",
   "language": "python",
   "name": "python3"
  },
  "language_info": {
   "codemirror_mode": {
    "name": "ipython",
    "version": 3
   },
   "file_extension": ".py",
   "mimetype": "text/x-python",
   "name": "python",
   "nbconvert_exporter": "python",
   "pygments_lexer": "ipython3",
   "version": "3.10.8"
  }
 },
 "nbformat": 4,
 "nbformat_minor": 5
}
