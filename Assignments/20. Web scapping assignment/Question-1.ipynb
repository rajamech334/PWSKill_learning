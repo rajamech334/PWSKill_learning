{
 "cells": [
  {
   "cell_type": "markdown",
   "id": "77119917-1ba6-4997-8b92-65f1753621e1",
   "metadata": {},
   "source": [
    "Q1. What is Web Scraping? Why is it Used? Give three areas where Web Scraping is used to get data.\n"
   ]
  },
  {
   "cell_type": "markdown",
   "id": "31b9c538-1801-4d2d-8514-87d30e85380a",
   "metadata": {},
   "source": [
    "Ans)\n",
    "\n",
    "Web scraping is the process of automatically extracting data from websites. It involves writing code to programmatically access a website, parse its contents, and extract the data you're interested in. This data can then be analyzed or stored in a database for later use.\n",
    "\n",
    "Web scraping is used for a variety of purposes, including:\n",
    "\n",
    "1. Data collection: Web scraping can be used to collect large amounts of data from websites that do not offer APIs or other means of accessing their data.\n",
    "\n",
    "2. Price monitoring: Web scraping can be used to monitor prices on e-commerce websites and alert users when prices drop or when a product becomes available.\n",
    "\n",
    "3. Research: Web scraping can be used to gather data for research purposes, such as analyzing trends in social media or tracking changes to a website over time\n",
    "\n",
    "Here are three specific areas where web scraping is commonly used:\n",
    "\n",
    "1. E-commerce: Web scraping is commonly used in the e-commerce industry to collect pricing data, product information, and customer reviews from competitor websites.\n",
    "\n",
    "2. Business intelligence: Web scraping can be used to collect data on companies, industries, and markets for business intelligence purposes, such as identifying trends, competitors, and potential customers.\n",
    "\n",
    "3. Journalism: Web scraping is increasingly being used by journalists to gather data for investigative reporting, such as tracking political donations or analyzing online advertisement"
   ]
  }
 ],
 "metadata": {
  "kernelspec": {
   "display_name": "Python 3 (ipykernel)",
   "language": "python",
   "name": "python3"
  },
  "language_info": {
   "codemirror_mode": {
    "name": "ipython",
    "version": 3
   },
   "file_extension": ".py",
   "mimetype": "text/x-python",
   "name": "python",
   "nbconvert_exporter": "python",
   "pygments_lexer": "ipython3",
   "version": "3.10.8"
  }
 },
 "nbformat": 4,
 "nbformat_minor": 5
}
