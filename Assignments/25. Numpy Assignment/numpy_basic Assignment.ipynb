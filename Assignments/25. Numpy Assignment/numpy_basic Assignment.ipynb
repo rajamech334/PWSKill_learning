{
 "cells": [
  {
   "cell_type": "code",
   "execution_count": 2,
   "id": "28be5724-1230-4127-b3a3-47e7630feef7",
   "metadata": {},
   "outputs": [],
   "source": [
    "import numpy as np\n",
    "\n",
    "list_ = [ '1' , '2' , '3' , '4' , '5' ]\n",
    "\n",
    "array_list = np.array(object = list_)"
   ]
  },
  {
   "cell_type": "markdown",
   "id": "58729955-d68c-4e82-b60f-fdb42be17554",
   "metadata": {},
   "source": [
    "Q1. Is there any difference in the data type of variables list_ and array_list? If there is then write a code\n",
    "to print the data types of both the variables.\n"
   ]
  },
  {
   "cell_type": "code",
   "execution_count": 3,
   "id": "cb144753-20b9-43b4-bef2-ac1a9fab0a99",
   "metadata": {},
   "outputs": [
    {
     "name": "stdout",
     "output_type": "stream",
     "text": [
      "<class 'list'>\n",
      "<class 'numpy.ndarray'>\n"
     ]
    }
   ],
   "source": [
    "# Yes, there is a difference in the data type of list_ and array_list. The list_ is a Python list object, whereas array_list is a NumPy ndarray object.\n",
    "\n",
    "import numpy as np\n",
    "\n",
    "list_ = ['1', '2', '3', '4', '5']\n",
    "\n",
    "# Print the data type of the list variable\n",
    "print(type(list_))\n",
    "\n",
    "array_list = np.array(list_)\n",
    "\n",
    "# Print the data type of the ndarray variable\n",
    "print(type(array_list))\n"
   ]
  },
  {
   "cell_type": "markdown",
   "id": "6136da3f-ed45-472c-86b3-be0edbcb4c19",
   "metadata": {},
   "source": [
    "Q2. Write a code to print the data type of each and every element of both the variables list_ and\n",
    "arra_list.\n"
   ]
  },
  {
   "cell_type": "code",
   "execution_count": 4,
   "id": "6d0a5124-7eb0-40c1-88ce-69bb987a8677",
   "metadata": {},
   "outputs": [
    {
     "name": "stdout",
     "output_type": "stream",
     "text": [
      "<class 'str'>\n",
      "<class 'str'>\n",
      "<class 'str'>\n",
      "<class 'str'>\n",
      "<class 'str'>\n",
      "<class 'numpy.str_'>\n",
      "<class 'numpy.str_'>\n",
      "<class 'numpy.str_'>\n",
      "<class 'numpy.str_'>\n",
      "<class 'numpy.str_'>\n"
     ]
    }
   ],
   "source": [
    "import numpy as np\n",
    "\n",
    "list_ = ['1', '2', '3', '4', '5']\n",
    "array_list = np.array(list_)\n",
    "\n",
    "# Print the data type of each element in the list\n",
    "for element in list_:\n",
    "    print(type(element))\n",
    "\n",
    "# Print the data type of each element in the ndarray\n",
    "for element in array_list:\n",
    "    print(type(element))\n"
   ]
  },
  {
   "cell_type": "markdown",
   "id": "770903ac-23ab-46d5-b858-7b77125c45b5",
   "metadata": {},
   "source": [
    "Q3. Considering the following changes in the variable, array_list:\n",
    "\n",
    "array_list = np.array(object = list_, dtype = int)\n",
    "\n",
    "Will there be any difference in the data type of the elements present in both the variables, list_ and\n",
    "arra_list? If so then print the data types of each and every element present in both the variables, list_\n",
    "and arra_list."
   ]
  },
  {
   "cell_type": "code",
   "execution_count": 5,
   "id": "f8e8deb4-c0d8-4073-b31d-64fc9cc7a8de",
   "metadata": {},
   "outputs": [
    {
     "name": "stdout",
     "output_type": "stream",
     "text": [
      "<class 'str'>\n",
      "<class 'str'>\n",
      "<class 'str'>\n",
      "<class 'str'>\n",
      "<class 'str'>\n",
      "<class 'numpy.int64'>\n",
      "<class 'numpy.int64'>\n",
      "<class 'numpy.int64'>\n",
      "<class 'numpy.int64'>\n",
      "<class 'numpy.int64'>\n"
     ]
    }
   ],
   "source": [
    "import numpy as np\n",
    "\n",
    "list_ = ['1', '2', '3', '4', '5']\n",
    "array_list = np.array(list_, dtype=int)\n",
    "\n",
    "# Print the data type of each element in the list\n",
    "for element in list_:\n",
    "    print(type(element))\n",
    "\n",
    "# Print the data type of each element in the ndarray\n",
    "for element in array_list:\n",
    "    print(type(element))\n"
   ]
  },
  {
   "cell_type": "markdown",
   "id": "29fb13f3-287a-40ac-9f0f-9ca731fa96de",
   "metadata": {},
   "source": [
    "Yes, there will be a difference in the data type of the elements present in list_ and array_list after the change, because the dtype parameter in the np.array() function specifies the data type of the elements in the resulting NumPy ndarray.\n",
    "\n",
    "In this case, the dtype parameter is set to int, which means that the elements in array_list will be of integer type."
   ]
  },
  {
   "cell_type": "markdown",
   "id": "a43fb1a0-1661-4657-8f41-f6928b170768",
   "metadata": {},
   "source": [
    "import numpy as np\n",
    "\n",
    "num_list = [ [ 1 , 2 , 3 ] , [ 4 , 5 , 6 ] ]\n",
    "\n",
    "num_array = np.array(object = num_list)\n",
    "\n",
    "Q4. Write a code to find the following characteristics of variable, num_array:\n",
    "\n",
    "(i) shape\n",
    "\n",
    "(ii) size\n",
    "\n"
   ]
  },
  {
   "cell_type": "code",
   "execution_count": 6,
   "id": "dec640e1-aef8-426f-8687-8abdff34360e",
   "metadata": {},
   "outputs": [
    {
     "name": "stdout",
     "output_type": "stream",
     "text": [
      "Shape of num_array: (2, 3)\n",
      "Size of num_array: 6\n"
     ]
    }
   ],
   "source": [
    "import numpy as np\n",
    "\n",
    "num_list = [[1, 2, 3], [4, 5, 6]]\n",
    "num_array = np.array(num_list)\n",
    "\n",
    "# Print the shape of the ndarray\n",
    "print(\"Shape of num_array:\", num_array.shape)\n",
    "\n",
    "# Print the size of the ndarray\n",
    "print(\"Size of num_array:\", num_array.size)\n"
   ]
  },
  {
   "cell_type": "markdown",
   "id": "0159563a-3eed-480a-b4ee-4ee5aa928549",
   "metadata": {},
   "source": [
    "Q5. Write a code to create numpy array of 3*3 matrix containing zeros only, using a numpy array\n",
    "creation function.\n"
   ]
  },
  {
   "cell_type": "code",
   "execution_count": 7,
   "id": "66768de6-1a9b-4d5c-adc8-a5d01e281de0",
   "metadata": {},
   "outputs": [
    {
     "name": "stdout",
     "output_type": "stream",
     "text": [
      "[[0. 0. 0.]\n",
      " [0. 0. 0.]\n",
      " [0. 0. 0.]]\n"
     ]
    }
   ],
   "source": [
    "import numpy as np\n",
    "\n",
    "zeros_array = np.zeros((3, 3))\n",
    "print(zeros_array)\n"
   ]
  },
  {
   "cell_type": "markdown",
   "id": "9b04952e-c657-4b8b-a595-a78992ba1ab3",
   "metadata": {},
   "source": [
    "Q6. Create an identity matrix of shape (5,5) using numpy functions?\n"
   ]
  },
  {
   "cell_type": "code",
   "execution_count": 8,
   "id": "919e504d-6378-404e-9054-295cd1f0761c",
   "metadata": {},
   "outputs": [
    {
     "name": "stdout",
     "output_type": "stream",
     "text": [
      "[[1. 0. 0. 0. 0.]\n",
      " [0. 1. 0. 0. 0.]\n",
      " [0. 0. 1. 0. 0.]\n",
      " [0. 0. 0. 1. 0.]\n",
      " [0. 0. 0. 0. 1.]]\n"
     ]
    }
   ],
   "source": [
    "import numpy as np\n",
    "\n",
    "identity_matrix = np.identity(5)\n",
    "print(identity_matrix)\n"
   ]
  }
 ],
 "metadata": {
  "kernelspec": {
   "display_name": "Python 3 (ipykernel)",
   "language": "python",
   "name": "python3"
  },
  "language_info": {
   "codemirror_mode": {
    "name": "ipython",
    "version": 3
   },
   "file_extension": ".py",
   "mimetype": "text/x-python",
   "name": "python",
   "nbconvert_exporter": "python",
   "pygments_lexer": "ipython3",
   "version": "3.10.8"
  }
 },
 "nbformat": 4,
 "nbformat_minor": 5
}
