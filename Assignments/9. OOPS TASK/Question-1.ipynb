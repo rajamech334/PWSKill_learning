{
 "cells": [
  {
   "cell_type": "code",
   "execution_count": 9,
   "id": "9e84c4b3-df33-4cb5-8875-f8398f9cd492",
   "metadata": {},
   "outputs": [
    {
     "name": "stdout",
     "output_type": "stream",
     "text": [
      "Name of vehicle:{v1.name_of_vehicle}\n",
      "Speed of the vehile:{v1.max_speed}\n",
      "Age of the vehicle{v1.average_of_vehicle}\n"
     ]
    }
   ],
   "source": [
    "class vehicle:\n",
    "    def __init__(self,name_of_vehicle,max_speed,average_of_vehicle):\n",
    "        self.name_of_vehicle = name_of_vehicle\n",
    "        self.max_speed = max_speed\n",
    "        self.average_of_vehicle = average_of_vehicle\n",
    "        \n",
    "v1 = vehicle('Tata tiago',120,'3.5 yeas')\n",
    "print(\"Name of vehicle:{v1.name_of_vehicle}\\nSpeed of the vehile:{v1.max_speed}\\nAge of the vehicle{v1.average_of_vehicle}\")"
   ]
  },
  {
   "cell_type": "code",
   "execution_count": null,
   "id": "e10edf10-b31e-4f98-aa2f-4502e3278fb9",
   "metadata": {},
   "outputs": [],
   "source": []
  }
 ],
 "metadata": {
  "kernelspec": {
   "display_name": "Python 3 (ipykernel)",
   "language": "python",
   "name": "python3"
  },
  "language_info": {
   "codemirror_mode": {
    "name": "ipython",
    "version": 3
   },
   "file_extension": ".py",
   "mimetype": "text/x-python",
   "name": "python",
   "nbconvert_exporter": "python",
   "pygments_lexer": "ipython3",
   "version": "3.10.8"
  }
 },
 "nbformat": 4,
 "nbformat_minor": 5
}
