{
 "cells": [
  {
   "cell_type": "code",
   "execution_count": null,
   "id": "646a3f00-a4c5-4456-b256-9f800981db71",
   "metadata": {},
   "outputs": [],
   "source": [
    "### Q)Why and when to use while loop in python give a detail description with example"
   ]
  },
  {
   "cell_type": "markdown",
   "id": "a9dcac16-70d6-4e87-acb2-0a57926dbf39",
   "metadata": {},
   "source": [
    "### Ans) While loop to be used when condition is not sure with number of iteration and becomes true all the time "
   ]
  },
  {
   "cell_type": "code",
   "execution_count": 5,
   "id": "004a851d-06b5-44f6-b8fe-616595943713",
   "metadata": {},
   "outputs": [
    {
     "name": "stdout",
     "output_type": "stream",
     "text": [
      "1\n",
      "2\n",
      "3\n",
      "4\n",
      "5\n",
      "6\n",
      "7\n",
      "8\n",
      "9\n",
      "10\n"
     ]
    }
   ],
   "source": [
    "# initialize a counter\n",
    "count = 1\n",
    "\n",
    "# condition\n",
    "while count <= 10:\n",
    "    print(count)\n",
    "    count += 1\n"
   ]
  },
  {
   "cell_type": "code",
   "execution_count": null,
   "id": "d07491ac-ac2f-452e-85d5-26dab46375ba",
   "metadata": {},
   "outputs": [],
   "source": []
  }
 ],
 "metadata": {
  "kernelspec": {
   "display_name": "Python 3 (ipykernel)",
   "language": "python",
   "name": "python3"
  },
  "language_info": {
   "codemirror_mode": {
    "name": "ipython",
    "version": 3
   },
   "file_extension": ".py",
   "mimetype": "text/x-python",
   "name": "python",
   "nbconvert_exporter": "python",
   "pygments_lexer": "ipython3",
   "version": "3.10.8"
  }
 },
 "nbformat": 4,
 "nbformat_minor": 5
}
