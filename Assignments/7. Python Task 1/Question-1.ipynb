{
 "cells": [
  {
   "cell_type": "markdown",
   "id": "c16145ed-0511-4594-8497-740ee3902bbc",
   "metadata": {},
   "source": [
    "Q1. Create a function which will take a list as an argument and return the product of all the numbers\n",
    "after creating a flat list.\n",
    "\n",
    "Use the below-given list as an argument for your function.\n",
    "\n",
    "\n",
    "list1 = [1,2,3,4, [44,55,66, True], False, (34,56,78,89,34), {1,2,3,3,2,1}, {1:34, \"key2\": [55, 67, 78, 89], 4: (45,\n",
    "22, 61, 34)}, [56, 'data science'], 'Machine Learning']\n",
    "\n"
   ]
  },
  {
   "cell_type": "code",
   "execution_count": 14,
   "id": "6db71448-2940-443d-a73c-7509cab554b1",
   "metadata": {},
   "outputs": [
    {
     "data": {
      "text/plain": [
       "0"
      ]
     },
     "execution_count": 14,
     "metadata": {},
     "output_type": "execute_result"
    }
   ],
   "source": [
    "def product_of_numbers(lst):\n",
    "    flattened_list = [num for sublist in lst for num in (sublist if isinstance(sublist, list) else [sublist])]\n",
    "\n",
    "    numbers_list = list(filter(lambda x: isinstance(x, (int, float)), flattened_list))\n",
    "\n",
    "    for item in flattened_list:\n",
    "        if isinstance(item, dict):\n",
    "            for key, value in item.items():\n",
    "                if isinstance(key, (int, float)):\n",
    "                    numbers_list.append(key)\n",
    "                if isinstance(value, (int, float)):\n",
    "                    numbers_list.append(value)\n",
    "\n",
    "    product = 1\n",
    "    for num in numbers_list:\n",
    "        product *= num\n",
    "\n",
    "    return product\n",
    "\n",
    "list1 = [1,2,3,4, [44,55,66, True], False, (34,56,78,89,34), {1,2,3,3,2,1}, {1:34, \"key2\": [55, 67, 78, 89], 4: (45,\n",
    "22, 61, 34)}, [56, 'data science'], 'Machine Learning']\n",
    "\n",
    "product_of_numbers(list1)\n"
   ]
  },
  {
   "cell_type": "code",
   "execution_count": null,
   "id": "cea0ad54-a223-4b94-b45d-3f6abd217324",
   "metadata": {},
   "outputs": [],
   "source": []
  }
 ],
 "metadata": {
  "kernelspec": {
   "display_name": "Python 3 (ipykernel)",
   "language": "python",
   "name": "python3"
  },
  "language_info": {
   "codemirror_mode": {
    "name": "ipython",
    "version": 3
   },
   "file_extension": ".py",
   "mimetype": "text/x-python",
   "name": "python",
   "nbconvert_exporter": "python",
   "pygments_lexer": "ipython3",
   "version": "3.10.8"
  }
 },
 "nbformat": 4,
 "nbformat_minor": 5
}
