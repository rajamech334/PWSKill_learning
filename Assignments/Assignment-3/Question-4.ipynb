{
 "cells": [
  {
   "cell_type": "markdown",
   "id": "0b081e0b-4abd-44c2-b9c6-afb545c167e6",
   "metadata": {},
   "source": [
    "Union() – Will help to combine two set and eliminate the duplicates\n",
    "Update() – Will help to insert the new values into the existing set when there are no duplicates\n"
   ]
  },
  {
   "cell_type": "code",
   "execution_count": 1,
   "id": "1cf422cc-d639-4af0-9591-c44d48c27ba0",
   "metadata": {},
   "outputs": [],
   "source": [
    "s1 = {1,2,3,4,5,6}\n",
    "s2 ={5,6,7,8,9,0}"
   ]
  },
  {
   "cell_type": "code",
   "execution_count": 2,
   "id": "d5c535c8-6e8a-4d14-85f0-44ccdd66c848",
   "metadata": {},
   "outputs": [
    {
     "data": {
      "text/plain": [
       "{0, 1, 2, 3, 4, 5, 6, 7, 8, 9}"
      ]
     },
     "execution_count": 2,
     "metadata": {},
     "output_type": "execute_result"
    }
   ],
   "source": [
    "s1.union(s2)"
   ]
  },
  {
   "cell_type": "code",
   "execution_count": 7,
   "id": "cceb256a-66cd-40ea-8836-ee2112d91269",
   "metadata": {},
   "outputs": [
    {
     "data": {
      "text/plain": [
       "{0, 1, 2, 3, 4, 5, 6, 7, 8, 9}"
      ]
     },
     "execution_count": 7,
     "metadata": {},
     "output_type": "execute_result"
    }
   ],
   "source": [
    "s1"
   ]
  },
  {
   "cell_type": "code",
   "execution_count": 10,
   "id": "3f3820cd-5b8d-4c08-93b6-0f6d2323cb0b",
   "metadata": {},
   "outputs": [],
   "source": [
    "s1.update({10,11,5})"
   ]
  },
  {
   "cell_type": "code",
   "execution_count": 11,
   "id": "741dab26-fc45-4d89-8248-016f00cb21ce",
   "metadata": {},
   "outputs": [
    {
     "data": {
      "text/plain": [
       "{0, 1, 2, 3, 4, 5, 6, 7, 8, 9, 10, 11}"
      ]
     },
     "execution_count": 11,
     "metadata": {},
     "output_type": "execute_result"
    }
   ],
   "source": [
    "s1"
   ]
  },
  {
   "cell_type": "code",
   "execution_count": null,
   "id": "31be0e16-a133-4b15-943c-908711fa10d6",
   "metadata": {},
   "outputs": [],
   "source": []
  }
 ],
 "metadata": {
  "kernelspec": {
   "display_name": "Python 3 (ipykernel)",
   "language": "python",
   "name": "python3"
  },
  "language_info": {
   "codemirror_mode": {
    "name": "ipython",
    "version": 3
   },
   "file_extension": ".py",
   "mimetype": "text/x-python",
   "name": "python",
   "nbconvert_exporter": "python",
   "pygments_lexer": "ipython3",
   "version": "3.10.8"
  }
 },
 "nbformat": 4,
 "nbformat_minor": 5
}
