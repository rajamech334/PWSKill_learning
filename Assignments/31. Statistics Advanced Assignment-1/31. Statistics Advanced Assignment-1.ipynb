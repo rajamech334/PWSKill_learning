{
 "cells": [
  {
   "cell_type": "markdown",
   "id": "663a61b8-c1fc-43b6-b74d-5c67156e2b59",
   "metadata": {},
   "source": [
    "Q1. What is the Probability density function?\n",
    "\n",
    "ans)\n",
    "The probability density function is a fundamental concept in probability theory and statistics, specifically in the context of continuous random variables. It describes the likelihood of a continuous random variable taking on a particular value"
   ]
  },
  {
   "cell_type": "markdown",
   "id": "8dd79e05-cad5-420f-ab4e-9867303d48d8",
   "metadata": {},
   "source": [
    "Q2. What are the types of Probability distribution?\n",
    "\n",
    "Ans)\n",
    "Probability distributions can be broadly categorized into two main types which are discrete and continuous distributions.\n",
    "1. Discrete Probability Distributions:Discrete distributions describe the probability of outcomes of a discrete random variable, which can take on a finite or countably infinite set of values\n",
    "\n",
    "    a. Bernoulli Distribution - Describes a random variable that has only two possible outcomes, typically 1 and 0\n",
    "    \n",
    "    b. Binomial Distribution - Describes the number of successes in a fixed number of independent Bernoulli trials\n",
    "    \n",
    "    c. Poisson Distribution - Describes the number of events occurring in a fixed interval of time or space, assuming these events occur with a constant mean rate and independently of the time since the last event.\n",
    "    \n",
    "2. Continuous Probability Distributions - Continuous distributions describe the probability of outcomes of a continuous random variable, which can take on any value within a given range\n",
    "\n",
    "    a. Uniform Distribution - All outcomes in a given range are equally likely\n",
    "    \n",
    "    b. Normal (Gaussian) Distribution - Describes a symmetrical, bell-shaped distribution where most of the observations cluster around the central peak and probabilities for values taper off equally in both directions from the mean.\n",
    "    \n",
    "    c. Log-Normal Distribution - Describes a variable whose logarithm is normally distributed\n",
    "    \n"
   ]
  },
  {
   "cell_type": "markdown",
   "id": "5788f7cd-6195-417b-afca-b9e3bd76cef9",
   "metadata": {},
   "source": [
    "Q3. Write a Python function to calculate the probability density function of a normal distribution with given mean and standard deviation at a given point."
   ]
  },
  {
   "cell_type": "code",
   "execution_count": 2,
   "id": "7443f223-3a9d-4c80-9323-813bab77f2e5",
   "metadata": {},
   "outputs": [
    {
     "name": "stdout",
     "output_type": "stream",
     "text": [
      "The PDF of the normal distribution at x = 1.0 is 0.24197072451914337\n"
     ]
    }
   ],
   "source": [
    "#ans) \n",
    "\n",
    "import math\n",
    "\n",
    "def normal_pdf(x, mean, std_dev):\n",
    "    coefficient = 1 / (std_dev * math.sqrt(2 * math.pi))\n",
    "    exponent = -((x - mean) ** 2) / (2 * std_dev ** 2)\n",
    "    return coefficient * math.exp(exponent)\n",
    "\n",
    "#sample values for use case testing\n",
    "x = 1.0\n",
    "mean = 0.0\n",
    "std_dev = 1.0\n",
    "pdf_value = normal_pdf(x, mean, std_dev)\n",
    "print(f\"The PDF of the normal distribution at x = {x} is {pdf_value}\")\n"
   ]
  },
  {
   "cell_type": "markdown",
   "id": "2cb6fe48-dfac-491c-9ae2-a3193a77d5bf",
   "metadata": {},
   "source": [
    "Q4. What are the properties of Binomial distribution? Give two examples of events where binomial \n",
    "distribution can be applied."
   ]
  },
  {
   "cell_type": "markdown",
   "id": "c8d44fe8-148b-48df-9fba-edb5ae20d2b1",
   "metadata": {},
   "source": [
    "#ans)\n",
    "\n",
    "Properties of Binomial Distribution:\n",
    "1. Fixed Number of Trials (𝑛): The experiment is performed a fixed number of times.\n",
    "\n",
    "2. Two Possible Outcomes: Each trial results in one of two outcomes, typically labeled \"success\" and \"failure.\"\n",
    "\n",
    "3. Constant Probability of Success (𝑝): The probability of success is the same for each trial.\n",
    "\n",
    "4. Independence: The trials are independent; the outcome of one trial does not affect the outcome of another.\n",
    "\n",
    "5. Discrete Distribution: The binomial distribution is defined for discrete random variables, typically the count of successes.\n",
    "\n",
    "Examples of Events:\n",
    "\n",
    "1. Quality Control in Manufacturing:\n",
    "Suppose a factory produces light bulbs, and the probability that a light bulb is defective is 𝑝=0.02. If a quality control inspector randomly selects 100 light bulbs from a production lot, the number of defective light bulbs among these 100 can be modeled using a binomial distribution with parameters 𝑛 = 100 and p = 0.02\n",
    "\n",
    "2. Survey Analysis:\n",
    "\n",
    "Imagine a political poll where each respondent has a 0.60 probability of favoring a particular candidate. If 50 respondents are randomly selected, the number of respondents who favor the candidate can be modeled using a binomial distribution with parameters 𝑛= 50 and 𝑝 = 0.60\n",
    "\n"
   ]
  },
  {
   "cell_type": "markdown",
   "id": "d4831cae-6e09-431a-b96c-e6f87d6063c0",
   "metadata": {},
   "source": [
    "Q5. Generate a random sample of size 1000 from a binomial distribution with probability of success 0.4 \n",
    "and plot a histogram of the results using matplotlib."
   ]
  },
  {
   "cell_type": "code",
   "execution_count": 8,
   "id": "c1562eee-ec95-488e-a7c9-dc07145ecf28",
   "metadata": {},
   "outputs": [
    {
     "name": "stdout",
     "output_type": "stream",
     "text": [
      "Requirement already satisfied: matplotlib in /opt/conda/lib/python3.10/site-packages (3.6.2)\n",
      "Requirement already satisfied: kiwisolver>=1.0.1 in /opt/conda/lib/python3.10/site-packages (from matplotlib) (1.4.4)\n",
      "Requirement already satisfied: pillow>=6.2.0 in /opt/conda/lib/python3.10/site-packages (from matplotlib) (9.2.0)\n",
      "Requirement already satisfied: cycler>=0.10 in /opt/conda/lib/python3.10/site-packages (from matplotlib) (0.11.0)\n",
      "Requirement already satisfied: pyparsing>=2.2.1 in /opt/conda/lib/python3.10/site-packages (from matplotlib) (3.0.9)\n",
      "Requirement already satisfied: numpy>=1.19 in /opt/conda/lib/python3.10/site-packages (from matplotlib) (1.23.5)\n",
      "Requirement already satisfied: packaging>=20.0 in /opt/conda/lib/python3.10/site-packages (from matplotlib) (22.0)\n",
      "Requirement already satisfied: contourpy>=1.0.1 in /opt/conda/lib/python3.10/site-packages (from matplotlib) (1.0.6)\n",
      "Requirement already satisfied: fonttools>=4.22.0 in /opt/conda/lib/python3.10/site-packages (from matplotlib) (4.38.0)\n",
      "Requirement already satisfied: python-dateutil>=2.7 in /opt/conda/lib/python3.10/site-packages (from matplotlib) (2.8.2)\n",
      "Requirement already satisfied: six>=1.5 in /opt/conda/lib/python3.10/site-packages (from python-dateutil>=2.7->matplotlib) (1.16.0)\n",
      "Note: you may need to restart the kernel to use updated packages.\n"
     ]
    }
   ],
   "source": [
    "pip install matplotlib"
   ]
  },
  {
   "cell_type": "code",
   "execution_count": 9,
   "id": "5c457c99-9e21-48ed-8e9d-824129e10767",
   "metadata": {},
   "outputs": [
    {
     "name": "stdout",
     "output_type": "stream",
     "text": [
      "Requirement already satisfied: numpy in /opt/conda/lib/python3.10/site-packages (1.23.5)\n",
      "Note: you may need to restart the kernel to use updated packages.\n"
     ]
    }
   ],
   "source": [
    "pip install numpy"
   ]
  },
  {
   "cell_type": "code",
   "execution_count": 10,
   "id": "bcb07c4d-5354-4004-96c6-7d362392d0e6",
   "metadata": {},
   "outputs": [
    {
     "data": {
      "image/png": "[encoded data removed]",
      "text/plain": [
       "<Figure size 640x480 with 1 Axes>"
      ]
     },
     "metadata": {},
     "output_type": "display_data"
    }
   ],
   "source": [
    "import numpy as np\n",
    "import matplotlib.pyplot as plt\n",
    "\n",
    "# Parameters\n",
    "n = 1000  # Number of trials\n",
    "p = 0.4   # Probability of success\n",
    "sample_size = 1000  # Sample size considered as per the give statement\n",
    "\n",
    "# Generating a random sample from a binomial distribution\n",
    "sample = np.random.binomial(n=1, p=p, size=sample_size)\n",
    "\n",
    "\n",
    "plt.hist(sample, bins=np.arange(-0.5, 2, 1), edgecolor='black', density=True)\n",
    "plt.title('Histogram of Binomial Distribution (n=1, p=0.4)')\n",
    "plt.xlabel('Number of Successes')\n",
    "plt.ylabel('Frequency')\n",
    "\n",
    "\n",
    "plt.xticks([0, 1])\n",
    "plt.show()\n"
   ]
  },
  {
   "cell_type": "markdown",
   "id": "b3c40d49-48d2-43f0-994b-72214fd0bcd6",
   "metadata": {},
   "source": [
    "Q6. Write a Python function to calculate the cumulative distribution function of a Poisson distribution \n",
    "with given mean at a given point."
   ]
  },
  {
   "cell_type": "code",
   "execution_count": 12,
   "id": "54bf1633-12ab-4e76-9e8b-145882439206",
   "metadata": {},
   "outputs": [
    {
     "name": "stdout",
     "output_type": "stream",
     "text": [
      "The CDF of the Poisson distribution at k = 3 with mean = 2.0 is 0.8571234604985472\n"
     ]
    }
   ],
   "source": [
    "#ans)\n",
    "\n",
    "import math\n",
    "\n",
    "def poisson_cdf(k, lambd):\n",
    "    cdf = 0.0\n",
    "    for i in range(k + 1):\n",
    "        cdf += (math.exp(-lambd) * lambd**i) / math.factorial(i)\n",
    "    return cdf\n",
    "\n",
    "#Sample use case\n",
    "k = 3\n",
    "lambd = 2.0\n",
    "cdf_value = poisson_cdf(k, lambd)\n",
    "print(f\"The CDF of the Poisson distribution at k = {k} with mean = {lambd} is {cdf_value}\")\n"
   ]
  },
  {
   "cell_type": "markdown",
   "id": "7534f850-7ffd-4163-baab-243ddc5b8617",
   "metadata": {},
   "source": [
    "Q7. How Binomial distribution different from Poisson distribution?\n",
    "\n",
    "ans)\n",
    "\n",
    "1. Nature of Events:\n",
    "\n",
    "   Binomial distribution models the count of successes in a fixed number of discrete trials.\n",
    "   \n",
    "   Poisson distribution models the count of occurrences of events over a continuous interval of time or space.\n",
    "   \n",
    "2. Parameters:\n",
    "\n",
    "    Binomial distribution has two parameters: number of trials (n) and probability of success (p).\n",
    "    \n",
    "    Poisson distribution has one parameter: mean rate (λ)\n",
    "    \n",
    "3. Applicability:\n",
    "\n",
    "    Binomial distribution is applicable when there are a fixed number of independent trials with a constant probability of success.\n",
    "    \n",
    "    Poisson distribution is applicable when events occur randomly over a continuous interval at a constant mean rate.\n",
    "    \n",
    "4. Outcome Values:\n",
    "\n",
    "    Binomial distribution outcomes are discrete integers from 0 to n.\n",
    "    \n",
    "    Poisson distribution outcomes are discrete integers from 0 to infinity."
   ]
  },
  {
   "cell_type": "markdown",
   "id": "92842c07-ab6f-4862-80de-98148cc7e0cb",
   "metadata": {},
   "source": [
    "Q8. Generate a random sample of size 1000 from a Poisson distribution with mean 5 and calculate the \n",
    "sample mean and variance."
   ]
  },
  {
   "cell_type": "code",
   "execution_count": 14,
   "id": "4508a513-c215-4629-a89f-44bd8416ff51",
   "metadata": {},
   "outputs": [
    {
     "name": "stdout",
     "output_type": "stream",
     "text": [
      "Sample Mean: 4.995\n",
      "Sample Variance: 5.052975\n"
     ]
    }
   ],
   "source": [
    "#Ans) \n",
    "\n",
    "import numpy as np\n",
    "\n",
    "# Parameters\n",
    "mean = 5\n",
    "sample_size = 1000\n",
    "\n",
    "# Generate random sample from Poisson distribution\n",
    "sample = np.random.poisson(mean, sample_size)\n",
    "\n",
    "# Calculate sample mean and variance\n",
    "sample_mean = np.mean(sample)\n",
    "sample_variance = np.var(sample)\n",
    "\n",
    "print(\"Sample Mean:\", sample_mean)\n",
    "print(\"Sample Variance:\", sample_variance)\n"
   ]
  },
  {
   "cell_type": "markdown",
   "id": "1e925f2e-7379-45a7-9386-9f3049e456f7",
   "metadata": {},
   "source": [
    "Q9. How mean and variance are related in Binomial distribution and Poisson distribution?\n",
    "\n",
    "Ans)\n",
    "\n",
    "In probability theory and statistics, the mean and variance of a distribution are important characteristics that describe its central tendency and spread, respectively. To understand better the ralation of these in Binomial and poisson distribution is as follows\n",
    "\n",
    "1. Binomial Distribution:\n",
    "    A Binomial distribution models the number of successes in a fixed number of independent Bernoulli trials, each with the same probability of success. The variance of the Binomial distribution is a function of both the number of trials \"n\" and the probability of success \"p\".\n",
    "    \n",
    "    Mean: μ=np\n",
    "    Variance: σ2=np(1−p)\n",
    "    So we can say that the variance depends on both n and p.\n",
    "    \n",
    "\n",
    "\n",
    "2. Poisson Distribution:\n",
    "    A Poisson distribution models the number of events occurring in a fixed interval of time or space, with these events happening with a known constant mean rate and independently of the time since the last event.\n",
    "    In the Poisson distribution, the mean and variance are both equal to λ. This unique property indicates that as the average rate of events λ increases, the spread of the distribution increases at the same rate.\n",
    "    \n",
    "    Mean: μ=λ\n",
    "    Variance: σ2 =λ\n",
    "    So we can say that the mean and variance are equal.\n",
    "    "
   ]
  },
  {
   "cell_type": "markdown",
   "id": "67a22849-8c34-41d0-acf4-6b5518f85792",
   "metadata": {},
   "source": [
    "Q10. In normal distribution with respect to mean position, where does the least frequent data appear?\n",
    "ans)\n",
    "\n",
    "In a normal distribution, the data is symmetrically distributed around the mean, and the frequency of data points decreases as we move away from the mean. The least frequent data points appear in the tails of the distribution, which are farthest from the mean.\n",
    "\n",
    "Mathematically, in a normal distribution, approximately:\n",
    "\n",
    "1. 68% of the data falls within ±1σ of the mean,\n",
    "2. 95% of the data falls within ±2σ of the mean,\n",
    "3. 99.7% of the data falls within ±3σ of the mean."
   ]
  }
 ],
 "metadata": {
  "kernelspec": {
   "display_name": "Python 3 (ipykernel)",
   "language": "python",
   "name": "python3"
  },
  "language_info": {
   "codemirror_mode": {
    "name": "ipython",
    "version": 3
   },
   "file_extension": ".py",
   "mimetype": "text/x-python",
   "name": "python",
   "nbconvert_exporter": "python",
   "pygments_lexer": "ipython3",
   "version": "3.10.8"
  }
 },
 "nbformat": 4,
 "nbformat_minor": 5
}
