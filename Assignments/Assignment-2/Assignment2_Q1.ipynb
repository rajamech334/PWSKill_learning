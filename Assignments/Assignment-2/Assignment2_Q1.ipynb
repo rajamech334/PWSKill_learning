{
 "cells": [
  {
   "cell_type": "code",
   "execution_count": 1,
   "id": "6b093e83-9dee-44a1-b3d3-a93a73414aba",
   "metadata": {},
   "outputs": [
    {
     "name": "stdin",
     "output_type": "stream",
     "text": [
      "Enter the marks percentage: 85\n"
     ]
    },
    {
     "name": "stdout",
     "output_type": "stream",
     "text": [
      "Student passed in grade - B\n"
     ]
    }
   ],
   "source": [
    "student_marks = int(input(\"Enter the marks percentage:\"))\n",
    "if student_marks>90:\n",
    "    print(\"Student passed in grade - A\")\n",
    "elif 90>= student_marks >80: \n",
    "    print(\"Student passed in grade - B\")\n",
    "elif  80>= student_marks>=60:\n",
    "    print(\"Student passed in grade - C\")\n",
    "else:\n",
    "    print(\"Student passed in grade - D\")"
   ]
  },
  {
   "cell_type": "code",
   "execution_count": null,
   "id": "74a0888a-c4f1-4da8-8b15-61e338d68bc9",
   "metadata": {},
   "outputs": [],
   "source": []
  }
 ],
 "metadata": {
  "kernelspec": {
   "display_name": "Python 3 (ipykernel)",
   "language": "python",
   "name": "python3"
  },
  "language_info": {
   "codemirror_mode": {
    "name": "ipython",
    "version": 3
   },
   "file_extension": ".py",
   "mimetype": "text/x-python",
   "name": "python",
   "nbconvert_exporter": "python",
   "pygments_lexer": "ipython3",
   "version": "3.10.8"
  }
 },
 "nbformat": 4,
 "nbformat_minor": 5
}
