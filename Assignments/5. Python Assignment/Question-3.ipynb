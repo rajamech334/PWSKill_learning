{
 "cells": [
  {
   "cell_type": "markdown",
   "id": "ca737e00-ecbc-4b79-93b0-2b808815a291",
   "metadata": {},
   "source": [
    "Q3) Write a python program to convert the given list of integers into a tuple of strings. use map and lambda functions"
   ]
  },
  {
   "cell_type": "markdown",
   "id": "63ce4a87-6822-4056-8862-546a17e1a807",
   "metadata": {},
   "source": [
    "Ans)"
   ]
  },
  {
   "cell_type": "code",
   "execution_count": 8,
   "id": "a23753ff-88c8-4471-ac68-86163680d2fc",
   "metadata": {},
   "outputs": [
    {
     "name": "stdout",
     "output_type": "stream",
     "text": [
      "('1', '2', '3', '4', '5', '6', '7', '8', '9', '10')\n"
     ]
    }
   ],
   "source": [
    "list1 = [1,2,3,4,5,6,7,8,9,10]\n",
    "tuple_list = map(lambda x: str(x),list1)\n",
    "new_list =[]\n",
    "for i in tuple_list:\n",
    "    new_list.append(i)\n",
    "print(tuple(new_list))"
   ]
  }
 ],
 "metadata": {
  "kernelspec": {
   "display_name": "Python 3 (ipykernel)",
   "language": "python",
   "name": "python3"
  },
  "language_info": {
   "codemirror_mode": {
    "name": "ipython",
    "version": 3
   },
   "file_extension": ".py",
   "mimetype": "text/x-python",
   "name": "python",
   "nbconvert_exporter": "python",
   "pygments_lexer": "ipython3",
   "version": "3.10.8"
  }
 },
 "nbformat": 4,
 "nbformat_minor": 5
}
