{
 "cells": [
  {
   "cell_type": "markdown",
   "id": "5aa7baa8-52e4-4e15-b3f5-85837e125137",
   "metadata": {},
   "source": [
    "Q3. Write a python program to create a text file. Write ‘I want to become a Data Scientist’ in that file. Then\n",
    "close the file. Open this file and read the content of the file."
   ]
  },
  {
   "cell_type": "code",
   "execution_count": 14,
   "id": "b5b7eb0e-1ba0-4682-928c-0360fa4737f9",
   "metadata": {},
   "outputs": [],
   "source": [
    "#creating a file\n",
    "with open('text.txt', 'w') as file:\n",
    "    file.write('I want to become a Data Scientist')\n"
   ]
  },
  {
   "cell_type": "code",
   "execution_count": 15,
   "id": "ff1309f7-d3ad-468e-9b70-2c5baa135328",
   "metadata": {},
   "outputs": [
    {
     "name": "stdout",
     "output_type": "stream",
     "text": [
      "I want to become a Data Scientist\n"
     ]
    }
   ],
   "source": [
    "with open('text.txt', 'r') as file:\n",
    "    data = file.read()\n",
    "    print(data)"
   ]
  }
 ],
 "metadata": {
  "kernelspec": {
   "display_name": "Python 3 (ipykernel)",
   "language": "python",
   "name": "python3"
  },
  "language_info": {
   "codemirror_mode": {
    "name": "ipython",
    "version": 3
   },
   "file_extension": ".py",
   "mimetype": "text/x-python",
   "name": "python",
   "nbconvert_exporter": "python",
   "pygments_lexer": "ipython3",
   "version": "3.10.8"
  }
 },
 "nbformat": 4,
 "nbformat_minor": 5
}
