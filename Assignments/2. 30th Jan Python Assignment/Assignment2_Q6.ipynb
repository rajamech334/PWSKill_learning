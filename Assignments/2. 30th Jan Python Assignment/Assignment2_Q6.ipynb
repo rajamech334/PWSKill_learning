{
 "cells": [
  {
   "cell_type": "markdown",
   "id": "14227cfc-f93b-42dc-a444-30992214f7b0",
   "metadata": {},
   "source": [
    "Nested loop for 3 differet patterns printing"
   ]
  },
  {
   "cell_type": "code",
   "execution_count": 7,
   "id": "f5b07d6f-339f-4530-8641-a34a2a71420c",
   "metadata": {},
   "outputs": [
    {
     "name": "stdout",
     "output_type": "stream",
     "text": [
      "*\n",
      "**\n",
      "***\n",
      "****\n",
      "*****\n"
     ]
    }
   ],
   "source": [
    "# Pattern -1\n",
    "rows = 5\n",
    "i = 0\n",
    "while i < rows:\n",
    "    j = 0\n",
    "    while j <= i:\n",
    "        print(\"*\", end=\"\")\n",
    "        j += 1\n",
    "    print(\"\\r\")\n",
    "    i += 1\n"
   ]
  },
  {
   "cell_type": "code",
   "execution_count": 8,
   "id": "58cb64bb-6036-4994-9032-6a5ce03d2de9",
   "metadata": {},
   "outputs": [
    {
     "name": "stdout",
     "output_type": "stream",
     "text": [
      "*****\n",
      "****\n",
      "***\n",
      "**\n",
      "*\n"
     ]
    }
   ],
   "source": [
    "# Pattern-2\n",
    "rows = 5\n",
    "i = rows\n",
    "while i > 0:\n",
    "    j = 0\n",
    "    while j < i:\n",
    "        print(\"*\", end=\"\")\n",
    "        j += 1\n",
    "    print(\"\\r\")\n",
    "    i -= 1\n"
   ]
  },
  {
   "cell_type": "code",
   "execution_count": 9,
   "id": "e91cc439-260c-4c1a-8fba-f081e8410546",
   "metadata": {},
   "outputs": [
    {
     "name": "stdout",
     "output_type": "stream",
     "text": [
      "    *\n",
      "   **\n",
      "  ***\n",
      " ****\n",
      "*****\n"
     ]
    }
   ],
   "source": [
    "# Pattern-3\n",
    "rows = 5\n",
    "i = 0\n",
    "while i < rows:\n",
    "    j = rows - i\n",
    "    while j > 1:\n",
    "        print(end=\" \")\n",
    "        j -= 1\n",
    "    j = 0\n",
    "    while j <= i:\n",
    "        print(\"*\", end=\"\")\n",
    "        j += 1\n",
    "    print(\"\\r\")\n",
    "    i += 1\n"
   ]
  },
  {
   "cell_type": "code",
   "execution_count": null,
   "id": "e1e63ba3-22c7-4716-8831-9ffcab2cac1a",
   "metadata": {},
   "outputs": [],
   "source": []
  }
 ],
 "metadata": {
  "kernelspec": {
   "display_name": "Python 3 (ipykernel)",
   "language": "python",
   "name": "python3"
  },
  "language_info": {
   "codemirror_mode": {
    "name": "ipython",
    "version": 3
   },
   "file_extension": ".py",
   "mimetype": "text/x-python",
   "name": "python",
   "nbconvert_exporter": "python",
   "pygments_lexer": "ipython3",
   "version": "3.10.8"
  }
 },
 "nbformat": 4,
 "nbformat_minor": 5
}
