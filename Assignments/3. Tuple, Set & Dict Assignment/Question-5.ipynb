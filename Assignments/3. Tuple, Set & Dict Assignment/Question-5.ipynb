{
 "cells": [
  {
   "cell_type": "markdown",
   "id": "9a16a10c-b200-4203-b58e-60c1955920a0",
   "metadata": {},
   "source": [
    "Dictionary is collection of data in key value pair structure. Python dictionary types are ordernary type"
   ]
  },
  {
   "cell_type": "code",
   "execution_count": 1,
   "id": "1ed6b10d-2c37-40b2-b15e-9d578dbc21fd",
   "metadata": {},
   "outputs": [],
   "source": [
    "Dict = {\"name\": \"Raja\", \"age\" :32}"
   ]
  },
  {
   "cell_type": "code",
   "execution_count": 2,
   "id": "9f569411-52d8-4a98-a392-d944d00feb93",
   "metadata": {},
   "outputs": [
    {
     "name": "stdout",
     "output_type": "stream",
     "text": [
      "{'name': 'Raja', 'age': 32}\n"
     ]
    }
   ],
   "source": [
    "print(Dict)"
   ]
  }
 ],
 "metadata": {
  "kernelspec": {
   "display_name": "Python 3 (ipykernel)",
   "language": "python",
   "name": "python3"
  },
  "language_info": {
   "codemirror_mode": {
    "name": "ipython",
    "version": 3
   },
   "file_extension": ".py",
   "mimetype": "text/x-python",
   "name": "python",
   "nbconvert_exporter": "python",
   "pygments_lexer": "ipython3",
   "version": "3.10.8"
  }
 },
 "nbformat": 4,
 "nbformat_minor": 5
}
