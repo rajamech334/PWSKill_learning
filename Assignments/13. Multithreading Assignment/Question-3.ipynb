{
 "cells": [
  {
   "cell_type": "markdown",
   "id": "4c404869-5ebb-440e-8307-1e833833e62c",
   "metadata": {},
   "source": [
    "Q3) Explain the following functions run(), start(), join(), isAlive()"
   ]
  },
  {
   "cell_type": "markdown",
   "id": "b96c0a01-b63e-40bc-9489-282cf41bff1b",
   "metadata": {},
   "source": [
    "Ans)\n",
    "\n",
    "run(): This method is called by the start() method to run the thread's activity. You can override this method in your thread class to define the thread's activity. When you call start(), it automatically calls the run() method to start the thread's activity.\n",
    "\n",
    "start(): This method starts a new thread by calling the run() method. It initializes and starts the thread in the background. When you call start(), the thread begins execution, and the control is returned immediately to the calling thread.\n",
    "\n",
    "join(): This method waits for the thread to finish its execution. When you call the join() method on a thread, the calling thread will wait until the target thread finishes execution. It can be used to ensure that a thread completes its execution before moving on to the next task.\n",
    "\n",
    "isAlive(): This method returns a boolean value indicating whether the thread is currently executing. It returns True if the thread is executing and False otherwise. It can be used to check whether a thread is still running or has completed its execution"
   ]
  },
  {
   "cell_type": "code",
   "execution_count": null,
   "id": "9269b5c2-3618-43ae-be0e-d5b5ef34c827",
   "metadata": {},
   "outputs": [],
   "source": []
  }
 ],
 "metadata": {
  "kernelspec": {
   "display_name": "Python 3 (ipykernel)",
   "language": "python",
   "name": "python3"
  },
  "language_info": {
   "codemirror_mode": {
    "name": "ipython",
    "version": 3
   },
   "file_extension": ".py",
   "mimetype": "text/x-python",
   "name": "python",
   "nbconvert_exporter": "python",
   "pygments_lexer": "ipython3",
   "version": "3.10.8"
  }
 },
 "nbformat": 4,
 "nbformat_minor": 5
}
