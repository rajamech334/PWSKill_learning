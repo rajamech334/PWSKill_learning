{
 "cells": [
  {
   "cell_type": "markdown",
   "id": "2de3f871-423b-4152-be65-73ffc23b5044",
   "metadata": {},
   "source": [
    "Q1. What is Statistics?\n"
   ]
  },
  {
   "cell_type": "markdown",
   "id": "4649d56c-2fa2-47f0-9ed4-9bcec4d6870b",
   "metadata": {},
   "source": [
    "Ans) \n",
    "Statistics is the branch of mathematics that deals with collecting, analyzing, interpreting, and presenting data. It provides methods for organizing and summarizing large amounts of data, and for drawing meaningful conclusions from that data."
   ]
  },
  {
   "cell_type": "markdown",
   "id": "cfd30c5e-3533-4d09-b9ca-c3487c98dd34",
   "metadata": {},
   "source": [
    "Q2. Define the different types of statistics and give an example of when each type might be used.\n"
   ]
  },
  {
   "cell_type": "markdown",
   "id": "afdf7f0c-3e4b-4f17-b70d-3816359dd440",
   "metadata": {},
   "source": [
    "Ans) \n",
    "There are two type of Statistics \n",
    "1. Descriptive statistics:\n",
    "    which is the process of summarizing and describing data using measures such as mean, median, and standard deviation.\n",
    "    \n",
    "2. Inferential statistics:\n",
    "    which is the process of using data to make inferences about a larger population. Inferential statistics involves techniques such as hypothesis testing, confidence intervals, and regression analysis."
   ]
  },
  {
   "cell_type": "markdown",
   "id": "6f789ac7-ee02-4047-a8ad-0844597fa402",
   "metadata": {},
   "source": [
    "Q3. What are the different types of data and how do they differ from each other? Provide an example of\n",
    "each type of data."
   ]
  },
  {
   "cell_type": "markdown",
   "id": "110f55eb-28bd-4da5-883d-2a5d3c7b99b0",
   "metadata": {},
   "source": [
    "Ans)\n",
    "Following are the different types of data\n",
    "\n",
    "1. Qualitative data: This type of data is descriptive and cannot be measured numerically. It is often subjective and based on personal opinions or experiences. Examples of qualitative data include colors, textures, tastes, and emotions.\n",
    "Example: In a survey asking people about their favorite color, the responses of \"blue\" or \"red\" would be considered qualitative data.\n",
    "\n",
    "2. Quantitative data: This type of data can be measured and expressed numerically. It is objective and can be analyzed using mathematical or statistical methods. Examples of quantitative data include age, height, weight, and test scores.\n",
    "Example: In a survey asking people about their age, the responses of \"25\" or \"40\" would be considered quantitative data.\n",
    "\n",
    "3. Discrete data: This type of data can only take on specific values and cannot be divided into smaller units. It is often used to count things or track occurrences. Examples of discrete data include the number of students in a class, the number of cars in a parking lot, or the number of goals scored in a soccer game.\n",
    "Example: In a survey asking people how many siblings they have, the responses of \"0,\" \"1,\" or \"2\" would be considered discrete data.\n",
    "\n",
    "4. Continuous data: This type of data can take on any value within a certain range and can be measured with precision. It is often used to measure physical quantities such as time, distance, or temperature. Examples of continuous data include height, weight, time, and temperature.\n",
    "Example: In a survey asking people about their height, the responses of \"5'8.5\",\"5'11.5\" or \"6'0\" would be considered continuous data.\n",
    "\n",
    "5. Categorical data: This type of data can be divided into categories or groups. It is often used to represent characteristics such as gender, race, or political\n",
    "\n",
    "\n",
    "\n"
   ]
  },
  {
   "cell_type": "markdown",
   "id": "a9443ba3-0fb9-4414-9c12-d85be16bc381",
   "metadata": {},
   "source": [
    "Q4. Categorise the following datasets with respect to quantitative and qualitative data types:\n",
    "\n",
    "(i) Grading in exam: A+, A, B+, B, C+, C, D, E\n",
    "\n",
    "(ii) Colour of mangoes: yellow, green, orange, red\n",
    "\n",
    "(iii) Height data of a class: [178.9, 179, 179.5, 176, 177.2, 178.3, 175.8,...]\n",
    "\n",
    "(iv) Number of mangoes exported by a farm: [500, 600, 478, 672, …]"
   ]
  },
  {
   "cell_type": "markdown",
   "id": "a0175cf1-bea7-419c-a3a8-740c4f6dc640",
   "metadata": {},
   "source": [
    "Ans)\n",
    "\n",
    "Quantitative - \n",
    "1. Height data of a class: [178.9, 179, 179.5, 176, 177.2, 178.3, 175.8,...]\n",
    "2. Number of mangoes exported by a farm: [500, 600, 478, 672, …]\n",
    "\n",
    "Qualittative - \n",
    "1. Colour of mangoes: yellow, green, orange, red\n",
    "2. Grading in exam: A+, A, B+, B, C+, C, D, E"
   ]
  },
  {
   "cell_type": "markdown",
   "id": "f332dd60-77cc-4d17-be51-2e0d5fa78030",
   "metadata": {},
   "source": [
    "Q5. Explain the concept of levels of measurement and give an example of a variable for each level.\n"
   ]
  },
  {
   "cell_type": "markdown",
   "id": "0c85b662-074e-4aae-b2d1-4bcd271fdf89",
   "metadata": {},
   "source": [
    "Ans)\n",
    "\n",
    "Levels of measurement is a way of categorizing data according to the nature and characteristics of the variables being measured.\n",
    "There are 2 type of data is measured in 4 types.\n",
    "\n",
    "1. Qualitative Data:\n",
    "    \n",
    "1.1. Nominal level: This is the lowest level of measurement, where variables are simply named or labeled. Data at this level are categorized into different groups or classes, but there is no inherent order or ranking. \n",
    "\n",
    "Examples:\n",
    "Gender (male, female)\n",
    "Hair color (black, brown, blonde, red)\n",
    "Marital status (married, single, divorced)\n",
    "\n",
    "1.2. Ordinal level: At this level, variables have an inherent order or ranking, but the intervals between the values are not meaningful. \n",
    "\n",
    "Examples:\n",
    "Educational level (primary school, high school, bachelor's degree, master's degree)\n",
    "Military ranks (private, corporal, sergeant, lieutenant)\n",
    "Levels of agreement (strongly disagree, disagree, neutral, agree, strongly agree)\n",
    "\n",
    "2. Quantitative Data:\n",
    "    \n",
    "2.1 Interval level: This level of measurement includes variables where the intervals between the values are meaningful, but there is no true zero point.\n",
    "\n",
    "Examples:\n",
    "Temperature (measured in Celsius or Fahrenheit)\n",
    "Year of birth\n",
    "Time of day (measured in hours and minutes)\n",
    "\n",
    "2.2 Ratio level: This is the highest level of measurement, where variables have an inherent order, meaningful intervals between the values, and a true zero point. \n",
    "\n",
    "Examples:\n",
    "Height (measured in centimeters or inches)\n",
    "Weight (measured in kilograms or pounds)\n",
    "Age\n",
    "Income"
   ]
  },
  {
   "cell_type": "markdown",
   "id": "054289e9-b982-4ed8-a343-21d9f614a770",
   "metadata": {},
   "source": [
    "Q6. Why is it important to understand the level of measurement when analyzing data? Provide an\n",
    "example to illustrate your answer.\n",
    "\n",
    "Ans)\n",
    "\n",
    "Understanding the level of measurement of variables in data analysis is crucial because it determines the statistical methods that can be used to analyze the data, the types of summaries and visualizations that can be created, and the conclusions that can be drawn from the data.\n",
    "\n",
    "For example, if we have temperature data measured in Celsius, we need to determine the level of measurement of this variable to decide which statistical methods are appropriate for analyzing it. If the temperature data is measured at the interval level, we can calculate the mean and standard deviation of the temperature values, and create a histogram or box plot to visualize the distribution of temperatures. However, if the temperature data is measured at the ordinal level, we cannot calculate the mean because there is no meaningful way to compute the average of temperature categories such as \"cold\", \"cool\", \"warm\", and \"hot\". In this case, we can use non-parametric methods like the median, mode, or rank-based statistical tests to analyze the data.\n",
    "\n",
    "Furthermore, the level of measurement also affects the interpretation of the results. For example, if we compare the mean temperature values between two cities, we need to be aware that the mean temperature difference may not be meaningful if the temperature data is measured at the ordinal level.\n",
    "\n",
    "Therefore, understanding the level of measurement is important to ensure that appropriate statistical methods are used, the correct conclusions are drawn, and the data is properly interpreted"
   ]
  },
  {
   "cell_type": "markdown",
   "id": "c393c69c-6fbb-4ac6-88fb-f4dafc63ccbc",
   "metadata": {},
   "source": [
    "Q7. How nominal data type is different from ordinal data type.\n",
    "\n",
    "Nominal and ordinal are two levels of measurement for categorical data. The key difference between nominal and ordinal data is that ordinal data have an inherent order or ranking, while nominal data do not.\n",
    "\n",
    "Nominal data are categories without any inherent order. Examples of nominal data include gender (male or female), eye color (blue, green, brown), or types of fruit (apple, orange, banana). In nominal data, the categories are mutually exclusive, but there is no inherent order or ranking.\n",
    "\n",
    "On the other hand, ordinal data have an inherent order or ranking. Examples of ordinal data include educational levels (elementary, high school, college, graduate), grades (A, B, C, D, F), or military ranks (private, corporal, sergeant, lieutenant). In ordinal data, the categories are ordered based on some criterion, such as difficulty or importance."
   ]
  },
  {
   "cell_type": "markdown",
   "id": "606ad9b4-1162-45b5-b95c-800b5ed2d50c",
   "metadata": {},
   "source": [
    "Q8. Which type of plot can be used to display data in terms of range?\n",
    "ans) \n",
    "\n",
    "A box plot, also known as a box-and-whisker plot, can be used to display data in terms of range. A box plot provides a graphical representation of the five-number summary of a dataset, which includes the minimum value, the maximum value, the median (or middle value), and the first and third quartiles. The box in the plot represents the interquartile range (IQR), which is the range between the first and third quartiles. The whiskers extending from the box show the range of the data, with any values outside the whiskers shown as individual points or outliers"
   ]
  },
  {
   "cell_type": "markdown",
   "id": "8d2d1105-5be9-40d8-9c9f-efe80837bad5",
   "metadata": {},
   "source": [
    "Q9. Describe the difference between descriptive and inferential statistics. Give an example of each type of statistics and explain how they are used.\n",
    "\n",
    "Ans)\n",
    "\n",
    "Descriptive statistics is concerned with describing or summarizing the features of a dataset, such as its central tendency, variability, and distribution. It involves calculating measures of central tendency, such as the mean, median, and mode, and measures of variability, such as the range, standard deviation, and variance. Descriptive statistics can be used to describe the characteristics of a single variable or to compare the characteristics of multiple variables.\n",
    "\n",
    "For example, if we want to describe the heights of students in a class, we could calculate the mean, median, and mode of their heights, as well as their range and standard deviation. These descriptive statistics can give us an idea of the typical height of a student in the class, as well as the range of heights and how spread out they are.\n",
    "\n",
    "Inferential statistics, on the other hand, is concerned with making inferences or predictions about a population based on a sample of data. It involves using sample data to make generalizations or conclusions about the larger population from which the sample was drawn. Inferential statistics involves hypothesis testing and confidence intervals, which are used to determine whether a particular result or relationship observed in the sample is likely to be true for the larger population.\n",
    "\n",
    "For example, if we want to determine whether there is a significant difference in the heights of male and female students in the class, we could use inferential statistics to test the hypothesis that there is no difference in height between the two groups. We would use sample data to calculate a test statistic, such as a t-test, and compare it to a critical value to determine whether there is sufficient evidence to reject the null hypothesis that there is no difference in height between male and female students.\n",
    "\n",
    "\n",
    "\n",
    "\n"
   ]
  },
  {
   "cell_type": "markdown",
   "id": "20eedb35-31b6-4b9e-9cbd-33ecd8b1f3ba",
   "metadata": {},
   "source": [
    "Q10. What are some common measures of central tendency and variability used in statistics? Explain how each measure can be used to describe a dataset.\n",
    "\n",
    "Ans)\n",
    "\n",
    "Measures of central tendency and variability are commonly used in statistics to describe the characteristics of a dataset.\n",
    "\n",
    "Measures of central tendency are used to describe the typical or central value of a dataset. The three main measures of central tendency are the mean, median, and mode.\n",
    "\n",
    "1. The mean is the arithmetic average of a dataset, calculated by adding up all the values and dividing by the number of observations. The mean can be used to describe the overall level or average of a variable in the dataset.\n",
    "\n",
    "2. The median is the middle value in a dataset, with half of the observations above and half below. The median can be used to describe the typical value in a dataset, and is less sensitive to outliers than the mean.\n",
    "\n",
    "3. The mode is the most common value in a dataset. The mode can be used to describe the most frequent value or category in a dataset, and is particularly useful for categorical variables.\n",
    "\n",
    "Measures of variability are used to describe the spread or dispersion of a dataset. The three main measures of variability are the range, variance, and standard deviation.\n",
    "\n",
    "1. The range is the difference between the maximum and minimum values in a dataset. The range can be used to describe the spread of a dataset, but is sensitive to outliers.\n",
    "\n",
    "2. The variance is a measure of the average squared deviation of the observations from the mean. The variance can be used to describe the degree of variation or dispersion in a dataset.\n",
    "\n",
    "3. The standard deviation is the square root of the variance. The standard deviation can be used to describe the spread of a dataset, and is often preferred to the variance because it is expressed in the same units as the original data."
   ]
  }
 ],
 "metadata": {
  "kernelspec": {
   "display_name": "Python 3 (ipykernel)",
   "language": "python",
   "name": "python3"
  },
  "language_info": {
   "codemirror_mode": {
    "name": "ipython",
    "version": 3
   },
   "file_extension": ".py",
   "mimetype": "text/x-python",
   "name": "python",
   "nbconvert_exporter": "python",
   "pygments_lexer": "ipython3",
   "version": "3.10.8"
  }
 },
 "nbformat": 4,
 "nbformat_minor": 5
}
