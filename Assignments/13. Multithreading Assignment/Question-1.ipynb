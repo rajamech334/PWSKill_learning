{
 "cells": [
  {
   "cell_type": "markdown",
   "id": "e9cabc3c-820c-4b35-a6fe-c5ba14364166",
   "metadata": {},
   "source": [
    "q) What is multithreading in python? Why is it used? Name the module used to handle threads in python"
   ]
  },
  {
   "cell_type": "markdown",
   "id": "f9591dad-0aa8-4c81-a0da-db1ca6a03216",
   "metadata": {},
   "source": [
    "Ans)\n",
    "\n",
    "Multithreading in Python is a way to perform multiple tasks simultaneously within a single process. A thread is a lightweight execution unit that is managed by the operating system's scheduler. Multithreading is used to improve the performance of applications that require multiple tasks to be performed simultaneously, like GUI applications, web servers, and scientific computing applications.\n",
    "\n",
    "Threads are used to perform tasks in parallel, allowing for faster execution of the program. This is because threads can run concurrently and independently, making use of multiple CPU cores. Multithreading can improve the responsiveness of GUI applications by allowing the user interface to remain responsive while time-consuming tasks are performed in the background.\n",
    "\n",
    "Python has a built-in threading module that is used to handle threads. This module provides a way to create, control, and manage threads in Python. The threading module provides a simple and efficient way to create and manage threads in Python. It includes methods for starting, stopping, and joining threads, as well as synchronization mechanisms like locks and semaphores to prevent race conditions and deadlocks."
   ]
  }
 ],
 "metadata": {
  "kernelspec": {
   "display_name": "Python 3 (ipykernel)",
   "language": "python",
   "name": "python3"
  },
  "language_info": {
   "codemirror_mode": {
    "name": "ipython",
    "version": 3
   },
   "file_extension": ".py",
   "mimetype": "text/x-python",
   "name": "python",
   "nbconvert_exporter": "python",
   "pygments_lexer": "ipython3",
   "version": "3.10.8"
  }
 },
 "nbformat": 4,
 "nbformat_minor": 5
}
