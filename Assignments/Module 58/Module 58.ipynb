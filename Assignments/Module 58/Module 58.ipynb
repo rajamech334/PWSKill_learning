{
 "cells": [
  {
   "cell_type": "markdown",
   "id": "e66aed93-c164-413b-a660-0b2d444238e3",
   "metadata": {},
   "source": [
    "Q1. Pearson correlation coefficient is a measure of the linear relationship between two variables. Suppose \n",
    "you have collected data on the amount of time students spend studying for an exam and their final exam \n",
    "scores. Calculate the Pearson correlation coefficient between these two variables and interpret the result.\n",
    "\n",
    "ans)\n",
    "\n",
    "\n",
    "The Pearson correlation coefficient (denoted as r) measures the strength and direction of the linear relationship between two variables. It ranges from -1 to 1.\n",
    "where:\n",
    "1. r=1: Perfect positive linear relationship\n",
    "\n",
    "2. r=−1: Perfect negative linear relationship\n",
    "\n",
    "3. r=0: No linear relationship\n",
    "\n",
    "Let us assume sample data for understanding this\n",
    "\n",
    "Study Time (hours): [2, 3, 4, 5, 6]\n",
    "Exam Scores: [50, 60, 70, 80, 90]\n",
    "\n",
    "Once after apply this as per the standard calculation pearson correlation coefficient between the time students spend studying and their final exam scores is r=1.0.\n",
    "\n",
    "Interpreting results:\n",
    "\n",
    "This indicates a perfect positive linear relationship between the two variables. As study time increases, exam scores increase in a perfectly linear manner. This is an idealized situation where every additional hour of study directly corresponds to an increase in exam scores."
   ]
  },
  {
   "cell_type": "markdown",
   "id": "5be1db0d-138a-4b0e-8dba-87a17f7eb597",
   "metadata": {},
   "source": [
    "Q2. Spearman's rank correlation is a measure of the monotonic relationship between two variables. \n",
    "Suppose you have collected data on the amount of sleep individuals get each night and their overall job \n",
    "satisfaction level on a scale of 1 to 10. Calculate the Spearman's rank correlation between these two \n",
    "variables and interpret the result.\n",
    "\n",
    "ans) \n",
    "\n",
    "Spearman's rank correlation (denoted as ρ) measures the strength and direction of the monotonic relationship between two variables. It is a non-parametric measure, meaning it doesn't assume a linear relationship but instead assesses how well the relationship between the variables can be described by a monotonic function (either increasing or decreasing).\n",
    "\n",
    "Steps to calculate the Spearman's correlation \n",
    "\n",
    "1. Rank the data points for each variable.\n",
    "2. Calculate the difference between the ranks of corresponding variables.\n",
    "3. Apply formula for Spearman's rank correlation\n",
    "4. The Spearman's rank correlation coefficient between the amount of sleep individuals get each night and their job satisfaction level is ρ=1.0.\n",
    "\n",
    "Interpretation of results:\n",
    "This indicates a perfect positive monotonic relationship between the two variables. As sleep duration increases, job satisfaction also increases in a perfectly monotonic manner"
   ]
  },
  {
   "cell_type": "code",
   "execution_count": 1,
   "id": "8994a1e4-a371-4d58-a23c-a9c75d15d34e",
   "metadata": {},
   "outputs": [
    {
     "name": "stdout",
     "output_type": "stream",
     "text": [
      "Pearson correlation coefficient: 0.062\n",
      "Spearman's rank correlation coefficient: 0.084\n"
     ]
    }
   ],
   "source": [
    "'''Q3. Suppose you are conducting a study to examine the relationship between the number of hours of \n",
    "exercise per week and body mass index (BMI) in a sample of adults. You collected data on both variables \n",
    "for 50 participants. Calculate the Pearson correlation coefficient and the Spearman's rank correlation \n",
    "between these two variables and compare the results.\n",
    "\n",
    "Ans)'''\n",
    "\n",
    "import numpy as np\n",
    "from scipy.stats import spearmanr\n",
    "\n",
    "# Generate random data for 50 participants\n",
    "np.random.seed(42)  # For reproducibility\n",
    "\n",
    "# Random data for exercise hours (between 0 to 10 hours per week)\n",
    "exercise_hours = np.random.uniform(0, 10, 50)\n",
    "\n",
    "# Random data for BMI (between 18 to 35 BMI values)\n",
    "bmi_values = np.random.uniform(18, 35, 50)\n",
    "\n",
    "# Calculate Pearson correlation coefficient\n",
    "pearson_correlation = np.corrcoef(exercise_hours, bmi_values)[0, 1]\n",
    "\n",
    "# Calculate Spearman's rank correlation coefficient\n",
    "spearman_correlation, _ = spearmanr(exercise_hours, bmi_values)\n",
    "\n",
    "# Print the results\n",
    "print(f\"Pearson correlation coefficient: {pearson_correlation:.3f}\")\n",
    "print(f\"Spearman's rank correlation coefficient: {spearman_correlation:.3f}\")\n"
   ]
  },
  {
   "cell_type": "markdown",
   "id": "738c0924-68e4-4813-ad73-966b484f8dd6",
   "metadata": {},
   "source": [
    "Pearson: A coefficient of 0.062 indicates a very weak positive linear relationship between the variables. In practical terms, this means there is almost no linear association\n",
    "\n",
    "Spearman: A coefficient of 0.084 indicates a very weak positive monotonic relationship. This means there is almost no monotonic association between the variables."
   ]
  },
  {
   "cell_type": "code",
   "execution_count": 2,
   "id": "3ecf2144-9a48-44d3-b35d-c46a69e54908",
   "metadata": {},
   "outputs": [
    {
     "name": "stdout",
     "output_type": "stream",
     "text": [
      "Pearson Correlation Coefficient: -0.9999999999999999\n"
     ]
    }
   ],
   "source": [
    "'''Q4. A researcher is interested in examining the relationship between the number of hours individuals \n",
    "spend watching television per day and their level of physical activity. The researcher collected data on \n",
    "both variables from a sample of 50 participants. Calculate the Pearson correlation coefficient between \n",
    "these two variables'''\n",
    "\n",
    "# Ans)\n",
    "\n",
    "import pandas as pd\n",
    "import numpy as np\n",
    "\n",
    "# Sample data: hours of TV and physical activity levels\n",
    "data = {\n",
    "    'Hours_of_TV': [1, 2, 3, 4, 5],\n",
    "    'Physical_Activity': [5, 4, 3, 2, 1]\n",
    "}\n",
    "\n",
    "# Create a DataFrame\n",
    "df = pd.DataFrame(data)\n",
    "\n",
    "# Calculate Pearson correlation coefficient using pandas\n",
    "pearson_corr = df['Hours_of_TV'].corr(df['Physical_Activity'])\n",
    "\n",
    "print(f'Pearson Correlation Coefficient: {pearson_corr}')\n",
    "\n"
   ]
  },
  {
   "cell_type": "markdown",
   "id": "e7a71cb4-2825-4811-b1b1-3c0fd0f6128a",
   "metadata": {},
   "source": [
    "1. Perfect Positive Correlation (r = 1):\n",
    "\n",
    "    The variables move in the same direction; as one increases, the other also increases perfectly.\n",
    "\n",
    "2. Strong Positive Correlation (0.7 < r < 1):\n",
    "\n",
    "    The variables tend to increase together, but not perfectly. There may be some deviations.\n",
    "\n",
    "3. Moderate Positive Correlation (0.3 < r < 0.7):\n",
    "\n",
    "    There is a noticeable trend where higher values of one variable are associated with higher values of the other, but there are many exceptions.\n",
    "\n",
    "4. Weak Positive Correlation (0 < r < 0.3):\n",
    "\n",
    "    There is a slight tendency for the variables to increase together, but the relationship is weak.\n",
    "\n",
    "5. No Correlation (r = 0):\n",
    "\n",
    "    No linear relationship exists between the variables.\n",
    "\n",
    "6. Weak Negative Correlation (-0.3 < r < 0):\n",
    "\n",
    "    There is a slight tendency for one variable to decrease as the other increases, but the relationship is weak.\n",
    "\n",
    "7. Moderate Negative Correlation (-0.7 < r < -0.3):\n",
    "\n",
    "    As one variable increases, the other variable tends to decrease. The relationship is noticeable but not perfect.\n",
    "\n",
    "8. Strong Negative Correlation (-1 < r < -0.7):\n",
    "\n",
    "    The variables tend to move in opposite directions; as one increases, the other decreases. The relationship is strong but not perfect.\n",
    "\n",
    "9. Perfect Negative Correlation (r = -1):\n",
    "\n",
    "    The variables move in exactly opposite directions; as one increases, the other decreases perfectly.\n"
   ]
  },
  {
   "cell_type": "markdown",
   "id": "950b288b-388b-4a31-8448-212d1862fe69",
   "metadata": {},
   "source": [
    "Q5. A survey was conducted to examine the relationship between age and preference for a particular \n",
    "brand of soft drink. The survey results are shown below\n",
    "\n",
    "Ans)\n",
    "To analyze the relationship between age and soft drink preference based on the data provided, you can use a Chi-Square test of independence since both variables are categorical (age groups and soft drink preference).\n",
    "Steps to analyze:\n",
    "1. Categorize the Age Variable: Since age is a continuous variable, you may want to group ages into bins (e.g., 18-30, 31-40, etc.) to make the data categorical.\n",
    "\n",
    "2. Create a Contingency Table: Summarize the data into a table showing the frequency of each soft drink preference for each age group.\n",
    "\n",
    "3. Apply the Chi-Square Test: This test will check if there is an association between the two variables.\n"
   ]
  },
  {
   "cell_type": "code",
   "execution_count": 4,
   "id": "2335af67-f7dd-4d1b-a9ac-cf256056ba0b",
   "metadata": {},
   "outputs": [
    {
     "name": "stdout",
     "output_type": "stream",
     "text": [
      "Contingency Table:\n",
      " Soft_drink_Preference  Coke  Mountain dew  Pepsi\n",
      "Age_Group                                       \n",
      "18-30                     3             0      0\n",
      "31-40                     0             1      1\n",
      "41-50                     0             0      1\n",
      "\n",
      "Chi-Square Statistic: 7.500000000000001\n",
      "Degrees of Freedom: 4\n",
      "P-Value: 0.1117092928160432\n",
      "Result: There is no significant association between age group and soft drink preference.\n"
     ]
    }
   ],
   "source": [
    "import pandas as pd\n",
    "from scipy.stats import chi2_contingency\n",
    "\n",
    "# Sample data from the image\n",
    "data = {\n",
    "    'Age': [25, 42, 37, 19, 31, 28],\n",
    "    'Soft_drink_Preference': ['Coke', 'Pepsi', 'Mountain dew', 'Coke', 'Pepsi', 'Coke']\n",
    "}\n",
    "\n",
    "# Create a DataFrame\n",
    "df = pd.DataFrame(data)\n",
    "\n",
    "# Define age bins\n",
    "bins = [0, 30, 40, 50]  # Categorize ages into three groups: 0-30, 31-40, 41-50\n",
    "labels = ['18-30', '31-40', '41-50']\n",
    "df['Age_Group'] = pd.cut(df['Age'], bins=bins, labels=labels, right=False)\n",
    "\n",
    "# Create a contingency table\n",
    "contingency_table = pd.crosstab(df['Age_Group'], df['Soft_drink_Preference'])\n",
    "\n",
    "# Perform Chi-Square test\n",
    "chi2, p, dof, expected = chi2_contingency(contingency_table)\n",
    "\n",
    "# Print the results\n",
    "print(\"Contingency Table:\\n\", contingency_table)\n",
    "print(\"\\nChi-Square Statistic:\", chi2)\n",
    "print(\"Degrees of Freedom:\", dof)\n",
    "print(\"P-Value:\", p)\n",
    "\n",
    "# Interpretation of the p-value\n",
    "if p < 0.05:\n",
    "    print(\"Result: There is a significant association between age group and soft drink preference.\")\n",
    "else:\n",
    "    print(\"Result: There is no significant association between age group and soft drink preference.\")\n"
   ]
  },
  {
   "cell_type": "code",
   "execution_count": 6,
   "id": "29541092-7e11-4590-88c0-0ae08975ac0f",
   "metadata": {},
   "outputs": [
    {
     "name": "stdout",
     "output_type": "stream",
     "text": [
      "Pearson Correlation Coefficient: 0.9751128487615226\n"
     ]
    }
   ],
   "source": [
    "'''\n",
    "Q6. A company is interested in examining the relationship between the number of sales calls made per day \n",
    "and the number of sales made per week. The company collected data on both variables from a sample of \n",
    "30 sales representatives. Calculate the Pearson correlation coefficient between these two variables\n",
    "\n",
    "'''\n",
    "\n",
    "#Ans)\n",
    "\n",
    "# Finding the answer using python code.\n",
    "\n",
    "import pandas as pd\n",
    "\n",
    "# Sample data: Replace this with your actual dataset of 30 sales representatives\n",
    "data = {\n",
    "    'Sales_Calls_per_Day': [25, 30, 35, 40, 45, 50, 20, 33, 29, 37, 42, 48, 50, 53, 60, 55, 38, 36, 39, 44, 27, 31, 28, 50, 47, 52, 41, 43, 49, 54],\n",
    "    'Sales_per_Week': [5, 7, 9, 10, 11, 12, 3, 8, 6, 9, 10, 11, 13, 15, 17, 14, 10, 8, 11, 12, 4, 7, 5, 13, 12, 14, 11, 12, 13, 16]\n",
    "}\n",
    "\n",
    "# Create a DataFrame\n",
    "df = pd.DataFrame(data)\n",
    "\n",
    "# Calculate Pearson correlation coefficient\n",
    "pearson_corr = df['Sales_Calls_per_Day'].corr(df['Sales_per_Week'])\n",
    "\n",
    "print(f'Pearson Correlation Coefficient: {pearson_corr}')\n"
   ]
  },
  {
   "cell_type": "code",
   "execution_count": null,
   "id": "ca782989-7b8f-4361-82d5-e3b773898c37",
   "metadata": {},
   "outputs": [],
   "source": []
  }
 ],
 "metadata": {
  "kernelspec": {
   "display_name": "Python 3 (ipykernel)",
   "language": "python",
   "name": "python3"
  },
  "language_info": {
   "codemirror_mode": {
    "name": "ipython",
    "version": 3
   },
   "file_extension": ".py",
   "mimetype": "text/x-python",
   "name": "python",
   "nbconvert_exporter": "python",
   "pygments_lexer": "ipython3",
   "version": "3.10.8"
  }
 },
 "nbformat": 4,
 "nbformat_minor": 5
}
