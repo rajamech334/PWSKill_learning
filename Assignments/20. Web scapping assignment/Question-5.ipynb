{
 "cells": [
  {
   "cell_type": "markdown",
   "id": "1434dd4a-33e4-4d8b-b7c2-6adf132c0179",
   "metadata": {},
   "source": [
    "Q5. Write the names of AWS services used in this project. Also, explain the use of each service."
   ]
  },
  {
   "cell_type": "markdown",
   "id": "85eded0a-6c26-4475-9bad-952c89b3154a",
   "metadata": {},
   "source": [
    "Ans)\n",
    "\n",
    "Few services in AWS\n",
    "1. Amazon EC2: This is a virtual server that can be used to run the web scraping script and store the scraped data. EC2 provides scalable compute capacity, which can be used to run the script in parallel or to handle large volumes of data.\n",
    "\n",
    "2. Amazon S3: This is a cloud storage service that can be used to store the scraped data. S3 provides scalable and durable object storage, which can be accessed from anywhere with an internet connection.\n",
    "\n",
    "3. Amazon Lambda: This is a serverless computing service that can be used to run the web scraping script in response to events or triggers. Lambda provides automatic scaling, so it can handle large volumes of data and run the script in parallel.\n",
    "\n",
    "4. Amazon SQS: This is a message queue service that can be used to handle the input and output of the web scraping process. SQS provides reliable and scalable message processing, which can be used to decouple the scraping process from the rest of the application.\n",
    "\n",
    "5. Amazon RDS: This is a relational database service that can be used to store and manage the scraped data. RDS provides scalable and managed database instances, which can be used to store and retrieve data in a secure and efficient manner."
   ]
  }
 ],
 "metadata": {
  "kernelspec": {
   "display_name": "Python 3 (ipykernel)",
   "language": "python",
   "name": "python3"
  },
  "language_info": {
   "codemirror_mode": {
    "name": "ipython",
    "version": 3
   },
   "file_extension": ".py",
   "mimetype": "text/x-python",
   "name": "python",
   "nbconvert_exporter": "python",
   "pygments_lexer": "ipython3",
   "version": "3.10.8"
  }
 },
 "nbformat": 4,
 "nbformat_minor": 5
}
