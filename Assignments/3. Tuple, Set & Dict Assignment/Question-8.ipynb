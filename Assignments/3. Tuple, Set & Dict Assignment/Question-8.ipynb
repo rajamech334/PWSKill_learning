{
 "cells": [
  {
   "cell_type": "markdown",
   "id": "1d584741-3f57-45f2-8637-774557d887e6",
   "metadata": {},
   "source": [
    "There are three types of dictionary view objects:\n",
    "\n",
    "dict.keys(): Returns a view of the dictionary's keys.\n",
    "dict.values(): Returns a view of the dictionary's values.\n",
    "dict.items(): Returns a view of the dictionary's key-value pairs"
   ]
  },
  {
   "cell_type": "code",
   "execution_count": 1,
   "id": "0e5e8e18-0816-497e-a71c-56e404f9c4d2",
   "metadata": {},
   "outputs": [],
   "source": [
    "dict1 = {'Sport':\"Cricket\", \"Teams\":['India','Australia','England','South Africa','Srilanka','NewZealand']}"
   ]
  },
  {
   "cell_type": "code",
   "execution_count": 2,
   "id": "b0556a79-b444-4254-9e2e-2cd001323d43",
   "metadata": {},
   "outputs": [
    {
     "data": {
      "text/plain": [
       "{'Sport': 'Cricket',\n",
       " 'Teams': ['India',\n",
       "  'Australia',\n",
       "  'England',\n",
       "  'South Africa',\n",
       "  'Srilanka',\n",
       "  'NewZealand']}"
      ]
     },
     "execution_count": 2,
     "metadata": {},
     "output_type": "execute_result"
    }
   ],
   "source": [
    "dict1"
   ]
  },
  {
   "cell_type": "code",
   "execution_count": 4,
   "id": "b9d0cdea-dc0b-4d58-8aa2-361f1a047f3b",
   "metadata": {},
   "outputs": [
    {
     "data": {
      "text/plain": [
       "dict_keys(['Sport', 'Teams'])"
      ]
     },
     "execution_count": 4,
     "metadata": {},
     "output_type": "execute_result"
    }
   ],
   "source": [
    "dict1.keys()"
   ]
  },
  {
   "cell_type": "code",
   "execution_count": 5,
   "id": "7d4aefb7-ef1a-422b-a9e0-15458603836f",
   "metadata": {},
   "outputs": [
    {
     "data": {
      "text/plain": [
       "dict_values(['Cricket', ['India', 'Australia', 'England', 'South Africa', 'Srilanka', 'NewZealand']])"
      ]
     },
     "execution_count": 5,
     "metadata": {},
     "output_type": "execute_result"
    }
   ],
   "source": [
    "dict1.values()"
   ]
  },
  {
   "cell_type": "code",
   "execution_count": 7,
   "id": "17cabe2b-c6e2-458f-8426-f671ee342c8c",
   "metadata": {},
   "outputs": [
    {
     "data": {
      "text/plain": [
       "dict_items([('Sport', 'Cricket'), ('Teams', ['India', 'Australia', 'England', 'South Africa', 'Srilanka', 'NewZealand'])])"
      ]
     },
     "execution_count": 7,
     "metadata": {},
     "output_type": "execute_result"
    }
   ],
   "source": [
    "dict1.items()"
   ]
  },
  {
   "cell_type": "code",
   "execution_count": null,
   "id": "1bed93b0-1952-4e10-8539-1ddae9bdbc78",
   "metadata": {},
   "outputs": [],
   "source": []
  }
 ],
 "metadata": {
  "kernelspec": {
   "display_name": "Python 3 (ipykernel)",
   "language": "python",
   "name": "python3"
  },
  "language_info": {
   "codemirror_mode": {
    "name": "ipython",
    "version": 3
   },
   "file_extension": ".py",
   "mimetype": "text/x-python",
   "name": "python",
   "nbconvert_exporter": "python",
   "pygments_lexer": "ipython3",
   "version": "3.10.8"
  }
 },
 "nbformat": 4,
 "nbformat_minor": 5
}
