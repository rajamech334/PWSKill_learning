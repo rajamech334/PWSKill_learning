{
 "cells": [
  {
   "cell_type": "markdown",
   "id": "18b3e1fa-6e4f-4ac2-a2b6-57197a2c577a",
   "metadata": {},
   "source": [
    "Q) What is inheritance? give and example for each type of inheritance"
   ]
  },
  {
   "cell_type": "markdown",
   "id": "022cf1e0-8a6b-491c-ae7c-52aaf6d8936b",
   "metadata": {},
   "source": [
    "In Python, there are mainly five types of inheritance: Single inheritance, Multiple inheritance, Multi-level inheritance, Hierarchical Inheritance, and Hybrid inheritance"
   ]
  },
  {
   "cell_type": "code",
   "execution_count": 12,
   "id": "dd95f9de-ce60-442b-8da5-acb6a68417f3",
   "metadata": {},
   "outputs": [
    {
     "name": "stdout",
     "output_type": "stream",
     "text": [
      "1000000\n"
     ]
    }
   ],
   "source": [
    "# Single inheritance\n",
    "class parent:\n",
    "    parant_age = 65\n",
    "    property_value1 = 1000000\n",
    "    def job(self):\n",
    "        print(\"Parent is Business man\")\n",
    "              \n",
    "class child1(parent):\n",
    "    child_age = 40\n",
    "    property_value2 = 100000\n",
    "    def job(self):\n",
    "        print(\"Child-1 is engeering professional\")\n",
    "\n",
    "child = child1()\n",
    "print(child1.property_value1)\n",
    "             "
   ]
  },
  {
   "cell_type": "code",
   "execution_count": 13,
   "id": "3ba6256b-5310-48eb-bb96-26f1179b6cb7",
   "metadata": {},
   "outputs": [
    {
     "name": "stdout",
     "output_type": "stream",
     "text": [
      "Child2 grand parent age: 65\n",
      "Child2 parent age: 40\n"
     ]
    }
   ],
   "source": [
    "# Multiple inheritance\n",
    "class parent:\n",
    "    parant_age = 65\n",
    "    property_value1 = 1000000\n",
    "    def job(self):\n",
    "        print(\"Parent is Business man\")\n",
    "              \n",
    "class child1():\n",
    "    child_age = 40\n",
    "    property_value2 = 100000\n",
    "    def job(self):\n",
    "        print(\"Child-1 is engeering professional\")\n",
    "\n",
    "class child2(child1,parent):\n",
    "    child2_age = 15\n",
    "    def job(self):\n",
    "        print(\"Studying\")\n",
    "child2 = child2()\n",
    "print(\"Child2 grand parent age:\",child2.parant_age)\n",
    "print(\"Child2 parent age:\",child1.child_age)"
   ]
  },
  {
   "cell_type": "code",
   "execution_count": 18,
   "id": "25246a13-fc95-4522-b23d-40936a0141d4",
   "metadata": {},
   "outputs": [
    {
     "name": "stdout",
     "output_type": "stream",
     "text": [
      "Child2 getting property from parent is: 1000000\n"
     ]
    }
   ],
   "source": [
    "# Multi-level inheritance\n",
    "class parent:\n",
    "    parant_age = 65\n",
    "    property_value1 = 1000000\n",
    "    def job(self):\n",
    "        print(\"Parent is Business man\")\n",
    "              \n",
    "class child1(parent):\n",
    "    child_age = 40\n",
    "    property_value2 = 100000\n",
    "    def job(self):\n",
    "        print(\"Child-1 is engeering professional\")\n",
    "\n",
    "class child2(child1):\n",
    "    child2_age = 15\n",
    "    def job(self):\n",
    "        print(\"Studying\")\n",
    "child2 = child2()\n",
    "print(\"Child2 getting property from parent is:\",child2.property_value1)"
   ]
  },
  {
   "cell_type": "code",
   "execution_count": 19,
   "id": "6b5bf2c3-9300-4454-b77c-c544176d2dba",
   "metadata": {},
   "outputs": [
    {
     "name": "stdout",
     "output_type": "stream",
     "text": [
      "Child2 getting property from parent is: 1000000\n"
     ]
    }
   ],
   "source": [
    "# Hierarchical Inheritance\n",
    "class Parent:\n",
    "    parent_age = 65\n",
    "    property_value1 = 1000000\n",
    "    \n",
    "    def job(self):\n",
    "        print(\"Parent is Business man\")\n",
    "              \n",
    "class Child1(Parent):\n",
    "    child_age = 40\n",
    "    property_value2 = 100000\n",
    "    \n",
    "    def job(self):\n",
    "        print(\"Child-1 is engineering professional\")\n",
    "\n",
    "class Child2(Parent):\n",
    "    child2_age = 15\n",
    "    \n",
    "    def job(self):\n",
    "        print(\"Studying\")\n",
    "\n",
    "child2 = Child2()\n",
    "print(\"Child2 getting property from parent is:\", child2.property_value1)\n"
   ]
  },
  {
   "cell_type": "code",
   "execution_count": null,
   "id": "0240ba89-38dd-4152-b442-34f24dad24b3",
   "metadata": {},
   "outputs": [],
   "source": []
  }
 ],
 "metadata": {
  "kernelspec": {
   "display_name": "Python 3 (ipykernel)",
   "language": "python",
   "name": "python3"
  },
  "language_info": {
   "codemirror_mode": {
    "name": "ipython",
    "version": 3
   },
   "file_extension": ".py",
   "mimetype": "text/x-python",
   "name": "python",
   "nbconvert_exporter": "python",
   "pygments_lexer": "ipython3",
   "version": "3.10.8"
  }
 },
 "nbformat": 4,
 "nbformat_minor": 5
}
