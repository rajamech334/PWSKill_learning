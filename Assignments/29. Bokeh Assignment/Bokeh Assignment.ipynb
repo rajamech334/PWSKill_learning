{
 "cells": [
  {
   "cell_type": "markdown",
   "id": "f1dbf5fc-bac4-4850-88d2-e699c067bdce",
   "metadata": {},
   "source": [
    "Q1. How can you create a Bokeh plot using Python code?"
   ]
  },
  {
   "cell_type": "code",
   "execution_count": 3,
   "id": "e0680cf6-a4dc-4f5f-9374-7527d8ff0a57",
   "metadata": {},
   "outputs": [
    {
     "ename": "SyntaxError",
     "evalue": "invalid syntax (2263017867.py, line 3)",
     "output_type": "error",
     "traceback": [
      "\u001b[0;36m  Cell \u001b[0;32mIn[3], line 3\u001b[0;36m\u001b[0m\n\u001b[0;31m    pip install bokeh\u001b[0m\n\u001b[0m        ^\u001b[0m\n\u001b[0;31mSyntaxError\u001b[0m\u001b[0;31m:\u001b[0m invalid syntax\n"
     ]
    }
   ],
   "source": [
    "#ans)\n",
    "# Step 1: install bokeh lib\n",
    "pip install bokeh"
   ]
  },
  {
   "cell_type": "code",
   "execution_count": 5,
   "id": "f2e89135-53eb-4eb6-8c07-5a674c3636c2",
   "metadata": {},
   "outputs": [],
   "source": [
    "# Step 2: Import Bokeh libraries\n",
    "from bokeh.plotting import figure, output_file, show\n",
    "\n",
    "# Step 3: Prepare data\n",
    "x = [1, 2, 3, 4, 5]\n",
    "y = [6, 7, 2, 4, 5]\n",
    "\n",
    "# Step 4: Create a Bokeh plot\n",
    "p = figure(title=\"Simple Line Example\", x_axis_label='x', y_axis_label='y')\n",
    "\n",
    "# Add a line renderer\n",
    "p.line(x, y, legend_label=\"Temp.\", line_width=2)\n",
    "\n",
    "# Step 5: Customize the plot (optional)\n",
    "p.title.text_font_size = '14pt'\n",
    "p.xaxis.axis_label = \"X-Axis\"\n",
    "p.yaxis.axis_label = \"Y-Axis\"\n",
    "\n",
    "# Step 6: Output the plot to an HTML file and display it\n",
    "output_file(\"line_plot.html\")\n",
    "show(p)\n"
   ]
  },
  {
   "cell_type": "markdown",
   "id": "10490b22-fe33-4cf6-bbf9-361157737266",
   "metadata": {},
   "source": [
    "Q2. What are glyphs in Bokeh, and how can you add them to a Bokeh plot? Explain with an example.Q2. What are glyphs in Bokeh, and how can you add them to a Bokeh plot? Explain with an example."
   ]
  },
  {
   "cell_type": "markdown",
   "id": "f340c51b-4852-4728-b871-95ed235d03a3",
   "metadata": {},
   "source": [
    "#Ans)\n",
    "Glyphs in Bokeh are the basic visual building blocks used to create plots. Each glyph represents a graphical shape, example circles, squares, lines, or rectangles, which can be used to visualize data. Glyphs are added to Bokeh plots through methods on a figure object, and we can customize their appearance using various properties like color, size, and transparency\n",
    "\n",
    "Steps to be followed to add glyphs to a Bokeh plot:\n",
    "\n",
    "Step-1: Create a Bokeh plot using the figure function.\n",
    "Step-2: Use glyph methods on the figure object to add glyphs.\n",
    "Step-3: Customize the glyphs using properties such as size, color, and alpha."
   ]
  },
  {
   "cell_type": "code",
   "execution_count": 6,
   "id": "5cca5577-ee9b-4963-869c-19f5cf44e635",
   "metadata": {},
   "outputs": [],
   "source": [
    "from bokeh.plotting import figure, show, output_file\n",
    "from bokeh.io import push_notebook\n",
    "\n",
    "# Create a new plot with a title and axis labels\n",
    "p = figure(title=\"Bokeh Glyphs Example\", x_axis_label='X-Axis', y_axis_label='Y-Axis')\n",
    "# Add circle glyphs\n",
    "p.circle(x=[1, 2, 3, 4, 5], y=[6, 7, 2, 4, 5], size=10, color=\"navy\", alpha=0.5, legend_label=\"Circle\")\n",
    "# Add square glyphs\n",
    "p.square(x=[1.5, 2.5, 3.5, 4.5, 5.5], y=[5, 6, 3, 2, 4], size=10, color=\"red\", alpha=0.5, legend_label=\"Square\")\n",
    "# Add line glyphs\n",
    "p.line(x=[1, 2, 3, 4, 5], y=[6, 7, 2, 4, 5], line_width=2, color=\"green\", legend_label=\"Line\")\n",
    "# Specify the output file\n",
    "output_file(\"bokeh_glyphs_example.html\")\n",
    "# Show the plot\n",
    "show(p)\n"
   ]
  },
  {
   "cell_type": "markdown",
   "id": "ce646156-a6b0-478b-99f5-0696b13f4c0e",
   "metadata": {},
   "source": [
    "Q3. How can you customize the appearance of a Bokeh plot, including the axes, title, and legend?"
   ]
  },
  {
   "cell_type": "markdown",
   "id": "90087d19-2625-4406-a9d3-2e52dfb07f45",
   "metadata": {},
   "source": [
    "#Ans)\n",
    "Bokeh provides a wide range of customization options to create visually appealing and informative plots. Here’s a step-by-step guide on how to customize these elements:\n",
    "\n",
    "Customizing the Plot\n",
    "\n",
    "1. Plot Title: Modify the title attribute and its properties.\n",
    "2. Axes: Customize labels, ticks, and styles for both x and y axes.\n",
    "3. Legend: Change the position, orientation, and appearance of the legend."
   ]
  },
  {
   "cell_type": "code",
   "execution_count": 2,
   "id": "dc19fdcc-c8bb-4dd5-85af-3f6cee185ec8",
   "metadata": {},
   "outputs": [],
   "source": [
    "#Example code for better understanding\n",
    "\n",
    "from bokeh.plotting import figure, show, output_file\n",
    "from bokeh.models import Title\n",
    "\n",
    "# Create a new plot\n",
    "p = figure(title=\"Bokeh Customization Example\", x_axis_label='X-Axis', y_axis_label='Y-Axis')\n",
    "\n",
    "# Add circle glyphs\n",
    "p.circle(x=[1, 2, 3, 4, 5], y=[6, 7, 2, 4, 5], size=10, color=\"navy\", alpha=0.5, legend_label=\"Circle\")\n",
    "\n",
    "# Add square glyphs\n",
    "p.square(x=[1.5, 2.5, 3.5, 4.5, 5.5], y=[5, 6, 3, 2, 4], size=10, color=\"red\", alpha=0.5, legend_label=\"Square\")\n",
    "\n",
    "# Customize plot title\n",
    "p.title.text = \"Customized Bokeh Plot\"\n",
    "p.title.align = \"center\"\n",
    "p.title.text_color = \"orange\"\n",
    "p.title.text_font_size = \"20pt\"\n",
    "\n",
    "# Customize x-axis\n",
    "p.xaxis.axis_label = \"Custom X-Axis\"\n",
    "p.xaxis.axis_label_text_color = \"blue\"\n",
    "p.xaxis.axis_label_text_font_size = \"14pt\"\n",
    "p.xaxis.major_label_text_color = \"blue\"\n",
    "p.xaxis.major_label_text_font_size = \"12pt\"\n",
    "\n",
    "# Customize y-axis\n",
    "p.yaxis.axis_label = \"Custom Y-Axis\"\n",
    "p.yaxis.axis_label_text_color = \"green\"\n",
    "p.yaxis.axis_label_text_font_size = \"14pt\"\n",
    "p.yaxis.major_label_text_color = \"green\"\n",
    "p.yaxis.major_label_text_font_size = \"12pt\"\n",
    "\n",
    "# Customize legend\n",
    "p.legend.title = \"Legend\"\n",
    "p.legend.title_text_font_style = \"bold\"\n",
    "p.legend.label_text_font_size = \"10pt\"\n",
    "p.legend.label_text_color = \"black\"\n",
    "p.legend.location = \"top_left\"\n",
    "p.legend.border_line_color = \"black\"\n",
    "p.legend.border_line_width = 1\n",
    "p.legend.background_fill_color = \"white\"\n",
    "p.legend.background_fill_alpha = 0.7\n",
    "\n",
    "output_file(\"bokeh_customization_sample.html\")\n",
    "\n",
    "show(p)\n"
   ]
  },
  {
   "cell_type": "markdown",
   "id": "d8c87cd3-98bb-4138-8449-9332202e6bc4",
   "metadata": {},
   "source": [
    "Q4. What is a Bokeh server, and how can you use it to create interactive plots that can be updated in \n",
    "real time?"
   ]
  },
  {
   "cell_type": "markdown",
   "id": "8728801b-fc58-435a-8da4-d61ede685577",
   "metadata": {},
   "source": [
    "Ans) \n",
    "The Bokeh server is a component of the Bokeh library that allows you to build interactive and dynamic visualizations that can be updated in real-time. Unlike static HTML files, a Bokeh server application can respond to user inputs, update plots in response to changes in data, and handle more complex interactions"
   ]
  },
  {
   "cell_type": "code",
   "execution_count": null,
   "id": "8473fff6-1111-43ea-9692-7d8ac4c74c78",
   "metadata": {},
   "outputs": [],
   "source": [
    "from bokeh.io import curdoc\n",
    "from bokeh.layouts import column\n",
    "from bokeh.models import ColumnDataSource, Slider\n",
    "from bokeh.plotting import figure\n",
    "\n",
    "# Create a ColumnDataSource\n",
    "source = ColumnDataSource(data=dict(x=[1, 2, 3, 4, 5], y=[6, 7, 2, 4, 5]))\n",
    "\n",
    "# Create a figure\n",
    "p = figure(title=\"Interactive Bokeh Plot\", x_axis_label='X-Axis', y_axis_label='Y-Axis')\n",
    "\n",
    "# Add circle glyphs\n",
    "p.circle(x='x', y='y', source=source, size=10, color=\"navy\", alpha=0.5)\n",
    "\n",
    "# Define a callback function\n",
    "def update_data(attr, old, new):\n",
    "    scale = slider.value\n",
    "    new_y = [i * scale for i in source.data['y']]\n",
    "    source.data = dict(x=source.data['x'], y=new_y)\n",
    "\n",
    "# Create a slider widget\n",
    "slider = Slider(start=0.1, end=10, value=1, step=0.1, title=\"Scale Factor\")\n",
    "slider.on_change('value', update_data)\n",
    "\n",
    "# Layout the plot and slider\n",
    "layout = column(p, slider)\n",
    "\n",
    "# Add the layout to the current document\n",
    "curdoc().add_root(layout)\n"
   ]
  },
  {
   "cell_type": "markdown",
   "id": "d9d5d79a-d460-4371-a604-b0fff6ea96c9",
   "metadata": {},
   "source": [
    "Q5. How can you embed a Bokeh plot into a web page or dashboard using Flask or Django?"
   ]
  },
  {
   "cell_type": "markdown",
   "id": "e6dcdec6-438d-4244-b384-3efd8521bd82",
   "metadata": {},
   "source": [
    "Ans)\n",
    "\n",
    "Embedding a Bokeh plot into a web page or dashboard using Flask or Django involves integrating Bokeh's plotting capabilities with these web frameworks. Below are step-by-step guides \n",
    "\n",
    "Integration with flask:\n",
    "1. Install Flask and Bokeh - pip install flask bokeh\n",
    "2. Create a Flask App - Create a basic Flask app structure\n",
    "3. Generate Bokeh Plot -Use app.py for generating our bokeh plot\n",
    "4. Create the HTML Template - Create tempalte how we want\n",
    "5. Run the Flask App - python app.py\n",
    "\n",
    "Integration with Django:\n",
    "1. Install Django and Bokeh - pip install django bokeh\n",
    "2. Create a Django Project - Create a new Django project and app\n",
    "3. Configure URLs - in my_django_project/urls.py, include the app URL\n",
    "4. Create App URLs - In myapp/urls.py, define the URL patterns for your app\n",
    "5. Create Bokeh Plot in Views - In myapp/views.py, generate your Bokeh plot and pass it to the template\n",
    "6. Create the HTML Template - In the templates/myapp/ directory, create an index.html file to embed the Bokeh plot\n",
    "7. Run the Django Server - Start your Django development server by running python manage.py runserver\n",
    "\n",
    "Note: Please leave comments if I need create flask and Django projects for this question"
   ]
  }
 ],
 "metadata": {
  "kernelspec": {
   "display_name": "Python 3 (ipykernel)",
   "language": "python",
   "name": "python3"
  },
  "language_info": {
   "codemirror_mode": {
    "name": "ipython",
    "version": 3
   },
   "file_extension": ".py",
   "mimetype": "text/x-python",
   "name": "python",
   "nbconvert_exporter": "python",
   "pygments_lexer": "ipython3",
   "version": "3.10.8"
  }
 },
 "nbformat": 4,
 "nbformat_minor": 5
}
