{
 "cells": [
  {
   "cell_type": "code",
   "execution_count": 9,
   "id": "5d0b51b6-cd5b-49db-821a-09dbb749ab15",
   "metadata": {},
   "outputs": [],
   "source": [
    "# Defining string\n",
    "strings = [\"apple\", \"banana\", \"cherry\", \"date\"]\n",
    "\n"
   ]
  },
  {
   "cell_type": "code",
   "execution_count": 12,
   "id": "c374e0f7-a33d-4b9e-8f67-7f17648c0ab6",
   "metadata": {},
   "outputs": [
    {
     "name": "stdout",
     "output_type": "stream",
     "text": [
      "[False, False, False, False]\n"
     ]
    }
   ],
   "source": [
    "# Check if the string starts with a particular letter\n",
    "starts_with_c = list(map(lambda s: s.startswith(\"c\"), strings))\n",
    "print(starts_with_c)\n"
   ]
  },
  {
   "cell_type": "code",
   "execution_count": 14,
   "id": "bc57600f-fd56-4df7-ae56-a5259c6d8aa0",
   "metadata": {},
   "outputs": [
    {
     "name": "stdout",
     "output_type": "stream",
     "text": [
      "[True, True, False, False]\n"
     ]
    }
   ],
   "source": [
    "# Checking string is number or not\n",
    "def is_similar_to_numeric(s):\n",
    "    try:\n",
    "        float(s)\n",
    "        return True\n",
    "    except ValueError:\n",
    "        return False\n",
    "\n",
    "strings = [\"32\", \"3.2\", \"Raja\", \"Dasari\"]\n",
    "results = list(map(is_similar_to_numeric, strings))\n",
    "print(results) \n",
    "    "
   ]
  },
  {
   "cell_type": "code",
   "execution_count": 16,
   "id": "7d08bca7-13c2-4105-9f03-ed5497a419fc",
   "metadata": {},
   "outputs": [
    {
     "name": "stdout",
     "output_type": "stream",
     "text": [
      "[('grapes', 1000), ('Mango', 99), ('Orange', 80)]\n"
     ]
    }
   ],
   "source": [
    "# Sorting tuple to identify the fruits and qty\n",
    "fruits = [(\"Mango\", 99), (\"Orange\", 80), (\"grapes\", 1000)]\n",
    "\n",
    "sorted_fruits = sorted(fruits, key=lambda x: x[1], reverse=True)\n",
    "\n",
    "print(sorted_fruits)\n"
   ]
  },
  {
   "cell_type": "code",
   "execution_count": 17,
   "id": "3f62bac7-a615-4414-aa05-ed2721ca7ea8",
   "metadata": {},
   "outputs": [
    {
     "name": "stdout",
     "output_type": "stream",
     "text": [
      "[1, 4, 9, 16, 25, 36, 49, 64, 81, 100]\n"
     ]
    }
   ],
   "source": [
    "#Finding square of number from 1 to 10\n",
    "numbers = range(1, 11)\n",
    "\n",
    "squares = list(map(lambda x: x**2, numbers))\n",
    "\n",
    "print(squares)\n"
   ]
  },
  {
   "cell_type": "code",
   "execution_count": 21,
   "id": "105554c0-6834-481b-90bd-a19e2103ce9d",
   "metadata": {},
   "outputs": [
    {
     "name": "stdin",
     "output_type": "stream",
     "text": [
      "Enter number: 10\n"
     ]
    },
    {
     "data": {
      "text/plain": [
       "True"
      ]
     },
     "execution_count": 21,
     "metadata": {},
     "output_type": "execute_result"
    }
   ],
   "source": [
    "# Check a given number is even or not\n",
    "def is_even(num):\n",
    "    if num % 2 == 0:\n",
    "        return True\n",
    "    else:\n",
    "        return False\n",
    "num = int(input(\"Enter number:\"))\n",
    "is_even(num)"
   ]
  },
  {
   "cell_type": "code",
   "execution_count": 22,
   "id": "116d59d3-f2ae-41b0-ac0c-cbba854b1a5b",
   "metadata": {},
   "outputs": [
    {
     "name": "stdout",
     "output_type": "stream",
     "text": [
      "[1, 3, 5, 7, 9]\n"
     ]
    }
   ],
   "source": [
    "# filter odd number from this list = [1,2,3,4,5,6,7,8,9,10]\n",
    "numbers = [1, 2, 3, 4, 5, 6, 7, 8, 9, 10]\n",
    "\n",
    "odd_numbers = list(filter(lambda x: x % 2 != 0, numbers))\n",
    "\n",
    "print(odd_numbers)\n"
   ]
  },
  {
   "cell_type": "code",
   "execution_count": 23,
   "id": "229f72c6-cabe-4d9b-907d-dd12145ec115",
   "metadata": {},
   "outputs": [
    {
     "name": "stdout",
     "output_type": "stream",
     "text": [
      "Positive Numbers: [1, 2, 3, 4, 5, 6]\n",
      "Negative Numbers: [-1, -2, -3, -4, -5]\n"
     ]
    }
   ],
   "source": [
    "#sort a list of integers into positive and negative list for list = [1,2,3,4,5,6,-1,-2,-3,-4,-5,0]\n",
    "numbers = [1, 2, 3, 4, 5, 6, -1, -2, -3, -4, -5, 0]\n",
    "positive_numbers = []\n",
    "negative_numbers = []\n",
    "\n",
    "for num in numbers:\n",
    "    if num > 0:\n",
    "        positive_numbers.append(num)\n",
    "    elif num < 0:\n",
    "        negative_numbers.append(num)\n",
    "\n",
    "print(\"Positive Numbers:\", positive_numbers)\n",
    "print(\"Negative Numbers:\", negative_numbers)\n"
   ]
  }
 ],
 "metadata": {
  "kernelspec": {
   "display_name": "Python 3 (ipykernel)",
   "language": "python",
   "name": "python3"
  },
  "language_info": {
   "codemirror_mode": {
    "name": "ipython",
    "version": 3
   },
   "file_extension": ".py",
   "mimetype": "text/x-python",
   "name": "python",
   "nbconvert_exporter": "python",
   "pygments_lexer": "ipython3",
   "version": "3.10.8"
  }
 },
 "nbformat": 4,
 "nbformat_minor": 5
}
