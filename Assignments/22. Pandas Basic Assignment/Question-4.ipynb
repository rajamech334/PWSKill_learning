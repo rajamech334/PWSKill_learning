{
 "cells": [
  {
   "cell_type": "markdown",
   "id": "5c17eb06-0dc9-4e91-98e1-27d6b19dc225",
   "metadata": {},
   "source": [
    "Q3. Create a Pandas DataFrame that contains the following data:\n"
   ]
  },
  {
   "cell_type": "markdown",
   "id": "37c52f99-1d54-48f1-982d-008973d34fbb",
   "metadata": {},
   "source": [
    "Ans)\n",
    "\n",
    "In Pandas, a DataFrame is a two-dimensional labeled data structure that can hold data of different types (such as numeric, string, boolean, etc.) in a tabular format consisting of rows and columns. It is the primary data structure used for data analysis and manipulation in Pandas.\n",
    "\n",
    "On the other hand, a Pandas Series is a one-dimensional labeled array that can hold data of the same type. A Series can be thought of as a single column of data in a DataFrame, where each element in the Series has a label called an index."
   ]
  },
  {
   "cell_type": "code",
   "execution_count": 1,
   "id": "00872ad6-29fe-496e-891e-6a6375585601",
   "metadata": {},
   "outputs": [
    {
     "name": "stdout",
     "output_type": "stream",
     "text": [
      "      name  age\n",
      "0    Alice   25\n",
      "1      Bob   30\n",
      "2  Charlie   35\n"
     ]
    }
   ],
   "source": [
    "import pandas as pd\n",
    "\n",
    "# Create a dictionary with two Series\n",
    "data = {'name': pd.Series(['Alice', 'Bob', 'Charlie']),\n",
    "        'age': pd.Series([25, 30, 35])}\n",
    "\n",
    "# Create a DataFrame from the dictionary\n",
    "df = pd.DataFrame(data)\n",
    "\n",
    "print(df)\n"
   ]
  }
 ],
 "metadata": {
  "kernelspec": {
   "display_name": "Python 3 (ipykernel)",
   "language": "python",
   "name": "python3"
  },
  "language_info": {
   "codemirror_mode": {
    "name": "ipython",
    "version": 3
   },
   "file_extension": ".py",
   "mimetype": "text/x-python",
   "name": "python",
   "nbconvert_exporter": "python",
   "pygments_lexer": "ipython3",
   "version": "3.10.8"
  }
 },
 "nbformat": 4,
 "nbformat_minor": 5
}
