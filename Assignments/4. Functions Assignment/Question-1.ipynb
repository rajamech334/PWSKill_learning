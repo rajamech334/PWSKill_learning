{
 "cells": [
  {
   "cell_type": "markdown",
   "id": "41dc700d-a57f-4371-85db-0b4f565c3585",
   "metadata": {},
   "source": [
    "Q1. Which keyword is used to create a function? Create a function to return a list of odd numbers in the\n",
    "range of 1 to 25."
   ]
  },
  {
   "cell_type": "markdown",
   "id": "128eaeed-5bd9-4bce-a2d0-ba443f79a4d7",
   "metadata": {},
   "source": [
    "Ans) Def key will be sued for creating the functions in python"
   ]
  },
  {
   "cell_type": "code",
   "execution_count": 2,
   "id": "818e32fa-03c8-411d-b6c3-ff03d54effda",
   "metadata": {},
   "outputs": [],
   "source": [
    "### Creating the function to be to return the list of ood number in a ragne of 1-25"
   ]
  },
  {
   "cell_type": "code",
   "execution_count": 4,
   "id": "139308e8-c2fe-482c-a33d-8dc024ff0a79",
   "metadata": {},
   "outputs": [
    {
     "name": "stdout",
     "output_type": "stream",
     "text": [
      "1\n",
      "3\n",
      "5\n",
      "7\n",
      "9\n",
      "11\n",
      "13\n",
      "15\n",
      "17\n",
      "19\n",
      "21\n",
      "23\n",
      "Above is the list of odd number upto 25\n"
     ]
    }
   ],
   "source": [
    "def oddnumber():\n",
    "    for i in range(25):\n",
    "        if i%2== True:\n",
    "            print(i)\n",
    "    print(\"Above is the list of odd number upto 25\")\n",
    "oddnumber()"
   ]
  }
 ],
 "metadata": {
  "kernelspec": {
   "display_name": "Python 3 (ipykernel)",
   "language": "python",
   "name": "python3"
  },
  "language_info": {
   "codemirror_mode": {
    "name": "ipython",
    "version": 3
   },
   "file_extension": ".py",
   "mimetype": "text/x-python",
   "name": "python",
   "nbconvert_exporter": "python",
   "pygments_lexer": "ipython3",
   "version": "3.10.8"
  }
 },
 "nbformat": 4,
 "nbformat_minor": 5
}
