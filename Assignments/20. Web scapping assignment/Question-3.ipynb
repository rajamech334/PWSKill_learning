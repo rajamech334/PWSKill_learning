{
 "cells": [
  {
   "cell_type": "markdown",
   "id": "4cf700d2-ec27-4870-857b-67d9e9251b6f",
   "metadata": {},
   "source": [
    "Q3. What is Beautiful Soup? Why is it used?\n"
   ]
  },
  {
   "cell_type": "markdown",
   "id": "ad9ca616-4794-4e4b-9631-c19189703df1",
   "metadata": {},
   "source": [
    "Ans)\n",
    "\n",
    "Beautiful Soup is a popular Python library used for web scraping purposes. It provides a simple and efficient way to parse HTML and XML documents and extract the data you're interested in.\n",
    "\n",
    "Beautiful Soup is used for a variety of tasks in web scraping, including:\n",
    "\n",
    "1. Parsing HTML and XML documents: Beautiful Soup can be used to parse and extract data from HTML and XML documents, including nested tags, attributes, and text.\n",
    "\n",
    "2. Navigating the document tree: Beautiful Soup provides a variety of methods for navigating the document tree, including finding tags by name, class, or attribute, and navigating up and down the tree.\n",
    "\n",
    "3. Modifying the document: Beautiful Soup can be used to modify the document tree, including adding, modifying, or deleting tags, attributes, and text.\n",
    "\n",
    "4. Handling malformed HTML: Beautiful Soup is designed to handle malformed HTML, including missing closing tags, unescaped special characters, and other common errors."
   ]
  }
 ],
 "metadata": {
  "kernelspec": {
   "display_name": "Python 3 (ipykernel)",
   "language": "python",
   "name": "python3"
  },
  "language_info": {
   "codemirror_mode": {
    "name": "ipython",
    "version": 3
   },
   "file_extension": ".py",
   "mimetype": "text/x-python",
   "name": "python",
   "nbconvert_exporter": "python",
   "pygments_lexer": "ipython3",
   "version": "3.10.8"
  }
 },
 "nbformat": 4,
 "nbformat_minor": 5
}
