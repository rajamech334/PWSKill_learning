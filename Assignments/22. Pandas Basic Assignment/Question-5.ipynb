{
 "cells": [
  {
   "cell_type": "markdown",
   "id": "48a802ac-cf52-4543-916c-9d169e9a883d",
   "metadata": {},
   "source": [
    "Q5. What are some common functions you can use to manipulate data in a Pandas DataFrame? Can\n",
    "you give an example of when you might use one of these functions?\n"
   ]
  },
  {
   "cell_type": "markdown",
   "id": "e189103c-2720-489a-94a9-5cc575c7c700",
   "metadata": {},
   "source": [
    "Ans)\n",
    "\n",
    "Pandas provides many functions for data manipulation in a DataFrame. Here are some of the most common functions:\n",
    "\n",
    "1. head() and tail(): These functions are used to retrieve the first or last n rows of a DataFrame. For example, df.head(5) will return the first 5 rows of the DataFrame df.\n",
    "\n",
    "2. describe(): This function is used to generate descriptive statistics for the DataFrame, such as count, mean, standard deviation, and quartiles. For example, df.describe() will return a summary of statistics for the DataFrame df.\n",
    "\n",
    "3. drop(): This function is used to remove one or more columns or rows from the DataFrame. For example, df.drop('column_name', axis=1) will remove the column with the name 'column_name' from the DataFrame df.\n",
    "\n",
    "4. groupby(): This function is used to group data in the DataFrame based on one or more columns, and then perform aggregation functions (such as mean, sum, count, etc.) on each group. For example, df.groupby('column_name').mean() will group the data in the DataFrame df by the unique values in the column 'column_name', and then calculate the mean for each group.\n",
    "\n",
    "5. merge(): This function is used to join two or more DataFrames based on a common column. For example, if we have two DataFrames df1 and df2 with a common column 'id', we can join them using the syntax pd.merge(df1, df2, on='id').\n",
    "\n",
    "6. apply(): This function is used to apply a function to each element or row/column in the DataFrame. For example, if we want to apply a function my_func to each element in the DataFrame df, we can use the syntax df.apply(my_func).\n",
    "\n",
    "One example of using these functions could be to analyze a dataset of employee salaries. We could use the describe() function to get a summary of statistics for the salary column, then use the groupby() function to group the data by department and calculate the mean salary for each department. We could also use the merge() function to join the employee dataset with a department dataset based on a common department ID column, and then analyze the combined data using the other functions.\n",
    "\n",
    "\n",
    "\n",
    "\n"
   ]
  }
 ],
 "metadata": {
  "kernelspec": {
   "display_name": "Python 3 (ipykernel)",
   "language": "python",
   "name": "python3"
  },
  "language_info": {
   "codemirror_mode": {
    "name": "ipython",
    "version": 3
   },
   "file_extension": ".py",
   "mimetype": "text/x-python",
   "name": "python",
   "nbconvert_exporter": "python",
   "pygments_lexer": "ipython3",
   "version": "3.10.8"
  }
 },
 "nbformat": 4,
 "nbformat_minor": 5
}
