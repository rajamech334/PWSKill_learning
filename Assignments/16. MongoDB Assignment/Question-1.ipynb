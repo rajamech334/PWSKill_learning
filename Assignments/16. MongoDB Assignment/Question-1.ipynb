{
 "cells": [
  {
   "cell_type": "markdown",
   "id": "4d5a6823-002c-4b5e-aae9-8ec056bea2c4",
   "metadata": {},
   "source": [
    "Q1. What is MongoDB? Explain non-relational databases in short. In which scenarios it is preferred to use\n",
    "MongoDB over SQL databases?\n"
   ]
  },
  {
   "cell_type": "markdown",
   "id": "45fb00f6-53e3-40a9-8d2d-447c5b12702f",
   "metadata": {},
   "source": [
    "Ans)\n",
    "\n",
    "MongoDB is a popular document-oriented, NoSQL database system that provides flexible and scalable data storage solutions. It is designed to handle large volumes of data, and allows for the storage and retrieval of structured, semi-structured, and unstructured data.\n",
    "\n",
    "Non-relational databases, also known as NoSQL databases, differ from traditional relational databases in that they do not store data in tables with predefined schemas. Instead, they use various data models such as document-oriented, key-value, graph, or column-family to store data in a more flexible and dynamic way. Non-relational databases are typically more scalable, flexible, and faster than relational databases, making them an attractive option for applications that require high performance and scalability.\n",
    "\n",
    "MongoDB is often preferred over SQL databases in scenarios where:\n",
    "\n",
    "The application requires high scalability and flexibility in terms of data structures and schema.\n",
    "\n",
    "The application needs to store and process large volumes of unstructured or semi-structured data.\n",
    "\n",
    "The application needs to handle real-time data processing and analysis.\n",
    "\n",
    "The application needs to support distributed databases across multiple servers.\n",
    "\n",
    "The development team is more comfortable with JSON-based document-oriented databases."
   ]
  }
 ],
 "metadata": {
  "kernelspec": {
   "display_name": "Python 3 (ipykernel)",
   "language": "python",
   "name": "python3"
  },
  "language_info": {
   "codemirror_mode": {
    "name": "ipython",
    "version": 3
   },
   "file_extension": ".py",
   "mimetype": "text/x-python",
   "name": "python",
   "nbconvert_exporter": "python",
   "pygments_lexer": "ipython3",
   "version": "3.10.8"
  }
 },
 "nbformat": 4,
 "nbformat_minor": 5
}
