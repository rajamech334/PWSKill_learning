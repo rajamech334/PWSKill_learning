{
 "cells": [
  {
   "cell_type": "markdown",
   "id": "2b7708b9-8ad8-4e37-959b-f516f152ee76",
   "metadata": {},
   "source": [
    "Q2) Why threading module used? write the use of the following functions \n",
    "a. activeCount(), \n",
    "b. currentthread(), \n",
    "c. enumerate()"
   ]
  },
  {
   "cell_type": "markdown",
   "id": "011222d2-d659-418e-8404-d60a5c5fa031",
   "metadata": {},
   "source": [
    "Ans)\n",
    "\n",
    "The threading module is used in Python to handle threads. It provides a simple way to create, control, and manage threads. Here are the uses of the following functions in the threading module:\n",
    "\n",
    "activeCount(): This function returns the number of active threads in the current thread's thread object hierarchy. It can be used to check how many threads are currently running in your program.\n",
    "\n",
    "current_thread(): This function returns a reference to the current thread object. It can be used to identify the current thread and access its attributes.\n",
    "\n",
    "enumerate(): This function returns a list of all active thread objects in the current thread's thread object hierarchy. It can be used to get a list of all threads that are currently running in your program"
   ]
  },
  {
   "cell_type": "code",
   "execution_count": null,
   "id": "12bb935e-be4f-44fd-a54d-c0e914dc7d53",
   "metadata": {},
   "outputs": [],
   "source": []
  }
 ],
 "metadata": {
  "kernelspec": {
   "display_name": "Python 3 (ipykernel)",
   "language": "python",
   "name": "python3"
  },
  "language_info": {
   "codemirror_mode": {
    "name": "ipython",
    "version": 3
   },
   "file_extension": ".py",
   "mimetype": "text/x-python",
   "name": "python",
   "nbconvert_exporter": "python",
   "pygments_lexer": "ipython3",
   "version": "3.10.8"
  }
 },
 "nbformat": 4,
 "nbformat_minor": 5
}
