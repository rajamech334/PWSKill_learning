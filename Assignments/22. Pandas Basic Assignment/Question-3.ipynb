{
 "cells": [
  {
   "cell_type": "code",
   "execution_count": null,
   "id": "1f6344a8-f561-4819-acb8-a1c43059559d",
   "metadata": {},
   "outputs": [],
   "source": []
  },
  {
   "cell_type": "code",
   "execution_count": 1,
   "id": "b501d705-eb73-4c17-8ce3-9b85c67162e6",
   "metadata": {},
   "outputs": [
    {
     "name": "stdout",
     "output_type": "stream",
     "text": [
      "         Name  Age  gender\n",
      "Name    Alice   25  Female\n",
      "Age     Alice   25  Female\n",
      "gender  Alice   25  Female\n"
     ]
    }
   ],
   "source": [
    "#ans)\n",
    "\n",
    "import pandas as pd\n",
    "\n",
    "# Create a DataFrame ffor the given data\n",
    "df = pd.DataFrame(\n",
    "    {'Name': 'Alice', 'Age': 25, 'gender': 'Female'},\n",
    "    {'Name': 'Bob', 'Age': 30, 'gender': 'Male'},\n",
    "    {'Name': 'Claire', 'Age': 27, 'gender': 'Female'}\n",
    "                 )\n",
    "\n",
    "print(df)\n",
    "\n"
   ]
  }
 ],
 "metadata": {
  "kernelspec": {
   "display_name": "Python 3 (ipykernel)",
   "language": "python",
   "name": "python3"
  },
  "language_info": {
   "codemirror_mode": {
    "name": "ipython",
    "version": 3
   },
   "file_extension": ".py",
   "mimetype": "text/x-python",
   "name": "python",
   "nbconvert_exporter": "python",
   "pygments_lexer": "ipython3",
   "version": "3.10.8"
  }
 },
 "nbformat": 4,
 "nbformat_minor": 5
}
