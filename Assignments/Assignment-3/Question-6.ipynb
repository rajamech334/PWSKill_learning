{
 "cells": [
  {
   "cell_type": "markdown",
   "id": "2d67302a-f4bb-49e0-8412-6a7cde270718",
   "metadata": {},
   "source": [
    "Yes. in python we can create nested dictionary "
   ]
  },
  {
   "cell_type": "code",
   "execution_count": 1,
   "id": "33c0f11b-9b5b-4928-9a5a-9029873fc74b",
   "metadata": {},
   "outputs": [],
   "source": [
    "Dict = {\"name\": \"Raja\", \"age\" :32,\"Mycourse\":{\"PWSkill\":\"python\"}}"
   ]
  },
  {
   "cell_type": "code",
   "execution_count": 2,
   "id": "702e6552-4975-4919-8f5f-26f0d20e6815",
   "metadata": {},
   "outputs": [
    {
     "name": "stdout",
     "output_type": "stream",
     "text": [
      "{'name': 'Raja', 'age': 32, 'Mycourse': {'PWSkill': 'python'}}\n"
     ]
    }
   ],
   "source": [
    "print(Dict)"
   ]
  }
 ],
 "metadata": {
  "kernelspec": {
   "display_name": "Python 3 (ipykernel)",
   "language": "python",
   "name": "python3"
  },
  "language_info": {
   "codemirror_mode": {
    "name": "ipython",
    "version": 3
   },
   "file_extension": ".py",
   "mimetype": "text/x-python",
   "name": "python",
   "nbconvert_exporter": "python",
   "pygments_lexer": "ipython3",
   "version": "3.10.8"
  }
 },
 "nbformat": 4,
 "nbformat_minor": 5
}
