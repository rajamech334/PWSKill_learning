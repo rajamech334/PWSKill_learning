{
 "cells": [
  {
   "cell_type": "markdown",
   "id": "d060ef3a-4721-4192-96e8-083484c48b1a",
   "metadata": {},
   "source": [
    "Q2. State and Explain the features of MongoDB.\n"
   ]
  },
  {
   "cell_type": "markdown",
   "id": "0344892f-0330-4018-bac0-709d002cf8b4",
   "metadata": {},
   "source": [
    "Ans)\n",
    "\n",
    "Document-oriented data model: MongoDB uses a flexible document data model, which allows for the storage of complex and hierarchical data structures, including arrays, sub-documents, and key-value pairs.\n",
    "\n",
    "Schema-less design: Unlike traditional relational databases, MongoDB does not require a fixed schema, allowing for greater flexibility in data modeling and changes to the schema over time.\n",
    "\n",
    "High performance: MongoDB is designed to handle high volumes of data with low latency and high throughput, making it ideal for real-time applications and large-scale data processing.\n",
    "\n",
    "Scalability: MongoDB offers horizontal scalability by distributing data across multiple servers, allowing it to handle large-scale applications with ease.\n",
    "\n",
    "High availability: MongoDB supports replica sets, which ensure high availability and fault tolerance by maintaining multiple copies of data across multiple servers.\n",
    "\n",
    "Automatic sharding: MongoDB can automatically partition data across multiple servers, making it easier to scale horizontally and distribute data across multiple nodes."
   ]
  }
 ],
 "metadata": {
  "kernelspec": {
   "display_name": "Python 3 (ipykernel)",
   "language": "python",
   "name": "python3"
  },
  "language_info": {
   "codemirror_mode": {
    "name": "ipython",
    "version": 3
   },
   "file_extension": ".py",
   "mimetype": "text/x-python",
   "name": "python",
   "nbconvert_exporter": "python",
   "pygments_lexer": "ipython3",
   "version": "3.10.8"
  }
 },
 "nbformat": 4,
 "nbformat_minor": 5
}
