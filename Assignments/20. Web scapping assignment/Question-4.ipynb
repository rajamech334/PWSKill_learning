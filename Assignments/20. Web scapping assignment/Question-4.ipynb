{
 "cells": [
  {
   "cell_type": "markdown",
   "id": "c44abae1-928e-49c4-bafe-b3153b67bf3e",
   "metadata": {},
   "source": [
    "Q4. Why is flask used in this Web Scraping project?\n"
   ]
  },
  {
   "cell_type": "markdown",
   "id": "4f77c889-e31f-4ce1-9b8d-5565701df457",
   "metadata": {},
   "source": [
    "Ans)\n",
    "\n",
    "Flask is a lightweight and flexible web framework that is often used for building web applications, including those that involve web scraping. Flask provides a simple and intuitive interface for creating web applications, making it easy to set up a web server and handle incoming requests.\n",
    "\n",
    "In the context of a web scraping project, Flask can be used to build a web application that provides a user interface for inputting search queries or other parameters, and then displays the scraped data in a user-friendly format. Flask can also be used to handle data storage and retrieval, as well as to handle user authentication and other security concerns."
   ]
  }
 ],
 "metadata": {
  "kernelspec": {
   "display_name": "Python 3 (ipykernel)",
   "language": "python",
   "name": "python3"
  },
  "language_info": {
   "codemirror_mode": {
    "name": "ipython",
    "version": 3
   },
   "file_extension": ".py",
   "mimetype": "text/x-python",
   "name": "python",
   "nbconvert_exporter": "python",
   "pygments_lexer": "ipython3",
   "version": "3.10.8"
  }
 },
 "nbformat": 4,
 "nbformat_minor": 5
}
