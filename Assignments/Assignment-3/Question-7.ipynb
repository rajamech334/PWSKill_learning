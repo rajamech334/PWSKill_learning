{
 "cells": [
  {
   "cell_type": "code",
   "execution_count": 20,
   "id": "d96ebc1a-d4ae-4095-84c8-966ae9ff5cb2",
   "metadata": {},
   "outputs": [],
   "source": [
    "dict1  = {'language':\"python\",\"course\":\"Data science master\"}"
   ]
  },
  {
   "cell_type": "code",
   "execution_count": 21,
   "id": "95c50732-f8f4-441f-aca3-d7ef28e147af",
   "metadata": {},
   "outputs": [
    {
     "data": {
      "text/plain": [
       "{'language': 'python', 'course': 'Data science master'}"
      ]
     },
     "execution_count": 21,
     "metadata": {},
     "output_type": "execute_result"
    }
   ],
   "source": [
    "dict1"
   ]
  },
  {
   "cell_type": "code",
   "execution_count": 22,
   "id": "ecb589d6-a32e-4b43-8953-adf1ff472810",
   "metadata": {},
   "outputs": [
    {
     "ename": "SyntaxError",
     "evalue": "invalid syntax (2974938684.py, line 1)",
     "output_type": "error",
     "traceback": [
      "\u001b[0;36m  Cell \u001b[0;32mIn[22], line 1\u001b[0;36m\u001b[0m\n\u001b[0;31m    dict1.setdefault(\"topic\":['python','Machine learning','Deep learning'])\u001b[0m\n\u001b[0m                            ^\u001b[0m\n\u001b[0;31mSyntaxError\u001b[0m\u001b[0;31m:\u001b[0m invalid syntax\n"
     ]
    }
   ],
   "source": [
    "dict1.setdefault(\"topic\":['python','Machine learning','Deep learning'])\n"
   ]
  }
 ],
 "metadata": {
  "kernelspec": {
   "display_name": "Python 3 (ipykernel)",
   "language": "python",
   "name": "python3"
  },
  "language_info": {
   "codemirror_mode": {
    "name": "ipython",
    "version": 3
   },
   "file_extension": ".py",
   "mimetype": "text/x-python",
   "name": "python",
   "nbconvert_exporter": "python",
   "pygments_lexer": "ipython3",
   "version": "3.10.8"
  }
 },
 "nbformat": 4,
 "nbformat_minor": 5
}
