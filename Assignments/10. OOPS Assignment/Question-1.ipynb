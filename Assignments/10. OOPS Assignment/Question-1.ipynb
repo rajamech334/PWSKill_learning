{
 "cells": [
  {
   "cell_type": "markdown",
   "id": "03dcaf13-50f2-4128-bd55-54a608f650e2",
   "metadata": {},
   "source": [
    "Q1. Which function is used to open a file? What are the different modes of opening a file? Explain each mode\n",
    "of file opening."
   ]
  },
  {
   "cell_type": "markdown",
   "id": "86b24183-09cb-4b2a-8c55-b12d226729db",
   "metadata": {},
   "source": [
    "Ans)\n",
    "The open() function is used for opening a file in Python. It returns a file object, which can be used to read from or write to the file. The open() function takes two arguments: the file name (including the file path, if the file is not in the current working directory) and the mode in which the file is to be opened (read, write, append, etc.)"
   ]
  }
 ],
 "metadata": {
  "kernelspec": {
   "display_name": "Python 3 (ipykernel)",
   "language": "python",
   "name": "python3"
  },
  "language_info": {
   "codemirror_mode": {
    "name": "ipython",
    "version": 3
   },
   "file_extension": ".py",
   "mimetype": "text/x-python",
   "name": "python",
   "nbconvert_exporter": "python",
   "pygments_lexer": "ipython3",
   "version": "3.10.8"
  }
 },
 "nbformat": 4,
 "nbformat_minor": 5
}
