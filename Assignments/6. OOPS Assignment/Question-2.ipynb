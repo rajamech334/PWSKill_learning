{
 "cells": [
  {
   "cell_type": "markdown",
   "id": "e6630941-278f-4069-a031-cce0237834b5",
   "metadata": {},
   "source": [
    "Q) Name four pillars of oops"
   ]
  },
  {
   "cell_type": "markdown",
   "id": "854887bb-8ea4-4200-9b0f-bd89d1b2a7d6",
   "metadata": {},
   "source": [
    "ans)\n",
    "1. Polymorphisam\n",
    "2. inheritance\n",
    "3. Abstraction\n",
    "4. Encapsulation"
   ]
  }
 ],
 "metadata": {
  "kernelspec": {
   "display_name": "Python 3 (ipykernel)",
   "language": "python",
   "name": "python3"
  },
  "language_info": {
   "codemirror_mode": {
    "name": "ipython",
    "version": 3
   },
   "file_extension": ".py",
   "mimetype": "text/x-python",
   "name": "python",
   "nbconvert_exporter": "python",
   "pygments_lexer": "ipython3",
   "version": "3.10.8"
  }
 },
 "nbformat": 4,
 "nbformat_minor": 5
}
