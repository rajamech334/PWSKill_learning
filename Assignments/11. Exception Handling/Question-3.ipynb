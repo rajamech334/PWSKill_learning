{
 "cells": [
  {
   "cell_type": "markdown",
   "id": "cbaa9b0c-2063-4215-9aa9-6f6e3f85d22e",
   "metadata": {},
   "source": [
    "Q) Which python statements are used to catch and handle exception? explain with an example"
   ]
  },
  {
   "cell_type": "markdown",
   "id": "ee2e4f7d-881d-4957-88f9-9f0e71603c90",
   "metadata": {},
   "source": [
    "Ans)\n",
    "\n",
    "In Python, we can catch and handle exceptions using the try-except statement. The try block contains the code that may raise an exception, and the except block handles the exception if it occurs"
   ]
  },
  {
   "cell_type": "code",
   "execution_count": 1,
   "id": "bb887586-adeb-4acd-b6fb-d9e00ca88b94",
   "metadata": {},
   "outputs": [
    {
     "name": "stdout",
     "output_type": "stream",
     "text": [
      "Invalid input\n"
     ]
    }
   ],
   "source": [
    "# Example of exception handling\n",
    "try:\n",
    "    # code that may raise an exception\n",
    "    x = int(\"a\")\n",
    "except ZeroDivisionError:\n",
    "    # code that handles a ZeroDivisionError\n",
    "    print(\"Cannot divide by zero\")\n",
    "except ValueError:\n",
    "    # code that handles a ValueError\n",
    "    print(\"Invalid input\")\n"
   ]
  }
 ],
 "metadata": {
  "kernelspec": {
   "display_name": "Python 3 (ipykernel)",
   "language": "python",
   "name": "python3"
  },
  "language_info": {
   "codemirror_mode": {
    "name": "ipython",
    "version": 3
   },
   "file_extension": ".py",
   "mimetype": "text/x-python",
   "name": "python",
   "nbconvert_exporter": "python",
   "pygments_lexer": "ipython3",
   "version": "3.10.8"
  }
 },
 "nbformat": 4,
 "nbformat_minor": 5
}
